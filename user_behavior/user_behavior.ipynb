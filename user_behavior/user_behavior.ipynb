{
 "cells": [
  {
   "cell_type": "markdown",
   "id": "1026f2ef",
   "metadata": {},
   "source": [
    "**Проект: Исследование поведения пользователей сервиса аренды самокатов**"
   ]
  },
  {
   "cell_type": "code",
   "execution_count": 1,
   "id": "72576667",
   "metadata": {},
   "outputs": [],
   "source": [
    "import pandas as pd\n",
    "import numpy as np\n",
    "import matplotlib.pyplot as plt\n",
    "import seaborn as sns\n",
    "from scipy import stats as st\n"
   ]
  },
  {
   "cell_type": "markdown",
   "id": "c42cbe00",
   "metadata": {},
   "source": [
    "####  Загрузка данных"
   ]
  },
  {
   "cell_type": "code",
   "execution_count": 2,
   "id": "eff9f206",
   "metadata": {},
   "outputs": [],
   "source": [
    "df_users = pd.read_csv('/datasets/users_go.csv')  # пользователи \n",
    "df_rides = pd.read_csv('/datasets/rides_go.csv') # поездки\n",
    "df_subscriptions = pd.read_csv('/datasets/subscriptions_go.csv') # подписки \n"
   ]
  },
  {
   "cell_type": "code",
   "execution_count": 3,
   "id": "2a737dae",
   "metadata": {},
   "outputs": [],
   "source": [
    "# функция для просмотра основной информации о таблицах\n",
    "def analyze_df(df):\n",
    "    print('5 случайных строк датафрейма')\n",
    "    display(df.sample(5))\n",
    "    print('---------------------------------------------------------------------------------------------------------')\n",
    "    print('Информации о датафрейме')\n",
    "    display(df.info())\n",
    "    print('---------------------------------------------------------------------------------------------------------')\n",
    "    print('Пропуски')\n",
    "    display(df.isna().sum())\n",
    "    print('---------------------------------------------------------------------------------------------------------')\n",
    "    print('Явные дубликаты')\n",
    "    display(df.duplicated().sum())\n",
    "    print('---------------------------------------------------------------------------------------------------------')\n",
    "    print('Проверка количественных значений')\n",
    "    display(df.describe())"
   ]
  },
  {
   "cell_type": "code",
   "execution_count": 4,
   "id": "e8896ba7",
   "metadata": {},
   "outputs": [
    {
     "name": "stdout",
     "output_type": "stream",
     "text": [
      "5 случайных строк датафрейма\n"
     ]
    },
    {
     "data": {
      "text/html": [
       "<div>\n",
       "<style scoped>\n",
       "    .dataframe tbody tr th:only-of-type {\n",
       "        vertical-align: middle;\n",
       "    }\n",
       "\n",
       "    .dataframe tbody tr th {\n",
       "        vertical-align: top;\n",
       "    }\n",
       "\n",
       "    .dataframe thead th {\n",
       "        text-align: right;\n",
       "    }\n",
       "</style>\n",
       "<table border=\"1\" class=\"dataframe\">\n",
       "  <thead>\n",
       "    <tr style=\"text-align: right;\">\n",
       "      <th></th>\n",
       "      <th>user_id</th>\n",
       "      <th>name</th>\n",
       "      <th>age</th>\n",
       "      <th>city</th>\n",
       "      <th>subscription_type</th>\n",
       "    </tr>\n",
       "  </thead>\n",
       "  <tbody>\n",
       "    <tr>\n",
       "      <th>374</th>\n",
       "      <td>375</td>\n",
       "      <td>Алексей</td>\n",
       "      <td>34</td>\n",
       "      <td>Омск</td>\n",
       "      <td>ultra</td>\n",
       "    </tr>\n",
       "    <tr>\n",
       "      <th>1546</th>\n",
       "      <td>924</td>\n",
       "      <td>Мария</td>\n",
       "      <td>23</td>\n",
       "      <td>Пятигорск</td>\n",
       "      <td>free</td>\n",
       "    </tr>\n",
       "    <tr>\n",
       "      <th>183</th>\n",
       "      <td>184</td>\n",
       "      <td>Эльвира</td>\n",
       "      <td>15</td>\n",
       "      <td>Пятигорск</td>\n",
       "      <td>ultra</td>\n",
       "    </tr>\n",
       "    <tr>\n",
       "      <th>186</th>\n",
       "      <td>187</td>\n",
       "      <td>Михаил</td>\n",
       "      <td>28</td>\n",
       "      <td>Пятигорск</td>\n",
       "      <td>ultra</td>\n",
       "    </tr>\n",
       "    <tr>\n",
       "      <th>590</th>\n",
       "      <td>591</td>\n",
       "      <td>Тамара</td>\n",
       "      <td>18</td>\n",
       "      <td>Москва</td>\n",
       "      <td>ultra</td>\n",
       "    </tr>\n",
       "  </tbody>\n",
       "</table>\n",
       "</div>"
      ],
      "text/plain": [
       "      user_id     name  age       city subscription_type\n",
       "374       375  Алексей   34       Омск             ultra\n",
       "1546      924    Мария   23  Пятигорск              free\n",
       "183       184  Эльвира   15  Пятигорск             ultra\n",
       "186       187   Михаил   28  Пятигорск             ultra\n",
       "590       591   Тамара   18     Москва             ultra"
      ]
     },
     "metadata": {},
     "output_type": "display_data"
    },
    {
     "name": "stdout",
     "output_type": "stream",
     "text": [
      "---------------------------------------------------------------------------------------------------------\n",
      "Информации о датафрейме\n",
      "<class 'pandas.core.frame.DataFrame'>\n",
      "RangeIndex: 1565 entries, 0 to 1564\n",
      "Data columns (total 5 columns):\n",
      " #   Column             Non-Null Count  Dtype \n",
      "---  ------             --------------  ----- \n",
      " 0   user_id            1565 non-null   int64 \n",
      " 1   name               1565 non-null   object\n",
      " 2   age                1565 non-null   int64 \n",
      " 3   city               1565 non-null   object\n",
      " 4   subscription_type  1565 non-null   object\n",
      "dtypes: int64(2), object(3)\n",
      "memory usage: 61.3+ KB\n"
     ]
    },
    {
     "data": {
      "text/plain": [
       "None"
      ]
     },
     "metadata": {},
     "output_type": "display_data"
    },
    {
     "name": "stdout",
     "output_type": "stream",
     "text": [
      "---------------------------------------------------------------------------------------------------------\n",
      "Пропуски\n"
     ]
    },
    {
     "data": {
      "text/plain": [
       "user_id              0\n",
       "name                 0\n",
       "age                  0\n",
       "city                 0\n",
       "subscription_type    0\n",
       "dtype: int64"
      ]
     },
     "metadata": {},
     "output_type": "display_data"
    },
    {
     "name": "stdout",
     "output_type": "stream",
     "text": [
      "---------------------------------------------------------------------------------------------------------\n",
      "Явные дубликаты\n"
     ]
    },
    {
     "data": {
      "text/plain": [
       "31"
      ]
     },
     "metadata": {},
     "output_type": "display_data"
    },
    {
     "name": "stdout",
     "output_type": "stream",
     "text": [
      "---------------------------------------------------------------------------------------------------------\n",
      "Проверка количественных значений\n"
     ]
    },
    {
     "data": {
      "text/html": [
       "<div>\n",
       "<style scoped>\n",
       "    .dataframe tbody tr th:only-of-type {\n",
       "        vertical-align: middle;\n",
       "    }\n",
       "\n",
       "    .dataframe tbody tr th {\n",
       "        vertical-align: top;\n",
       "    }\n",
       "\n",
       "    .dataframe thead th {\n",
       "        text-align: right;\n",
       "    }\n",
       "</style>\n",
       "<table border=\"1\" class=\"dataframe\">\n",
       "  <thead>\n",
       "    <tr style=\"text-align: right;\">\n",
       "      <th></th>\n",
       "      <th>user_id</th>\n",
       "      <th>age</th>\n",
       "    </tr>\n",
       "  </thead>\n",
       "  <tbody>\n",
       "    <tr>\n",
       "      <th>count</th>\n",
       "      <td>1565.000000</td>\n",
       "      <td>1565.000000</td>\n",
       "    </tr>\n",
       "    <tr>\n",
       "      <th>mean</th>\n",
       "      <td>762.633866</td>\n",
       "      <td>24.922045</td>\n",
       "    </tr>\n",
       "    <tr>\n",
       "      <th>std</th>\n",
       "      <td>443.260155</td>\n",
       "      <td>4.553496</td>\n",
       "    </tr>\n",
       "    <tr>\n",
       "      <th>min</th>\n",
       "      <td>1.000000</td>\n",
       "      <td>12.000000</td>\n",
       "    </tr>\n",
       "    <tr>\n",
       "      <th>25%</th>\n",
       "      <td>378.000000</td>\n",
       "      <td>22.000000</td>\n",
       "    </tr>\n",
       "    <tr>\n",
       "      <th>50%</th>\n",
       "      <td>762.000000</td>\n",
       "      <td>25.000000</td>\n",
       "    </tr>\n",
       "    <tr>\n",
       "      <th>75%</th>\n",
       "      <td>1146.000000</td>\n",
       "      <td>28.000000</td>\n",
       "    </tr>\n",
       "    <tr>\n",
       "      <th>max</th>\n",
       "      <td>1534.000000</td>\n",
       "      <td>43.000000</td>\n",
       "    </tr>\n",
       "  </tbody>\n",
       "</table>\n",
       "</div>"
      ],
      "text/plain": [
       "           user_id          age\n",
       "count  1565.000000  1565.000000\n",
       "mean    762.633866    24.922045\n",
       "std     443.260155     4.553496\n",
       "min       1.000000    12.000000\n",
       "25%     378.000000    22.000000\n",
       "50%     762.000000    25.000000\n",
       "75%    1146.000000    28.000000\n",
       "max    1534.000000    43.000000"
      ]
     },
     "metadata": {},
     "output_type": "display_data"
    }
   ],
   "source": [
    "analyze_df(df_users)  # пользователи"
   ]
  },
  {
   "cell_type": "code",
   "execution_count": 5,
   "id": "9b64de3c",
   "metadata": {},
   "outputs": [
    {
     "name": "stdout",
     "output_type": "stream",
     "text": [
      "5 случайных строк датафрейма\n"
     ]
    },
    {
     "data": {
      "text/html": [
       "<div>\n",
       "<style scoped>\n",
       "    .dataframe tbody tr th:only-of-type {\n",
       "        vertical-align: middle;\n",
       "    }\n",
       "\n",
       "    .dataframe tbody tr th {\n",
       "        vertical-align: top;\n",
       "    }\n",
       "\n",
       "    .dataframe thead th {\n",
       "        text-align: right;\n",
       "    }\n",
       "</style>\n",
       "<table border=\"1\" class=\"dataframe\">\n",
       "  <thead>\n",
       "    <tr style=\"text-align: right;\">\n",
       "      <th></th>\n",
       "      <th>user_id</th>\n",
       "      <th>distance</th>\n",
       "      <th>duration</th>\n",
       "      <th>date</th>\n",
       "    </tr>\n",
       "  </thead>\n",
       "  <tbody>\n",
       "    <tr>\n",
       "      <th>8882</th>\n",
       "      <td>878</td>\n",
       "      <td>4659.850868</td>\n",
       "      <td>23.532836</td>\n",
       "      <td>2021-06-08</td>\n",
       "    </tr>\n",
       "    <tr>\n",
       "      <th>9348</th>\n",
       "      <td>912</td>\n",
       "      <td>4866.918514</td>\n",
       "      <td>16.273414</td>\n",
       "      <td>2021-03-30</td>\n",
       "    </tr>\n",
       "    <tr>\n",
       "      <th>11850</th>\n",
       "      <td>1090</td>\n",
       "      <td>2484.501728</td>\n",
       "      <td>20.845795</td>\n",
       "      <td>2021-06-14</td>\n",
       "    </tr>\n",
       "    <tr>\n",
       "      <th>15386</th>\n",
       "      <td>1345</td>\n",
       "      <td>4793.487411</td>\n",
       "      <td>16.652194</td>\n",
       "      <td>2021-10-28</td>\n",
       "    </tr>\n",
       "    <tr>\n",
       "      <th>6777</th>\n",
       "      <td>718</td>\n",
       "      <td>4413.412554</td>\n",
       "      <td>31.653650</td>\n",
       "      <td>2021-10-26</td>\n",
       "    </tr>\n",
       "  </tbody>\n",
       "</table>\n",
       "</div>"
      ],
      "text/plain": [
       "       user_id     distance   duration        date\n",
       "8882       878  4659.850868  23.532836  2021-06-08\n",
       "9348       912  4866.918514  16.273414  2021-03-30\n",
       "11850     1090  2484.501728  20.845795  2021-06-14\n",
       "15386     1345  4793.487411  16.652194  2021-10-28\n",
       "6777       718  4413.412554  31.653650  2021-10-26"
      ]
     },
     "metadata": {},
     "output_type": "display_data"
    },
    {
     "name": "stdout",
     "output_type": "stream",
     "text": [
      "---------------------------------------------------------------------------------------------------------\n",
      "Информации о датафрейме\n",
      "<class 'pandas.core.frame.DataFrame'>\n",
      "RangeIndex: 18068 entries, 0 to 18067\n",
      "Data columns (total 4 columns):\n",
      " #   Column    Non-Null Count  Dtype  \n",
      "---  ------    --------------  -----  \n",
      " 0   user_id   18068 non-null  int64  \n",
      " 1   distance  18068 non-null  float64\n",
      " 2   duration  18068 non-null  float64\n",
      " 3   date      18068 non-null  object \n",
      "dtypes: float64(2), int64(1), object(1)\n",
      "memory usage: 564.8+ KB\n"
     ]
    },
    {
     "data": {
      "text/plain": [
       "None"
      ]
     },
     "metadata": {},
     "output_type": "display_data"
    },
    {
     "name": "stdout",
     "output_type": "stream",
     "text": [
      "---------------------------------------------------------------------------------------------------------\n",
      "Пропуски\n"
     ]
    },
    {
     "data": {
      "text/plain": [
       "user_id     0\n",
       "distance    0\n",
       "duration    0\n",
       "date        0\n",
       "dtype: int64"
      ]
     },
     "metadata": {},
     "output_type": "display_data"
    },
    {
     "name": "stdout",
     "output_type": "stream",
     "text": [
      "---------------------------------------------------------------------------------------------------------\n",
      "Явные дубликаты\n"
     ]
    },
    {
     "data": {
      "text/plain": [
       "0"
      ]
     },
     "metadata": {},
     "output_type": "display_data"
    },
    {
     "name": "stdout",
     "output_type": "stream",
     "text": [
      "---------------------------------------------------------------------------------------------------------\n",
      "Проверка количественных значений\n"
     ]
    },
    {
     "data": {
      "text/html": [
       "<div>\n",
       "<style scoped>\n",
       "    .dataframe tbody tr th:only-of-type {\n",
       "        vertical-align: middle;\n",
       "    }\n",
       "\n",
       "    .dataframe tbody tr th {\n",
       "        vertical-align: top;\n",
       "    }\n",
       "\n",
       "    .dataframe thead th {\n",
       "        text-align: right;\n",
       "    }\n",
       "</style>\n",
       "<table border=\"1\" class=\"dataframe\">\n",
       "  <thead>\n",
       "    <tr style=\"text-align: right;\">\n",
       "      <th></th>\n",
       "      <th>user_id</th>\n",
       "      <th>distance</th>\n",
       "      <th>duration</th>\n",
       "    </tr>\n",
       "  </thead>\n",
       "  <tbody>\n",
       "    <tr>\n",
       "      <th>count</th>\n",
       "      <td>18068.000000</td>\n",
       "      <td>18068.000000</td>\n",
       "      <td>18068.000000</td>\n",
       "    </tr>\n",
       "    <tr>\n",
       "      <th>mean</th>\n",
       "      <td>842.869936</td>\n",
       "      <td>3070.659976</td>\n",
       "      <td>17.805011</td>\n",
       "    </tr>\n",
       "    <tr>\n",
       "      <th>std</th>\n",
       "      <td>434.734317</td>\n",
       "      <td>1116.831209</td>\n",
       "      <td>6.091051</td>\n",
       "    </tr>\n",
       "    <tr>\n",
       "      <th>min</th>\n",
       "      <td>1.000000</td>\n",
       "      <td>0.855683</td>\n",
       "      <td>0.500000</td>\n",
       "    </tr>\n",
       "    <tr>\n",
       "      <th>25%</th>\n",
       "      <td>487.000000</td>\n",
       "      <td>2543.226360</td>\n",
       "      <td>13.597563</td>\n",
       "    </tr>\n",
       "    <tr>\n",
       "      <th>50%</th>\n",
       "      <td>889.000000</td>\n",
       "      <td>3133.609994</td>\n",
       "      <td>17.678395</td>\n",
       "    </tr>\n",
       "    <tr>\n",
       "      <th>75%</th>\n",
       "      <td>1213.250000</td>\n",
       "      <td>3776.222735</td>\n",
       "      <td>21.724800</td>\n",
       "    </tr>\n",
       "    <tr>\n",
       "      <th>max</th>\n",
       "      <td>1534.000000</td>\n",
       "      <td>7211.007745</td>\n",
       "      <td>40.823963</td>\n",
       "    </tr>\n",
       "  </tbody>\n",
       "</table>\n",
       "</div>"
      ],
      "text/plain": [
       "            user_id      distance      duration\n",
       "count  18068.000000  18068.000000  18068.000000\n",
       "mean     842.869936   3070.659976     17.805011\n",
       "std      434.734317   1116.831209      6.091051\n",
       "min        1.000000      0.855683      0.500000\n",
       "25%      487.000000   2543.226360     13.597563\n",
       "50%      889.000000   3133.609994     17.678395\n",
       "75%     1213.250000   3776.222735     21.724800\n",
       "max     1534.000000   7211.007745     40.823963"
      ]
     },
     "metadata": {},
     "output_type": "display_data"
    }
   ],
   "source": [
    "analyze_df(df_rides) # поездки"
   ]
  },
  {
   "cell_type": "code",
   "execution_count": 6,
   "id": "9bf1d524",
   "metadata": {},
   "outputs": [
    {
     "data": {
      "text/html": [
       "<div>\n",
       "<style scoped>\n",
       "    .dataframe tbody tr th:only-of-type {\n",
       "        vertical-align: middle;\n",
       "    }\n",
       "\n",
       "    .dataframe tbody tr th {\n",
       "        vertical-align: top;\n",
       "    }\n",
       "\n",
       "    .dataframe thead th {\n",
       "        text-align: right;\n",
       "    }\n",
       "</style>\n",
       "<table border=\"1\" class=\"dataframe\">\n",
       "  <thead>\n",
       "    <tr style=\"text-align: right;\">\n",
       "      <th></th>\n",
       "      <th>subscription_type</th>\n",
       "      <th>minute_price</th>\n",
       "      <th>start_ride_price</th>\n",
       "      <th>subscription_fee</th>\n",
       "    </tr>\n",
       "  </thead>\n",
       "  <tbody>\n",
       "    <tr>\n",
       "      <th>0</th>\n",
       "      <td>free</td>\n",
       "      <td>8</td>\n",
       "      <td>50</td>\n",
       "      <td>0</td>\n",
       "    </tr>\n",
       "    <tr>\n",
       "      <th>1</th>\n",
       "      <td>ultra</td>\n",
       "      <td>6</td>\n",
       "      <td>0</td>\n",
       "      <td>199</td>\n",
       "    </tr>\n",
       "  </tbody>\n",
       "</table>\n",
       "</div>"
      ],
      "text/plain": [
       "  subscription_type  minute_price  start_ride_price  subscription_fee\n",
       "0              free             8                50                 0\n",
       "1             ultra             6                 0               199"
      ]
     },
     "execution_count": 6,
     "metadata": {},
     "output_type": "execute_result"
    }
   ],
   "source": [
    "df_subscriptions # подписки"
   ]
  },
  {
   "cell_type": "code",
   "execution_count": 7,
   "id": "70186260",
   "metadata": {},
   "outputs": [
    {
     "name": "stdout",
     "output_type": "stream",
     "text": [
      "<class 'pandas.core.frame.DataFrame'>\n",
      "RangeIndex: 2 entries, 0 to 1\n",
      "Data columns (total 4 columns):\n",
      " #   Column             Non-Null Count  Dtype \n",
      "---  ------             --------------  ----- \n",
      " 0   subscription_type  2 non-null      object\n",
      " 1   minute_price       2 non-null      int64 \n",
      " 2   start_ride_price   2 non-null      int64 \n",
      " 3   subscription_fee   2 non-null      int64 \n",
      "dtypes: int64(3), object(1)\n",
      "memory usage: 192.0+ bytes\n"
     ]
    }
   ],
   "source": [
    "df_subscriptions.info()"
   ]
  },
  {
   "cell_type": "markdown",
   "id": "e95ebca7",
   "metadata": {},
   "source": [
    "#### Предобработка данных"
   ]
  },
  {
   "cell_type": "code",
   "execution_count": 8,
   "id": "d710ef83",
   "metadata": {},
   "outputs": [
    {
     "name": "stdout",
     "output_type": "stream",
     "text": [
      "<class 'pandas.core.frame.DataFrame'>\n",
      "RangeIndex: 18068 entries, 0 to 18067\n",
      "Data columns (total 4 columns):\n",
      " #   Column    Non-Null Count  Dtype         \n",
      "---  ------    --------------  -----         \n",
      " 0   user_id   18068 non-null  int64         \n",
      " 1   distance  18068 non-null  float64       \n",
      " 2   duration  18068 non-null  float64       \n",
      " 3   date      18068 non-null  datetime64[ns]\n",
      "dtypes: datetime64[ns](1), float64(2), int64(1)\n",
      "memory usage: 564.8 KB\n"
     ]
    }
   ],
   "source": [
    "# преобразование типа данных в дату\n",
    "df_rides['date'] = pd.to_datetime(df_rides['date'])\n",
    "\n",
    "df_rides.info()"
   ]
  },
  {
   "cell_type": "code",
   "execution_count": 9,
   "id": "e9d6d033",
   "metadata": {},
   "outputs": [
    {
     "data": {
      "text/plain": [
       "Timestamp('2021-01-01 00:00:00')"
      ]
     },
     "execution_count": 9,
     "metadata": {},
     "output_type": "execute_result"
    }
   ],
   "source": [
    "df_rides['date'].min()"
   ]
  },
  {
   "cell_type": "code",
   "execution_count": 10,
   "id": "16b0cc4c",
   "metadata": {},
   "outputs": [
    {
     "data": {
      "text/plain": [
       "Timestamp('2021-12-30 00:00:00')"
      ]
     },
     "execution_count": 10,
     "metadata": {},
     "output_type": "execute_result"
    }
   ],
   "source": [
    "df_rides['date'].max()"
   ]
  },
  {
   "cell_type": "code",
   "execution_count": 11,
   "id": "eb0a251f",
   "metadata": {},
   "outputs": [
    {
     "data": {
      "text/html": [
       "<div>\n",
       "<style scoped>\n",
       "    .dataframe tbody tr th:only-of-type {\n",
       "        vertical-align: middle;\n",
       "    }\n",
       "\n",
       "    .dataframe tbody tr th {\n",
       "        vertical-align: top;\n",
       "    }\n",
       "\n",
       "    .dataframe thead th {\n",
       "        text-align: right;\n",
       "    }\n",
       "</style>\n",
       "<table border=\"1\" class=\"dataframe\">\n",
       "  <thead>\n",
       "    <tr style=\"text-align: right;\">\n",
       "      <th></th>\n",
       "      <th>user_id</th>\n",
       "      <th>distance</th>\n",
       "      <th>duration</th>\n",
       "      <th>date</th>\n",
       "      <th>month</th>\n",
       "    </tr>\n",
       "  </thead>\n",
       "  <tbody>\n",
       "    <tr>\n",
       "      <th>7709</th>\n",
       "      <td>786</td>\n",
       "      <td>361.149468</td>\n",
       "      <td>13.140472</td>\n",
       "      <td>2021-09-03</td>\n",
       "      <td>9</td>\n",
       "    </tr>\n",
       "    <tr>\n",
       "      <th>59</th>\n",
       "      <td>5</td>\n",
       "      <td>3218.515955</td>\n",
       "      <td>19.724438</td>\n",
       "      <td>2021-10-07</td>\n",
       "      <td>10</td>\n",
       "    </tr>\n",
       "    <tr>\n",
       "      <th>4230</th>\n",
       "      <td>457</td>\n",
       "      <td>2989.493493</td>\n",
       "      <td>17.798679</td>\n",
       "      <td>2021-01-14</td>\n",
       "      <td>1</td>\n",
       "    </tr>\n",
       "    <tr>\n",
       "      <th>2826</th>\n",
       "      <td>302</td>\n",
       "      <td>1004.882613</td>\n",
       "      <td>13.546645</td>\n",
       "      <td>2021-07-21</td>\n",
       "      <td>7</td>\n",
       "    </tr>\n",
       "    <tr>\n",
       "      <th>14849</th>\n",
       "      <td>1306</td>\n",
       "      <td>1727.864199</td>\n",
       "      <td>13.936755</td>\n",
       "      <td>2021-08-14</td>\n",
       "      <td>8</td>\n",
       "    </tr>\n",
       "  </tbody>\n",
       "</table>\n",
       "</div>"
      ],
      "text/plain": [
       "       user_id     distance   duration       date  month\n",
       "7709       786   361.149468  13.140472 2021-09-03      9\n",
       "59           5  3218.515955  19.724438 2021-10-07     10\n",
       "4230       457  2989.493493  17.798679 2021-01-14      1\n",
       "2826       302  1004.882613  13.546645 2021-07-21      7\n",
       "14849     1306  1727.864199  13.936755 2021-08-14      8"
      ]
     },
     "execution_count": 11,
     "metadata": {},
     "output_type": "execute_result"
    }
   ],
   "source": [
    "# Создаем новый столбец 'month' с номером  месяца \n",
    "df_rides['month'] = df_rides['date'].dt.month\n",
    "\n",
    "df_rides.sample(5)"
   ]
  },
  {
   "cell_type": "code",
   "execution_count": 12,
   "id": "c7f28a10",
   "metadata": {},
   "outputs": [
    {
     "data": {
      "text/plain": [
       "0"
      ]
     },
     "execution_count": 12,
     "metadata": {},
     "output_type": "execute_result"
    }
   ],
   "source": [
    "# Удаляем явные дубликаты\n",
    "df_users = df_users.drop_duplicates()\n",
    "\n",
    "df_users.duplicated().sum()"
   ]
  },
  {
   "cell_type": "code",
   "execution_count": 13,
   "id": "5b85fb4a",
   "metadata": {},
   "outputs": [
    {
     "data": {
      "text/html": [
       "<div>\n",
       "<style scoped>\n",
       "    .dataframe tbody tr th:only-of-type {\n",
       "        vertical-align: middle;\n",
       "    }\n",
       "\n",
       "    .dataframe tbody tr th {\n",
       "        vertical-align: top;\n",
       "    }\n",
       "\n",
       "    .dataframe thead th {\n",
       "        text-align: right;\n",
       "    }\n",
       "</style>\n",
       "<table border=\"1\" class=\"dataframe\">\n",
       "  <thead>\n",
       "    <tr style=\"text-align: right;\">\n",
       "      <th></th>\n",
       "      <th>user_id</th>\n",
       "      <th>name</th>\n",
       "      <th>age</th>\n",
       "      <th>city</th>\n",
       "      <th>subscription_type</th>\n",
       "    </tr>\n",
       "  </thead>\n",
       "  <tbody>\n",
       "  </tbody>\n",
       "</table>\n",
       "</div>"
      ],
      "text/plain": [
       "Empty DataFrame\n",
       "Columns: [user_id, name, age, city, subscription_type]\n",
       "Index: []"
      ]
     },
     "execution_count": 13,
     "metadata": {},
     "output_type": "execute_result"
    }
   ],
   "source": [
    "df_users[df_users['user_id'].duplicated(keep=False)].sort_values(by='user_id')"
   ]
  },
  {
   "cell_type": "markdown",
   "id": "621091eb",
   "metadata": {},
   "source": [
    "**Удалены явные дубликаты в таблице df_users.  \n",
    "Преобразован тип данных в дату в таблице df_rides.  \n",
    "Создан новый столбец с номером месяца (данные за один год).  \n",
    "Других проблем не выявлено .**"
   ]
  },
  {
   "cell_type": "markdown",
   "id": "212593c7",
   "metadata": {},
   "source": [
    "####  Исследовательский анализ данных"
   ]
  },
  {
   "cell_type": "markdown",
   "id": "1caf4595",
   "metadata": {},
   "source": [
    "Общая информация о пользователях и поездках"
   ]
  },
  {
   "cell_type": "markdown",
   "id": "a3c34c06",
   "metadata": {},
   "source": [
    "3.1 Частота встречаемости городов"
   ]
  },
  {
   "cell_type": "code",
   "execution_count": 14,
   "id": "42e83125",
   "metadata": {},
   "outputs": [
    {
     "data": {
      "text/plain": [
       "Пятигорск         0.142764\n",
       "Екатеринбург      0.132986\n",
       "Ростов-на-Дону    0.129074\n",
       "Краснодар         0.125815\n",
       "Сочи              0.123207\n",
       "Омск              0.119296\n",
       "Тюмень            0.117340\n",
       "Москва            0.109518\n",
       "Name: city, dtype: float64"
      ]
     },
     "execution_count": 14,
     "metadata": {},
     "output_type": "execute_result"
    }
   ],
   "source": [
    "df_users['city'].value_counts(normalize=True)"
   ]
  },
  {
   "cell_type": "code",
   "execution_count": 15,
   "id": "4195892f",
   "metadata": {},
   "outputs": [
    {
     "data": {
      "image/png": "[encoded data removed]",
      "text/plain": [
       "<Figure size 720x432 with 1 Axes>"
      ]
     },
     "metadata": {
      "needs_background": "light"
     },
     "output_type": "display_data"
    }
   ],
   "source": [
    "city_counts = df_users['city'].value_counts()\n",
    "plt.figure(figsize=(10, 6))\n",
    "sns.barplot(x=city_counts.values, y=city_counts.index, palette='pastel')\n",
    "plt.title('Количество пользователей по городам')\n",
    "plt.xlabel('Количество пользователей')\n",
    "plt.ylabel('Город')\n",
    "plt.grid(axis='x')\n",
    "plt.show()\n"
   ]
  },
  {
   "cell_type": "markdown",
   "id": "15f6e8f5",
   "metadata": {},
   "source": [
    "**Больше всего пользователей зарегистрировано в Пятигорске, меньше всего — в Москве. В остальных городах количество пользователей распределено равномерно.**"
   ]
  },
  {
   "cell_type": "markdown",
   "id": "41588e02",
   "metadata": {},
   "source": [
    "3.2 Соотношение пользователей с подпиской и без подписки"
   ]
  },
  {
   "cell_type": "code",
   "execution_count": 16,
   "id": "34f7132f",
   "metadata": {},
   "outputs": [
    {
     "data": {
      "image/png": "[encoded data removed]",
      "text/plain": [
       "<Figure size 720x432 with 1 Axes>"
      ]
     },
     "metadata": {},
     "output_type": "display_data"
    }
   ],
   "source": [
    "subscription_counts = df_users['subscription_type'].value_counts(normalize=True)\n",
    "\n",
    "\n",
    "labels = ['С подпиской' if x == 'ultra' else 'Без подписки' for x in subscription_counts.index]\n",
    "plt.figure(figsize=(10, 6))\n",
    "plt.pie(subscription_counts, labels=labels, autopct='%1.1f%%', startangle=90, colors=sns.color_palette(\"pastel\"))\n",
    "plt.title('Распределение типов подписок')\n",
    "plt.show()\n"
   ]
  },
  {
   "cell_type": "markdown",
   "id": "75a46b6c",
   "metadata": {},
   "source": [
    "**Подписчиков на 8,8% меньше, чем пользователей без подписки.**"
   ]
  },
  {
   "cell_type": "markdown",
   "id": "5cc86a29",
   "metadata": {},
   "source": [
    "3.3 Возраст пользователей"
   ]
  },
  {
   "cell_type": "code",
   "execution_count": 17,
   "id": "68271943",
   "metadata": {},
   "outputs": [
    {
     "data": {
      "text/plain": [
       "count    1534.000000\n",
       "mean       24.903520\n",
       "std         4.572367\n",
       "min        12.000000\n",
       "25%        22.000000\n",
       "50%        25.000000\n",
       "75%        28.000000\n",
       "max        43.000000\n",
       "Name: age, dtype: float64"
      ]
     },
     "execution_count": 17,
     "metadata": {},
     "output_type": "execute_result"
    }
   ],
   "source": [
    "df_users['age'].describe()"
   ]
  },
  {
   "cell_type": "code",
   "execution_count": 18,
   "id": "c4641441",
   "metadata": {},
   "outputs": [
    {
     "data": {
      "image/png": "[encoded data removed]",
      "text/plain": [
       "<Figure size 720x432 with 1 Axes>"
      ]
     },
     "metadata": {
      "needs_background": "light"
     },
     "output_type": "display_data"
    }
   ],
   "source": [
    "plt.figure(figsize=(10, 6))\n",
    "sns.histplot(df_users['age'], kde=True)\n",
    "plt.title('Распределение возрастов пользователей')\n",
    "plt.xlabel('Возраст')\n",
    "plt.ylabel('Количество пользователей')\n",
    "plt.grid(axis='y')\n",
    "plt.show()\n"
   ]
  },
  {
   "cell_type": "markdown",
   "id": "ee797285",
   "metadata": {},
   "source": [
    "**Распределение возраста пользователей сервиса подчиняется нормальному распределению, в основном им по 25 лет.**"
   ]
  },
  {
   "cell_type": "markdown",
   "id": "b9a90746",
   "metadata": {},
   "source": [
    " 3.4 Расстояние, которое пользователь преодолел за одну поездку "
   ]
  },
  {
   "cell_type": "code",
   "execution_count": 19,
   "id": "90746807",
   "metadata": {},
   "outputs": [
    {
     "data": {
      "text/plain": [
       "count    18068.000000\n",
       "mean      3070.659976\n",
       "std       1116.831209\n",
       "min          0.855683\n",
       "25%       2543.226360\n",
       "50%       3133.609994\n",
       "75%       3776.222735\n",
       "max       7211.007745\n",
       "Name: distance, dtype: float64"
      ]
     },
     "execution_count": 19,
     "metadata": {},
     "output_type": "execute_result"
    }
   ],
   "source": [
    "df_rides['distance'].describe()"
   ]
  },
  {
   "cell_type": "code",
   "execution_count": 20,
   "id": "409b9431",
   "metadata": {},
   "outputs": [
    {
     "data": {
      "image/png": "[encoded data removed]",
      "text/plain": [
       "<Figure size 720x432 with 1 Axes>"
      ]
     },
     "metadata": {
      "needs_background": "light"
     },
     "output_type": "display_data"
    }
   ],
   "source": [
    "plt.figure(figsize=(10, 6))\n",
    "sns.histplot(df_rides['distance'], kde=True)\n",
    "plt.title('Распределение расстояний за одну поездку')\n",
    "plt.xlabel('Расстояние (метры)')\n",
    "plt.ylabel('Количество поездок')\n",
    "plt.grid(axis='y')\n",
    "plt.show()\n"
   ]
  },
  {
   "cell_type": "markdown",
   "id": "938daf48",
   "metadata": {},
   "source": [
    "**Медиана расстояния за одну поездку составляет 3,13 км. Подчиняется нормальному распределению.**"
   ]
  },
  {
   "cell_type": "markdown",
   "id": "20e454a9",
   "metadata": {},
   "source": [
    "3.5 Продолжительность поездок"
   ]
  },
  {
   "cell_type": "code",
   "execution_count": 21,
   "id": "0a7f696e",
   "metadata": {},
   "outputs": [
    {
     "data": {
      "text/plain": [
       "count    18068.000000\n",
       "mean        17.805011\n",
       "std          6.091051\n",
       "min          0.500000\n",
       "25%         13.597563\n",
       "50%         17.678395\n",
       "75%         21.724800\n",
       "max         40.823963\n",
       "Name: duration, dtype: float64"
      ]
     },
     "execution_count": 21,
     "metadata": {},
     "output_type": "execute_result"
    }
   ],
   "source": [
    "df_rides['duration'].describe()"
   ]
  },
  {
   "cell_type": "code",
   "execution_count": 22,
   "id": "b50040a0",
   "metadata": {},
   "outputs": [
    {
     "data": {
      "image/png": "[encoded data removed]",
      "text/plain": [
       "<Figure size 720x432 with 1 Axes>"
      ]
     },
     "metadata": {
      "needs_background": "light"
     },
     "output_type": "display_data"
    }
   ],
   "source": [
    "plt.figure(figsize=(10, 6))\n",
    "sns.histplot(df_rides['duration'], kde=True)\n",
    "plt.title('Распределение длительности поездок')\n",
    "plt.xlabel('Длительность (в минутах)')\n",
    "plt.ylabel('Количество поездок')\n",
    "plt.grid(axis='y')\n",
    "plt.show()\n"
   ]
  },
  {
   "cell_type": "code",
   "execution_count": 23,
   "id": "1ecce7f4",
   "metadata": {},
   "outputs": [
    {
     "data": {
      "text/plain": [
       "count      95.000000\n",
       "mean     5113.176549\n",
       "std       658.254104\n",
       "min      4030.308008\n",
       "25%      4611.510820\n",
       "50%      5052.769411\n",
       "75%      5488.459099\n",
       "max      7211.007745\n",
       "Name: distance, dtype: float64"
      ]
     },
     "execution_count": 23,
     "metadata": {},
     "output_type": "execute_result"
    }
   ],
   "source": [
    "df_rides[df_rides['duration'] == 0.5]['distance'].describe()"
   ]
  },
  {
   "cell_type": "markdown",
   "id": "512ff703",
   "metadata": {},
   "source": [
    "**Поездка в среднем длится 17,8 мин, медиана — 17,6, разница несущественная. Распределение нормальное.  \n",
    "95 поездок заняли всего полминуты, при этом пользователи проехали расстояние от 4 км. Самокаты не могут развивать такую скорость. Стоит обратить на это внимание.**"
   ]
  },
  {
   "cell_type": "markdown",
   "id": "4ef51331",
   "metadata": {},
   "source": [
    "#### Объединение данных"
   ]
  },
  {
   "cell_type": "markdown",
   "id": "03af6187",
   "metadata": {},
   "source": [
    "4.1 Объединение данных о пользователях, поездках и подписках в один датафрейм.\n"
   ]
  },
  {
   "cell_type": "code",
   "execution_count": 24,
   "id": "13caef75",
   "metadata": {},
   "outputs": [
    {
     "data": {
      "text/html": [
       "<div>\n",
       "<style scoped>\n",
       "    .dataframe tbody tr th:only-of-type {\n",
       "        vertical-align: middle;\n",
       "    }\n",
       "\n",
       "    .dataframe tbody tr th {\n",
       "        vertical-align: top;\n",
       "    }\n",
       "\n",
       "    .dataframe thead th {\n",
       "        text-align: right;\n",
       "    }\n",
       "</style>\n",
       "<table border=\"1\" class=\"dataframe\">\n",
       "  <thead>\n",
       "    <tr style=\"text-align: right;\">\n",
       "      <th></th>\n",
       "      <th>user_id</th>\n",
       "      <th>name</th>\n",
       "      <th>age</th>\n",
       "      <th>city</th>\n",
       "      <th>subscription_type</th>\n",
       "      <th>distance</th>\n",
       "      <th>duration</th>\n",
       "      <th>date</th>\n",
       "      <th>month</th>\n",
       "      <th>minute_price</th>\n",
       "      <th>start_ride_price</th>\n",
       "      <th>subscription_fee</th>\n",
       "    </tr>\n",
       "  </thead>\n",
       "  <tbody>\n",
       "    <tr>\n",
       "      <th>0</th>\n",
       "      <td>1</td>\n",
       "      <td>Кира</td>\n",
       "      <td>22</td>\n",
       "      <td>Тюмень</td>\n",
       "      <td>ultra</td>\n",
       "      <td>4409.919140</td>\n",
       "      <td>25.599769</td>\n",
       "      <td>2021-01-01</td>\n",
       "      <td>1</td>\n",
       "      <td>6</td>\n",
       "      <td>0</td>\n",
       "      <td>199</td>\n",
       "    </tr>\n",
       "    <tr>\n",
       "      <th>1</th>\n",
       "      <td>1</td>\n",
       "      <td>Кира</td>\n",
       "      <td>22</td>\n",
       "      <td>Тюмень</td>\n",
       "      <td>ultra</td>\n",
       "      <td>2617.592153</td>\n",
       "      <td>15.816871</td>\n",
       "      <td>2021-01-18</td>\n",
       "      <td>1</td>\n",
       "      <td>6</td>\n",
       "      <td>0</td>\n",
       "      <td>199</td>\n",
       "    </tr>\n",
       "    <tr>\n",
       "      <th>2</th>\n",
       "      <td>1</td>\n",
       "      <td>Кира</td>\n",
       "      <td>22</td>\n",
       "      <td>Тюмень</td>\n",
       "      <td>ultra</td>\n",
       "      <td>754.159807</td>\n",
       "      <td>6.232113</td>\n",
       "      <td>2021-04-20</td>\n",
       "      <td>4</td>\n",
       "      <td>6</td>\n",
       "      <td>0</td>\n",
       "      <td>199</td>\n",
       "    </tr>\n",
       "    <tr>\n",
       "      <th>3</th>\n",
       "      <td>1</td>\n",
       "      <td>Кира</td>\n",
       "      <td>22</td>\n",
       "      <td>Тюмень</td>\n",
       "      <td>ultra</td>\n",
       "      <td>2694.783254</td>\n",
       "      <td>18.511000</td>\n",
       "      <td>2021-08-11</td>\n",
       "      <td>8</td>\n",
       "      <td>6</td>\n",
       "      <td>0</td>\n",
       "      <td>199</td>\n",
       "    </tr>\n",
       "    <tr>\n",
       "      <th>4</th>\n",
       "      <td>1</td>\n",
       "      <td>Кира</td>\n",
       "      <td>22</td>\n",
       "      <td>Тюмень</td>\n",
       "      <td>ultra</td>\n",
       "      <td>4028.687306</td>\n",
       "      <td>26.265803</td>\n",
       "      <td>2021-08-28</td>\n",
       "      <td>8</td>\n",
       "      <td>6</td>\n",
       "      <td>0</td>\n",
       "      <td>199</td>\n",
       "    </tr>\n",
       "    <tr>\n",
       "      <th>...</th>\n",
       "      <td>...</td>\n",
       "      <td>...</td>\n",
       "      <td>...</td>\n",
       "      <td>...</td>\n",
       "      <td>...</td>\n",
       "      <td>...</td>\n",
       "      <td>...</td>\n",
       "      <td>...</td>\n",
       "      <td>...</td>\n",
       "      <td>...</td>\n",
       "      <td>...</td>\n",
       "      <td>...</td>\n",
       "    </tr>\n",
       "    <tr>\n",
       "      <th>18063</th>\n",
       "      <td>1534</td>\n",
       "      <td>Альберт</td>\n",
       "      <td>25</td>\n",
       "      <td>Краснодар</td>\n",
       "      <td>free</td>\n",
       "      <td>3781.098080</td>\n",
       "      <td>19.822962</td>\n",
       "      <td>2021-11-04</td>\n",
       "      <td>11</td>\n",
       "      <td>8</td>\n",
       "      <td>50</td>\n",
       "      <td>0</td>\n",
       "    </tr>\n",
       "    <tr>\n",
       "      <th>18064</th>\n",
       "      <td>1534</td>\n",
       "      <td>Альберт</td>\n",
       "      <td>25</td>\n",
       "      <td>Краснодар</td>\n",
       "      <td>free</td>\n",
       "      <td>2840.423057</td>\n",
       "      <td>21.409799</td>\n",
       "      <td>2021-11-16</td>\n",
       "      <td>11</td>\n",
       "      <td>8</td>\n",
       "      <td>50</td>\n",
       "      <td>0</td>\n",
       "    </tr>\n",
       "    <tr>\n",
       "      <th>18065</th>\n",
       "      <td>1534</td>\n",
       "      <td>Альберт</td>\n",
       "      <td>25</td>\n",
       "      <td>Краснодар</td>\n",
       "      <td>free</td>\n",
       "      <td>3826.185507</td>\n",
       "      <td>18.435051</td>\n",
       "      <td>2021-11-18</td>\n",
       "      <td>11</td>\n",
       "      <td>8</td>\n",
       "      <td>50</td>\n",
       "      <td>0</td>\n",
       "    </tr>\n",
       "    <tr>\n",
       "      <th>18066</th>\n",
       "      <td>1534</td>\n",
       "      <td>Альберт</td>\n",
       "      <td>25</td>\n",
       "      <td>Краснодар</td>\n",
       "      <td>free</td>\n",
       "      <td>2902.308661</td>\n",
       "      <td>16.674362</td>\n",
       "      <td>2021-11-27</td>\n",
       "      <td>11</td>\n",
       "      <td>8</td>\n",
       "      <td>50</td>\n",
       "      <td>0</td>\n",
       "    </tr>\n",
       "    <tr>\n",
       "      <th>18067</th>\n",
       "      <td>1534</td>\n",
       "      <td>Альберт</td>\n",
       "      <td>25</td>\n",
       "      <td>Краснодар</td>\n",
       "      <td>free</td>\n",
       "      <td>2371.711192</td>\n",
       "      <td>15.893917</td>\n",
       "      <td>2021-12-29</td>\n",
       "      <td>12</td>\n",
       "      <td>8</td>\n",
       "      <td>50</td>\n",
       "      <td>0</td>\n",
       "    </tr>\n",
       "  </tbody>\n",
       "</table>\n",
       "<p>18068 rows × 12 columns</p>\n",
       "</div>"
      ],
      "text/plain": [
       "       user_id     name  age       city subscription_type     distance  \\\n",
       "0            1     Кира   22     Тюмень             ultra  4409.919140   \n",
       "1            1     Кира   22     Тюмень             ultra  2617.592153   \n",
       "2            1     Кира   22     Тюмень             ultra   754.159807   \n",
       "3            1     Кира   22     Тюмень             ultra  2694.783254   \n",
       "4            1     Кира   22     Тюмень             ultra  4028.687306   \n",
       "...        ...      ...  ...        ...               ...          ...   \n",
       "18063     1534  Альберт   25  Краснодар              free  3781.098080   \n",
       "18064     1534  Альберт   25  Краснодар              free  2840.423057   \n",
       "18065     1534  Альберт   25  Краснодар              free  3826.185507   \n",
       "18066     1534  Альберт   25  Краснодар              free  2902.308661   \n",
       "18067     1534  Альберт   25  Краснодар              free  2371.711192   \n",
       "\n",
       "        duration       date  month  minute_price  start_ride_price  \\\n",
       "0      25.599769 2021-01-01      1             6                 0   \n",
       "1      15.816871 2021-01-18      1             6                 0   \n",
       "2       6.232113 2021-04-20      4             6                 0   \n",
       "3      18.511000 2021-08-11      8             6                 0   \n",
       "4      26.265803 2021-08-28      8             6                 0   \n",
       "...          ...        ...    ...           ...               ...   \n",
       "18063  19.822962 2021-11-04     11             8                50   \n",
       "18064  21.409799 2021-11-16     11             8                50   \n",
       "18065  18.435051 2021-11-18     11             8                50   \n",
       "18066  16.674362 2021-11-27     11             8                50   \n",
       "18067  15.893917 2021-12-29     12             8                50   \n",
       "\n",
       "       subscription_fee  \n",
       "0                   199  \n",
       "1                   199  \n",
       "2                   199  \n",
       "3                   199  \n",
       "4                   199  \n",
       "...                 ...  \n",
       "18063                 0  \n",
       "18064                 0  \n",
       "18065                 0  \n",
       "18066                 0  \n",
       "18067                 0  \n",
       "\n",
       "[18068 rows x 12 columns]"
      ]
     },
     "execution_count": 24,
     "metadata": {},
     "output_type": "execute_result"
    }
   ],
   "source": [
    "merged_df = pd.merge(df_users, df_rides, on='user_id', how='inner')\n",
    "\n",
    "# Объединение DataFrame по столбцу 'subscription_type'\n",
    "merged_df = pd.merge(merged_df, df_subscriptions, on='subscription_type', how='inner')\n",
    "\n",
    "merged_df"
   ]
  },
  {
   "cell_type": "markdown",
   "id": "ce1bf707",
   "metadata": {},
   "source": [
    "4.2 Создание двух датафреймав из датафрейма, созданного на этапе 4.1:"
   ]
  },
  {
   "cell_type": "code",
   "execution_count": 25,
   "id": "b2d7be77",
   "metadata": {},
   "outputs": [
    {
     "data": {
      "text/html": [
       "<div>\n",
       "<style scoped>\n",
       "    .dataframe tbody tr th:only-of-type {\n",
       "        vertical-align: middle;\n",
       "    }\n",
       "\n",
       "    .dataframe tbody tr th {\n",
       "        vertical-align: top;\n",
       "    }\n",
       "\n",
       "    .dataframe thead th {\n",
       "        text-align: right;\n",
       "    }\n",
       "</style>\n",
       "<table border=\"1\" class=\"dataframe\">\n",
       "  <thead>\n",
       "    <tr style=\"text-align: right;\">\n",
       "      <th></th>\n",
       "      <th>user_id</th>\n",
       "      <th>name</th>\n",
       "      <th>age</th>\n",
       "      <th>city</th>\n",
       "      <th>subscription_type</th>\n",
       "      <th>distance</th>\n",
       "      <th>duration</th>\n",
       "      <th>date</th>\n",
       "      <th>month</th>\n",
       "      <th>minute_price</th>\n",
       "      <th>start_ride_price</th>\n",
       "      <th>subscription_fee</th>\n",
       "    </tr>\n",
       "  </thead>\n",
       "  <tbody>\n",
       "    <tr>\n",
       "      <th>0</th>\n",
       "      <td>1</td>\n",
       "      <td>Кира</td>\n",
       "      <td>22</td>\n",
       "      <td>Тюмень</td>\n",
       "      <td>ultra</td>\n",
       "      <td>4409.919140</td>\n",
       "      <td>25.599769</td>\n",
       "      <td>2021-01-01</td>\n",
       "      <td>1</td>\n",
       "      <td>6</td>\n",
       "      <td>0</td>\n",
       "      <td>199</td>\n",
       "    </tr>\n",
       "    <tr>\n",
       "      <th>1</th>\n",
       "      <td>1</td>\n",
       "      <td>Кира</td>\n",
       "      <td>22</td>\n",
       "      <td>Тюмень</td>\n",
       "      <td>ultra</td>\n",
       "      <td>2617.592153</td>\n",
       "      <td>15.816871</td>\n",
       "      <td>2021-01-18</td>\n",
       "      <td>1</td>\n",
       "      <td>6</td>\n",
       "      <td>0</td>\n",
       "      <td>199</td>\n",
       "    </tr>\n",
       "    <tr>\n",
       "      <th>2</th>\n",
       "      <td>1</td>\n",
       "      <td>Кира</td>\n",
       "      <td>22</td>\n",
       "      <td>Тюмень</td>\n",
       "      <td>ultra</td>\n",
       "      <td>754.159807</td>\n",
       "      <td>6.232113</td>\n",
       "      <td>2021-04-20</td>\n",
       "      <td>4</td>\n",
       "      <td>6</td>\n",
       "      <td>0</td>\n",
       "      <td>199</td>\n",
       "    </tr>\n",
       "    <tr>\n",
       "      <th>3</th>\n",
       "      <td>1</td>\n",
       "      <td>Кира</td>\n",
       "      <td>22</td>\n",
       "      <td>Тюмень</td>\n",
       "      <td>ultra</td>\n",
       "      <td>2694.783254</td>\n",
       "      <td>18.511000</td>\n",
       "      <td>2021-08-11</td>\n",
       "      <td>8</td>\n",
       "      <td>6</td>\n",
       "      <td>0</td>\n",
       "      <td>199</td>\n",
       "    </tr>\n",
       "    <tr>\n",
       "      <th>4</th>\n",
       "      <td>1</td>\n",
       "      <td>Кира</td>\n",
       "      <td>22</td>\n",
       "      <td>Тюмень</td>\n",
       "      <td>ultra</td>\n",
       "      <td>4028.687306</td>\n",
       "      <td>26.265803</td>\n",
       "      <td>2021-08-28</td>\n",
       "      <td>8</td>\n",
       "      <td>6</td>\n",
       "      <td>0</td>\n",
       "      <td>199</td>\n",
       "    </tr>\n",
       "    <tr>\n",
       "      <th>...</th>\n",
       "      <td>...</td>\n",
       "      <td>...</td>\n",
       "      <td>...</td>\n",
       "      <td>...</td>\n",
       "      <td>...</td>\n",
       "      <td>...</td>\n",
       "      <td>...</td>\n",
       "      <td>...</td>\n",
       "      <td>...</td>\n",
       "      <td>...</td>\n",
       "      <td>...</td>\n",
       "      <td>...</td>\n",
       "    </tr>\n",
       "    <tr>\n",
       "      <th>6495</th>\n",
       "      <td>699</td>\n",
       "      <td>Оксана</td>\n",
       "      <td>22</td>\n",
       "      <td>Москва</td>\n",
       "      <td>ultra</td>\n",
       "      <td>3973.046497</td>\n",
       "      <td>24.671163</td>\n",
       "      <td>2021-08-29</td>\n",
       "      <td>8</td>\n",
       "      <td>6</td>\n",
       "      <td>0</td>\n",
       "      <td>199</td>\n",
       "    </tr>\n",
       "    <tr>\n",
       "      <th>6496</th>\n",
       "      <td>699</td>\n",
       "      <td>Оксана</td>\n",
       "      <td>22</td>\n",
       "      <td>Москва</td>\n",
       "      <td>ultra</td>\n",
       "      <td>3288.702563</td>\n",
       "      <td>15.892886</td>\n",
       "      <td>2021-09-12</td>\n",
       "      <td>9</td>\n",
       "      <td>6</td>\n",
       "      <td>0</td>\n",
       "      <td>199</td>\n",
       "    </tr>\n",
       "    <tr>\n",
       "      <th>6497</th>\n",
       "      <td>699</td>\n",
       "      <td>Оксана</td>\n",
       "      <td>22</td>\n",
       "      <td>Москва</td>\n",
       "      <td>ultra</td>\n",
       "      <td>3076.159348</td>\n",
       "      <td>14.389525</td>\n",
       "      <td>2021-09-26</td>\n",
       "      <td>9</td>\n",
       "      <td>6</td>\n",
       "      <td>0</td>\n",
       "      <td>199</td>\n",
       "    </tr>\n",
       "    <tr>\n",
       "      <th>6498</th>\n",
       "      <td>699</td>\n",
       "      <td>Оксана</td>\n",
       "      <td>22</td>\n",
       "      <td>Москва</td>\n",
       "      <td>ultra</td>\n",
       "      <td>4707.845501</td>\n",
       "      <td>15.839579</td>\n",
       "      <td>2021-10-17</td>\n",
       "      <td>10</td>\n",
       "      <td>6</td>\n",
       "      <td>0</td>\n",
       "      <td>199</td>\n",
       "    </tr>\n",
       "    <tr>\n",
       "      <th>6499</th>\n",
       "      <td>699</td>\n",
       "      <td>Оксана</td>\n",
       "      <td>22</td>\n",
       "      <td>Москва</td>\n",
       "      <td>ultra</td>\n",
       "      <td>3202.890770</td>\n",
       "      <td>25.217345</td>\n",
       "      <td>2021-12-03</td>\n",
       "      <td>12</td>\n",
       "      <td>6</td>\n",
       "      <td>0</td>\n",
       "      <td>199</td>\n",
       "    </tr>\n",
       "  </tbody>\n",
       "</table>\n",
       "<p>6500 rows × 12 columns</p>\n",
       "</div>"
      ],
      "text/plain": [
       "      user_id    name  age    city subscription_type     distance   duration  \\\n",
       "0           1    Кира   22  Тюмень             ultra  4409.919140  25.599769   \n",
       "1           1    Кира   22  Тюмень             ultra  2617.592153  15.816871   \n",
       "2           1    Кира   22  Тюмень             ultra   754.159807   6.232113   \n",
       "3           1    Кира   22  Тюмень             ultra  2694.783254  18.511000   \n",
       "4           1    Кира   22  Тюмень             ultra  4028.687306  26.265803   \n",
       "...       ...     ...  ...     ...               ...          ...        ...   \n",
       "6495      699  Оксана   22  Москва             ultra  3973.046497  24.671163   \n",
       "6496      699  Оксана   22  Москва             ultra  3288.702563  15.892886   \n",
       "6497      699  Оксана   22  Москва             ultra  3076.159348  14.389525   \n",
       "6498      699  Оксана   22  Москва             ultra  4707.845501  15.839579   \n",
       "6499      699  Оксана   22  Москва             ultra  3202.890770  25.217345   \n",
       "\n",
       "           date  month  minute_price  start_ride_price  subscription_fee  \n",
       "0    2021-01-01      1             6                 0               199  \n",
       "1    2021-01-18      1             6                 0               199  \n",
       "2    2021-04-20      4             6                 0               199  \n",
       "3    2021-08-11      8             6                 0               199  \n",
       "4    2021-08-28      8             6                 0               199  \n",
       "...         ...    ...           ...               ...               ...  \n",
       "6495 2021-08-29      8             6                 0               199  \n",
       "6496 2021-09-12      9             6                 0               199  \n",
       "6497 2021-09-26      9             6                 0               199  \n",
       "6498 2021-10-17     10             6                 0               199  \n",
       "6499 2021-12-03     12             6                 0               199  \n",
       "\n",
       "[6500 rows x 12 columns]"
      ]
     },
     "execution_count": 25,
     "metadata": {},
     "output_type": "execute_result"
    }
   ],
   "source": [
    "user_ultra = merged_df[merged_df['subscription_type'] == 'ultra']\n",
    "user_ultra"
   ]
  },
  {
   "cell_type": "markdown",
   "id": "173530d5",
   "metadata": {},
   "source": [
    "Пользователи без подписки"
   ]
  },
  {
   "cell_type": "code",
   "execution_count": 26,
   "id": "c5700393",
   "metadata": {},
   "outputs": [
    {
     "data": {
      "text/html": [
       "<div>\n",
       "<style scoped>\n",
       "    .dataframe tbody tr th:only-of-type {\n",
       "        vertical-align: middle;\n",
       "    }\n",
       "\n",
       "    .dataframe tbody tr th {\n",
       "        vertical-align: top;\n",
       "    }\n",
       "\n",
       "    .dataframe thead th {\n",
       "        text-align: right;\n",
       "    }\n",
       "</style>\n",
       "<table border=\"1\" class=\"dataframe\">\n",
       "  <thead>\n",
       "    <tr style=\"text-align: right;\">\n",
       "      <th></th>\n",
       "      <th>user_id</th>\n",
       "      <th>name</th>\n",
       "      <th>age</th>\n",
       "      <th>city</th>\n",
       "      <th>subscription_type</th>\n",
       "      <th>distance</th>\n",
       "      <th>duration</th>\n",
       "      <th>date</th>\n",
       "      <th>month</th>\n",
       "      <th>minute_price</th>\n",
       "      <th>start_ride_price</th>\n",
       "      <th>subscription_fee</th>\n",
       "    </tr>\n",
       "  </thead>\n",
       "  <tbody>\n",
       "    <tr>\n",
       "      <th>6500</th>\n",
       "      <td>700</td>\n",
       "      <td>Айдар</td>\n",
       "      <td>22</td>\n",
       "      <td>Омск</td>\n",
       "      <td>free</td>\n",
       "      <td>2515.690719</td>\n",
       "      <td>14.944286</td>\n",
       "      <td>2021-01-02</td>\n",
       "      <td>1</td>\n",
       "      <td>8</td>\n",
       "      <td>50</td>\n",
       "      <td>0</td>\n",
       "    </tr>\n",
       "    <tr>\n",
       "      <th>6501</th>\n",
       "      <td>700</td>\n",
       "      <td>Айдар</td>\n",
       "      <td>22</td>\n",
       "      <td>Омск</td>\n",
       "      <td>free</td>\n",
       "      <td>846.932642</td>\n",
       "      <td>16.234663</td>\n",
       "      <td>2021-02-01</td>\n",
       "      <td>2</td>\n",
       "      <td>8</td>\n",
       "      <td>50</td>\n",
       "      <td>0</td>\n",
       "    </tr>\n",
       "    <tr>\n",
       "      <th>6502</th>\n",
       "      <td>700</td>\n",
       "      <td>Айдар</td>\n",
       "      <td>22</td>\n",
       "      <td>Омск</td>\n",
       "      <td>free</td>\n",
       "      <td>4004.434142</td>\n",
       "      <td>20.016628</td>\n",
       "      <td>2021-02-04</td>\n",
       "      <td>2</td>\n",
       "      <td>8</td>\n",
       "      <td>50</td>\n",
       "      <td>0</td>\n",
       "    </tr>\n",
       "    <tr>\n",
       "      <th>6503</th>\n",
       "      <td>700</td>\n",
       "      <td>Айдар</td>\n",
       "      <td>22</td>\n",
       "      <td>Омск</td>\n",
       "      <td>free</td>\n",
       "      <td>1205.911290</td>\n",
       "      <td>9.782872</td>\n",
       "      <td>2021-02-10</td>\n",
       "      <td>2</td>\n",
       "      <td>8</td>\n",
       "      <td>50</td>\n",
       "      <td>0</td>\n",
       "    </tr>\n",
       "    <tr>\n",
       "      <th>6504</th>\n",
       "      <td>700</td>\n",
       "      <td>Айдар</td>\n",
       "      <td>22</td>\n",
       "      <td>Омск</td>\n",
       "      <td>free</td>\n",
       "      <td>3047.379435</td>\n",
       "      <td>17.427673</td>\n",
       "      <td>2021-02-14</td>\n",
       "      <td>2</td>\n",
       "      <td>8</td>\n",
       "      <td>50</td>\n",
       "      <td>0</td>\n",
       "    </tr>\n",
       "    <tr>\n",
       "      <th>...</th>\n",
       "      <td>...</td>\n",
       "      <td>...</td>\n",
       "      <td>...</td>\n",
       "      <td>...</td>\n",
       "      <td>...</td>\n",
       "      <td>...</td>\n",
       "      <td>...</td>\n",
       "      <td>...</td>\n",
       "      <td>...</td>\n",
       "      <td>...</td>\n",
       "      <td>...</td>\n",
       "      <td>...</td>\n",
       "    </tr>\n",
       "    <tr>\n",
       "      <th>18063</th>\n",
       "      <td>1534</td>\n",
       "      <td>Альберт</td>\n",
       "      <td>25</td>\n",
       "      <td>Краснодар</td>\n",
       "      <td>free</td>\n",
       "      <td>3781.098080</td>\n",
       "      <td>19.822962</td>\n",
       "      <td>2021-11-04</td>\n",
       "      <td>11</td>\n",
       "      <td>8</td>\n",
       "      <td>50</td>\n",
       "      <td>0</td>\n",
       "    </tr>\n",
       "    <tr>\n",
       "      <th>18064</th>\n",
       "      <td>1534</td>\n",
       "      <td>Альберт</td>\n",
       "      <td>25</td>\n",
       "      <td>Краснодар</td>\n",
       "      <td>free</td>\n",
       "      <td>2840.423057</td>\n",
       "      <td>21.409799</td>\n",
       "      <td>2021-11-16</td>\n",
       "      <td>11</td>\n",
       "      <td>8</td>\n",
       "      <td>50</td>\n",
       "      <td>0</td>\n",
       "    </tr>\n",
       "    <tr>\n",
       "      <th>18065</th>\n",
       "      <td>1534</td>\n",
       "      <td>Альберт</td>\n",
       "      <td>25</td>\n",
       "      <td>Краснодар</td>\n",
       "      <td>free</td>\n",
       "      <td>3826.185507</td>\n",
       "      <td>18.435051</td>\n",
       "      <td>2021-11-18</td>\n",
       "      <td>11</td>\n",
       "      <td>8</td>\n",
       "      <td>50</td>\n",
       "      <td>0</td>\n",
       "    </tr>\n",
       "    <tr>\n",
       "      <th>18066</th>\n",
       "      <td>1534</td>\n",
       "      <td>Альберт</td>\n",
       "      <td>25</td>\n",
       "      <td>Краснодар</td>\n",
       "      <td>free</td>\n",
       "      <td>2902.308661</td>\n",
       "      <td>16.674362</td>\n",
       "      <td>2021-11-27</td>\n",
       "      <td>11</td>\n",
       "      <td>8</td>\n",
       "      <td>50</td>\n",
       "      <td>0</td>\n",
       "    </tr>\n",
       "    <tr>\n",
       "      <th>18067</th>\n",
       "      <td>1534</td>\n",
       "      <td>Альберт</td>\n",
       "      <td>25</td>\n",
       "      <td>Краснодар</td>\n",
       "      <td>free</td>\n",
       "      <td>2371.711192</td>\n",
       "      <td>15.893917</td>\n",
       "      <td>2021-12-29</td>\n",
       "      <td>12</td>\n",
       "      <td>8</td>\n",
       "      <td>50</td>\n",
       "      <td>0</td>\n",
       "    </tr>\n",
       "  </tbody>\n",
       "</table>\n",
       "<p>11568 rows × 12 columns</p>\n",
       "</div>"
      ],
      "text/plain": [
       "       user_id     name  age       city subscription_type     distance  \\\n",
       "6500       700    Айдар   22       Омск              free  2515.690719   \n",
       "6501       700    Айдар   22       Омск              free   846.932642   \n",
       "6502       700    Айдар   22       Омск              free  4004.434142   \n",
       "6503       700    Айдар   22       Омск              free  1205.911290   \n",
       "6504       700    Айдар   22       Омск              free  3047.379435   \n",
       "...        ...      ...  ...        ...               ...          ...   \n",
       "18063     1534  Альберт   25  Краснодар              free  3781.098080   \n",
       "18064     1534  Альберт   25  Краснодар              free  2840.423057   \n",
       "18065     1534  Альберт   25  Краснодар              free  3826.185507   \n",
       "18066     1534  Альберт   25  Краснодар              free  2902.308661   \n",
       "18067     1534  Альберт   25  Краснодар              free  2371.711192   \n",
       "\n",
       "        duration       date  month  minute_price  start_ride_price  \\\n",
       "6500   14.944286 2021-01-02      1             8                50   \n",
       "6501   16.234663 2021-02-01      2             8                50   \n",
       "6502   20.016628 2021-02-04      2             8                50   \n",
       "6503    9.782872 2021-02-10      2             8                50   \n",
       "6504   17.427673 2021-02-14      2             8                50   \n",
       "...          ...        ...    ...           ...               ...   \n",
       "18063  19.822962 2021-11-04     11             8                50   \n",
       "18064  21.409799 2021-11-16     11             8                50   \n",
       "18065  18.435051 2021-11-18     11             8                50   \n",
       "18066  16.674362 2021-11-27     11             8                50   \n",
       "18067  15.893917 2021-12-29     12             8                50   \n",
       "\n",
       "       subscription_fee  \n",
       "6500                  0  \n",
       "6501                  0  \n",
       "6502                  0  \n",
       "6503                  0  \n",
       "6504                  0  \n",
       "...                 ...  \n",
       "18063                 0  \n",
       "18064                 0  \n",
       "18065                 0  \n",
       "18066                 0  \n",
       "18067                 0  \n",
       "\n",
       "[11568 rows x 12 columns]"
      ]
     },
     "execution_count": 26,
     "metadata": {},
     "output_type": "execute_result"
    }
   ],
   "source": [
    "user_free = merged_df[merged_df['subscription_type'] == 'free']\n",
    "user_free"
   ]
  },
  {
   "cell_type": "markdown",
   "id": "527bac2e",
   "metadata": {},
   "source": [
    "Пользователи с подпиской"
   ]
  },
  {
   "cell_type": "code",
   "execution_count": 27,
   "id": "9e256ca6",
   "metadata": {},
   "outputs": [
    {
     "data": {
      "text/html": [
       "<div>\n",
       "<style scoped>\n",
       "    .dataframe tbody tr th:only-of-type {\n",
       "        vertical-align: middle;\n",
       "    }\n",
       "\n",
       "    .dataframe tbody tr th {\n",
       "        vertical-align: top;\n",
       "    }\n",
       "\n",
       "    .dataframe thead th {\n",
       "        text-align: right;\n",
       "    }\n",
       "</style>\n",
       "<table border=\"1\" class=\"dataframe\">\n",
       "  <thead>\n",
       "    <tr style=\"text-align: right;\">\n",
       "      <th></th>\n",
       "      <th>user_id</th>\n",
       "      <th>name</th>\n",
       "      <th>age</th>\n",
       "      <th>city</th>\n",
       "      <th>subscription_type</th>\n",
       "      <th>distance</th>\n",
       "      <th>duration</th>\n",
       "      <th>date</th>\n",
       "      <th>month</th>\n",
       "      <th>minute_price</th>\n",
       "      <th>start_ride_price</th>\n",
       "      <th>subscription_fee</th>\n",
       "    </tr>\n",
       "  </thead>\n",
       "  <tbody>\n",
       "    <tr>\n",
       "      <th>0</th>\n",
       "      <td>1</td>\n",
       "      <td>Кира</td>\n",
       "      <td>22</td>\n",
       "      <td>Тюмень</td>\n",
       "      <td>ultra</td>\n",
       "      <td>4409.919140</td>\n",
       "      <td>25.599769</td>\n",
       "      <td>2021-01-01</td>\n",
       "      <td>1</td>\n",
       "      <td>6</td>\n",
       "      <td>0</td>\n",
       "      <td>199</td>\n",
       "    </tr>\n",
       "    <tr>\n",
       "      <th>1</th>\n",
       "      <td>1</td>\n",
       "      <td>Кира</td>\n",
       "      <td>22</td>\n",
       "      <td>Тюмень</td>\n",
       "      <td>ultra</td>\n",
       "      <td>2617.592153</td>\n",
       "      <td>15.816871</td>\n",
       "      <td>2021-01-18</td>\n",
       "      <td>1</td>\n",
       "      <td>6</td>\n",
       "      <td>0</td>\n",
       "      <td>199</td>\n",
       "    </tr>\n",
       "    <tr>\n",
       "      <th>2</th>\n",
       "      <td>1</td>\n",
       "      <td>Кира</td>\n",
       "      <td>22</td>\n",
       "      <td>Тюмень</td>\n",
       "      <td>ultra</td>\n",
       "      <td>754.159807</td>\n",
       "      <td>6.232113</td>\n",
       "      <td>2021-04-20</td>\n",
       "      <td>4</td>\n",
       "      <td>6</td>\n",
       "      <td>0</td>\n",
       "      <td>199</td>\n",
       "    </tr>\n",
       "    <tr>\n",
       "      <th>3</th>\n",
       "      <td>1</td>\n",
       "      <td>Кира</td>\n",
       "      <td>22</td>\n",
       "      <td>Тюмень</td>\n",
       "      <td>ultra</td>\n",
       "      <td>2694.783254</td>\n",
       "      <td>18.511000</td>\n",
       "      <td>2021-08-11</td>\n",
       "      <td>8</td>\n",
       "      <td>6</td>\n",
       "      <td>0</td>\n",
       "      <td>199</td>\n",
       "    </tr>\n",
       "    <tr>\n",
       "      <th>4</th>\n",
       "      <td>1</td>\n",
       "      <td>Кира</td>\n",
       "      <td>22</td>\n",
       "      <td>Тюмень</td>\n",
       "      <td>ultra</td>\n",
       "      <td>4028.687306</td>\n",
       "      <td>26.265803</td>\n",
       "      <td>2021-08-28</td>\n",
       "      <td>8</td>\n",
       "      <td>6</td>\n",
       "      <td>0</td>\n",
       "      <td>199</td>\n",
       "    </tr>\n",
       "    <tr>\n",
       "      <th>...</th>\n",
       "      <td>...</td>\n",
       "      <td>...</td>\n",
       "      <td>...</td>\n",
       "      <td>...</td>\n",
       "      <td>...</td>\n",
       "      <td>...</td>\n",
       "      <td>...</td>\n",
       "      <td>...</td>\n",
       "      <td>...</td>\n",
       "      <td>...</td>\n",
       "      <td>...</td>\n",
       "      <td>...</td>\n",
       "    </tr>\n",
       "    <tr>\n",
       "      <th>6495</th>\n",
       "      <td>699</td>\n",
       "      <td>Оксана</td>\n",
       "      <td>22</td>\n",
       "      <td>Москва</td>\n",
       "      <td>ultra</td>\n",
       "      <td>3973.046497</td>\n",
       "      <td>24.671163</td>\n",
       "      <td>2021-08-29</td>\n",
       "      <td>8</td>\n",
       "      <td>6</td>\n",
       "      <td>0</td>\n",
       "      <td>199</td>\n",
       "    </tr>\n",
       "    <tr>\n",
       "      <th>6496</th>\n",
       "      <td>699</td>\n",
       "      <td>Оксана</td>\n",
       "      <td>22</td>\n",
       "      <td>Москва</td>\n",
       "      <td>ultra</td>\n",
       "      <td>3288.702563</td>\n",
       "      <td>15.892886</td>\n",
       "      <td>2021-09-12</td>\n",
       "      <td>9</td>\n",
       "      <td>6</td>\n",
       "      <td>0</td>\n",
       "      <td>199</td>\n",
       "    </tr>\n",
       "    <tr>\n",
       "      <th>6497</th>\n",
       "      <td>699</td>\n",
       "      <td>Оксана</td>\n",
       "      <td>22</td>\n",
       "      <td>Москва</td>\n",
       "      <td>ultra</td>\n",
       "      <td>3076.159348</td>\n",
       "      <td>14.389525</td>\n",
       "      <td>2021-09-26</td>\n",
       "      <td>9</td>\n",
       "      <td>6</td>\n",
       "      <td>0</td>\n",
       "      <td>199</td>\n",
       "    </tr>\n",
       "    <tr>\n",
       "      <th>6498</th>\n",
       "      <td>699</td>\n",
       "      <td>Оксана</td>\n",
       "      <td>22</td>\n",
       "      <td>Москва</td>\n",
       "      <td>ultra</td>\n",
       "      <td>4707.845501</td>\n",
       "      <td>15.839579</td>\n",
       "      <td>2021-10-17</td>\n",
       "      <td>10</td>\n",
       "      <td>6</td>\n",
       "      <td>0</td>\n",
       "      <td>199</td>\n",
       "    </tr>\n",
       "    <tr>\n",
       "      <th>6499</th>\n",
       "      <td>699</td>\n",
       "      <td>Оксана</td>\n",
       "      <td>22</td>\n",
       "      <td>Москва</td>\n",
       "      <td>ultra</td>\n",
       "      <td>3202.890770</td>\n",
       "      <td>25.217345</td>\n",
       "      <td>2021-12-03</td>\n",
       "      <td>12</td>\n",
       "      <td>6</td>\n",
       "      <td>0</td>\n",
       "      <td>199</td>\n",
       "    </tr>\n",
       "  </tbody>\n",
       "</table>\n",
       "<p>6500 rows × 12 columns</p>\n",
       "</div>"
      ],
      "text/plain": [
       "      user_id    name  age    city subscription_type     distance   duration  \\\n",
       "0           1    Кира   22  Тюмень             ultra  4409.919140  25.599769   \n",
       "1           1    Кира   22  Тюмень             ultra  2617.592153  15.816871   \n",
       "2           1    Кира   22  Тюмень             ultra   754.159807   6.232113   \n",
       "3           1    Кира   22  Тюмень             ultra  2694.783254  18.511000   \n",
       "4           1    Кира   22  Тюмень             ultra  4028.687306  26.265803   \n",
       "...       ...     ...  ...     ...               ...          ...        ...   \n",
       "6495      699  Оксана   22  Москва             ultra  3973.046497  24.671163   \n",
       "6496      699  Оксана   22  Москва             ultra  3288.702563  15.892886   \n",
       "6497      699  Оксана   22  Москва             ultra  3076.159348  14.389525   \n",
       "6498      699  Оксана   22  Москва             ultra  4707.845501  15.839579   \n",
       "6499      699  Оксана   22  Москва             ultra  3202.890770  25.217345   \n",
       "\n",
       "           date  month  minute_price  start_ride_price  subscription_fee  \n",
       "0    2021-01-01      1             6                 0               199  \n",
       "1    2021-01-18      1             6                 0               199  \n",
       "2    2021-04-20      4             6                 0               199  \n",
       "3    2021-08-11      8             6                 0               199  \n",
       "4    2021-08-28      8             6                 0               199  \n",
       "...         ...    ...           ...               ...               ...  \n",
       "6495 2021-08-29      8             6                 0               199  \n",
       "6496 2021-09-12      9             6                 0               199  \n",
       "6497 2021-09-26      9             6                 0               199  \n",
       "6498 2021-10-17     10             6                 0               199  \n",
       "6499 2021-12-03     12             6                 0               199  \n",
       "\n",
       "[6500 rows x 12 columns]"
      ]
     },
     "execution_count": 27,
     "metadata": {},
     "output_type": "execute_result"
    }
   ],
   "source": [
    "user_ultra = merged_df[merged_df['subscription_type'] == 'ultra']\n",
    "user_ultra"
   ]
  },
  {
   "cell_type": "markdown",
   "id": "c3d111f7",
   "metadata": {},
   "source": [
    "4.3 Визуализация информации о расстоянии и времени поездок для пользователей обеих категорий."
   ]
  },
  {
   "cell_type": "code",
   "execution_count": 28,
   "id": "35fe002f",
   "metadata": {},
   "outputs": [
    {
     "data": {
      "text/plain": [
       "count    11568.000000\n",
       "mean      3045.495282\n",
       "std       1246.173806\n",
       "min          0.855683\n",
       "25%       2366.562689\n",
       "50%       3114.648465\n",
       "75%       3905.697894\n",
       "max       7211.007745\n",
       "Name: distance, dtype: float64"
      ]
     },
     "execution_count": 28,
     "metadata": {},
     "output_type": "execute_result"
    }
   ],
   "source": [
    "user_free['distance'].describe()"
   ]
  },
  {
   "cell_type": "code",
   "execution_count": 29,
   "id": "6e181218",
   "metadata": {},
   "outputs": [
    {
     "data": {
      "text/plain": [
       "count    6500.000000\n",
       "mean     3115.445388\n",
       "std       836.895330\n",
       "min       244.210438\n",
       "25%      2785.444017\n",
       "50%      3148.637229\n",
       "75%      3560.574425\n",
       "max      5699.769662\n",
       "Name: distance, dtype: float64"
      ]
     },
     "execution_count": 29,
     "metadata": {},
     "output_type": "execute_result"
    }
   ],
   "source": [
    "user_ultra['distance'].describe()"
   ]
  },
  {
   "cell_type": "code",
   "execution_count": 30,
   "id": "2e283398",
   "metadata": {},
   "outputs": [
    {
     "data": {
      "text/plain": [
       "count    11568.000000\n",
       "mean        17.390909\n",
       "std          6.326803\n",
       "min          0.500000\n",
       "25%         12.958437\n",
       "50%         17.326890\n",
       "75%         21.594071\n",
       "max         34.948498\n",
       "Name: duration, dtype: float64"
      ]
     },
     "execution_count": 30,
     "metadata": {},
     "output_type": "execute_result"
    }
   ],
   "source": [
    "user_free['duration'].describe()"
   ]
  },
  {
   "cell_type": "code",
   "execution_count": 31,
   "id": "54f6b088",
   "metadata": {},
   "outputs": [
    {
     "data": {
      "text/plain": [
       "count    6500.000000\n",
       "mean       18.541985\n",
       "std         5.572048\n",
       "min         3.760353\n",
       "25%        14.524654\n",
       "50%        18.178153\n",
       "75%        21.884129\n",
       "max        40.823963\n",
       "Name: duration, dtype: float64"
      ]
     },
     "execution_count": 31,
     "metadata": {},
     "output_type": "execute_result"
    }
   ],
   "source": [
    "user_ultra['duration'].describe()"
   ]
  },
  {
   "cell_type": "code",
   "execution_count": 32,
   "id": "082ba05f",
   "metadata": {},
   "outputs": [
    {
     "data": {
      "image/png": "[encoded data removed]",
      "text/plain": [
       "<Figure size 720x576 with 2 Axes>"
      ]
     },
     "metadata": {
      "needs_background": "light"
     },
     "output_type": "display_data"
    }
   ],
   "source": [
    "\n",
    "fig, axs = plt.subplots(2, 1, figsize=(10, 8))\n",
    "\n",
    "# Визуализация расстояния поездок\n",
    "sns.histplot(user_free['distance'], color='skyblue', alpha=0.7, label='Без подписки', ax=axs[0])\n",
    "sns.histplot(user_ultra['distance'], color='salmon', alpha=0.7, label='С подпиской', ax=axs[0])\n",
    "axs[0].set_title('Расстояния поездок')\n",
    "axs[0].set_xlabel('Расстояние (метры)')\n",
    "axs[0].set_ylabel('Количество поездок')\n",
    "axs[0].legend()\n",
    "axs[0].yaxis.grid(True)  \n",
    "\n",
    "# Визуализация времени поездок\n",
    "sns.histplot(user_free['duration'], color='skyblue', alpha=0.7, label='Без подписки', ax=axs[1])\n",
    "sns.histplot(user_ultra['duration'], color='salmon', alpha=0.7, label='С подпиской', ax=axs[1])\n",
    "axs[1].set_title('Время поездок')\n",
    "axs[1].set_xlabel('Продолжительность сессии (в минутах)')\n",
    "axs[1].set_ylabel('Количество поездок')\n",
    "axs[1].legend()\n",
    "axs[1].yaxis.grid(True)  \n",
    "plt.tight_layout()\n",
    "plt.show()\n",
    "\n"
   ]
  },
  {
   "cell_type": "markdown",
   "id": "54f40339",
   "metadata": {},
   "source": [
    "**Пользователи без подписки имеют более широкий диапазон значений расстояния по сравнению с пользователями с подпиской.  \n",
    "Время поездки у пользователей обеих категорий примерно одинаковое. В среднем пользователи с подпиской используют самокат 18 минут, а пользователи без подписки — 17 минут.**"
   ]
  },
  {
   "cell_type": "markdown",
   "id": "402d620f",
   "metadata": {},
   "source": [
    "#### Подсчёт выручки"
   ]
  },
  {
   "cell_type": "code",
   "execution_count": 33,
   "id": "94ab814f",
   "metadata": {},
   "outputs": [],
   "source": [
    "# каждое значение из столбца duration округляется с помощью «потолка»: \n",
    "merged_df['duration'] = np.ceil(merged_df['duration']) "
   ]
  },
  {
   "cell_type": "code",
   "execution_count": 34,
   "id": "bfce17b4",
   "metadata": {},
   "outputs": [
    {
     "data": {
      "text/html": [
       "<div>\n",
       "<style scoped>\n",
       "    .dataframe tbody tr th:only-of-type {\n",
       "        vertical-align: middle;\n",
       "    }\n",
       "\n",
       "    .dataframe tbody tr th {\n",
       "        vertical-align: top;\n",
       "    }\n",
       "\n",
       "    .dataframe thead th {\n",
       "        text-align: right;\n",
       "    }\n",
       "</style>\n",
       "<table border=\"1\" class=\"dataframe\">\n",
       "  <thead>\n",
       "    <tr style=\"text-align: right;\">\n",
       "      <th></th>\n",
       "      <th>user_id</th>\n",
       "      <th>month</th>\n",
       "      <th>total_distance</th>\n",
       "      <th>total_duration</th>\n",
       "      <th>count_rides</th>\n",
       "      <th>start_ride_price</th>\n",
       "      <th>minute_price</th>\n",
       "      <th>subscription_fee</th>\n",
       "      <th>subscription_type</th>\n",
       "    </tr>\n",
       "  </thead>\n",
       "  <tbody>\n",
       "    <tr>\n",
       "      <th>0</th>\n",
       "      <td>1</td>\n",
       "      <td>1</td>\n",
       "      <td>7027.511294</td>\n",
       "      <td>42.0</td>\n",
       "      <td>2</td>\n",
       "      <td>0</td>\n",
       "      <td>6</td>\n",
       "      <td>199</td>\n",
       "      <td>ultra</td>\n",
       "    </tr>\n",
       "    <tr>\n",
       "      <th>1</th>\n",
       "      <td>1</td>\n",
       "      <td>4</td>\n",
       "      <td>754.159807</td>\n",
       "      <td>7.0</td>\n",
       "      <td>1</td>\n",
       "      <td>0</td>\n",
       "      <td>6</td>\n",
       "      <td>199</td>\n",
       "      <td>ultra</td>\n",
       "    </tr>\n",
       "    <tr>\n",
       "      <th>2</th>\n",
       "      <td>1</td>\n",
       "      <td>8</td>\n",
       "      <td>6723.470560</td>\n",
       "      <td>46.0</td>\n",
       "      <td>2</td>\n",
       "      <td>0</td>\n",
       "      <td>6</td>\n",
       "      <td>199</td>\n",
       "      <td>ultra</td>\n",
       "    </tr>\n",
       "    <tr>\n",
       "      <th>3</th>\n",
       "      <td>1</td>\n",
       "      <td>10</td>\n",
       "      <td>5809.911100</td>\n",
       "      <td>32.0</td>\n",
       "      <td>2</td>\n",
       "      <td>0</td>\n",
       "      <td>6</td>\n",
       "      <td>199</td>\n",
       "      <td>ultra</td>\n",
       "    </tr>\n",
       "    <tr>\n",
       "      <th>4</th>\n",
       "      <td>1</td>\n",
       "      <td>11</td>\n",
       "      <td>7003.499363</td>\n",
       "      <td>56.0</td>\n",
       "      <td>3</td>\n",
       "      <td>0</td>\n",
       "      <td>6</td>\n",
       "      <td>199</td>\n",
       "      <td>ultra</td>\n",
       "    </tr>\n",
       "    <tr>\n",
       "      <th>...</th>\n",
       "      <td>...</td>\n",
       "      <td>...</td>\n",
       "      <td>...</td>\n",
       "      <td>...</td>\n",
       "      <td>...</td>\n",
       "      <td>...</td>\n",
       "      <td>...</td>\n",
       "      <td>...</td>\n",
       "      <td>...</td>\n",
       "    </tr>\n",
       "    <tr>\n",
       "      <th>11326</th>\n",
       "      <td>1534</td>\n",
       "      <td>6</td>\n",
       "      <td>3409.468534</td>\n",
       "      <td>26.0</td>\n",
       "      <td>2</td>\n",
       "      <td>50</td>\n",
       "      <td>8</td>\n",
       "      <td>0</td>\n",
       "      <td>free</td>\n",
       "    </tr>\n",
       "    <tr>\n",
       "      <th>11327</th>\n",
       "      <td>1534</td>\n",
       "      <td>8</td>\n",
       "      <td>7622.453034</td>\n",
       "      <td>48.0</td>\n",
       "      <td>2</td>\n",
       "      <td>50</td>\n",
       "      <td>8</td>\n",
       "      <td>0</td>\n",
       "      <td>free</td>\n",
       "    </tr>\n",
       "    <tr>\n",
       "      <th>11328</th>\n",
       "      <td>1534</td>\n",
       "      <td>9</td>\n",
       "      <td>4928.173852</td>\n",
       "      <td>23.0</td>\n",
       "      <td>1</td>\n",
       "      <td>50</td>\n",
       "      <td>8</td>\n",
       "      <td>0</td>\n",
       "      <td>free</td>\n",
       "    </tr>\n",
       "    <tr>\n",
       "      <th>11329</th>\n",
       "      <td>1534</td>\n",
       "      <td>11</td>\n",
       "      <td>13350.015305</td>\n",
       "      <td>78.0</td>\n",
       "      <td>4</td>\n",
       "      <td>50</td>\n",
       "      <td>8</td>\n",
       "      <td>0</td>\n",
       "      <td>free</td>\n",
       "    </tr>\n",
       "    <tr>\n",
       "      <th>11330</th>\n",
       "      <td>1534</td>\n",
       "      <td>12</td>\n",
       "      <td>2371.711192</td>\n",
       "      <td>16.0</td>\n",
       "      <td>1</td>\n",
       "      <td>50</td>\n",
       "      <td>8</td>\n",
       "      <td>0</td>\n",
       "      <td>free</td>\n",
       "    </tr>\n",
       "  </tbody>\n",
       "</table>\n",
       "<p>11331 rows × 9 columns</p>\n",
       "</div>"
      ],
      "text/plain": [
       "       user_id  month  total_distance  total_duration  count_rides  \\\n",
       "0            1      1     7027.511294            42.0            2   \n",
       "1            1      4      754.159807             7.0            1   \n",
       "2            1      8     6723.470560            46.0            2   \n",
       "3            1     10     5809.911100            32.0            2   \n",
       "4            1     11     7003.499363            56.0            3   \n",
       "...        ...    ...             ...             ...          ...   \n",
       "11326     1534      6     3409.468534            26.0            2   \n",
       "11327     1534      8     7622.453034            48.0            2   \n",
       "11328     1534      9     4928.173852            23.0            1   \n",
       "11329     1534     11    13350.015305            78.0            4   \n",
       "11330     1534     12     2371.711192            16.0            1   \n",
       "\n",
       "       start_ride_price  minute_price  subscription_fee subscription_type  \n",
       "0                     0             6               199             ultra  \n",
       "1                     0             6               199             ultra  \n",
       "2                     0             6               199             ultra  \n",
       "3                     0             6               199             ultra  \n",
       "4                     0             6               199             ultra  \n",
       "...                 ...           ...               ...               ...  \n",
       "11326                50             8                 0              free  \n",
       "11327                50             8                 0              free  \n",
       "11328                50             8                 0              free  \n",
       "11329                50             8                 0              free  \n",
       "11330                50             8                 0              free  \n",
       "\n",
       "[11331 rows x 9 columns]"
      ]
     },
     "execution_count": 34,
     "metadata": {},
     "output_type": "execute_result"
    }
   ],
   "source": [
    "#датафрейм с агрегированными данными о поездках \n",
    "df = (merged_df.groupby(['user_id', 'month'])\n",
    "         .agg(total_distance=('distance', 'sum'),\n",
    "              total_duration=('duration', 'sum'),\n",
    "              count_rides=('user_id', 'count'),\n",
    "              start_ride_price=('start_ride_price', 'first'),\n",
    "              minute_price=('minute_price', 'first'),\n",
    "              subscription_fee=('subscription_fee', 'first'),\n",
    "              subscription_type = ('subscription_type', 'first'))\n",
    "         .reset_index())\n",
    "\n",
    "df"
   ]
  },
  {
   "cell_type": "markdown",
   "id": "58fe21c3",
   "metadata": {},
   "source": [
    "Расчет помесячной выручкой, которую принёс каждый пользователь. "
   ]
  },
  {
   "cell_type": "code",
   "execution_count": 35,
   "id": "f2745e34",
   "metadata": {},
   "outputs": [
    {
     "data": {
      "text/html": [
       "<div>\n",
       "<style scoped>\n",
       "    .dataframe tbody tr th:only-of-type {\n",
       "        vertical-align: middle;\n",
       "    }\n",
       "\n",
       "    .dataframe tbody tr th {\n",
       "        vertical-align: top;\n",
       "    }\n",
       "\n",
       "    .dataframe thead th {\n",
       "        text-align: right;\n",
       "    }\n",
       "</style>\n",
       "<table border=\"1\" class=\"dataframe\">\n",
       "  <thead>\n",
       "    <tr style=\"text-align: right;\">\n",
       "      <th></th>\n",
       "      <th>user_id</th>\n",
       "      <th>month</th>\n",
       "      <th>total_distance</th>\n",
       "      <th>total_duration</th>\n",
       "      <th>count_rides</th>\n",
       "      <th>start_ride_price</th>\n",
       "      <th>minute_price</th>\n",
       "      <th>subscription_fee</th>\n",
       "      <th>subscription_type</th>\n",
       "      <th>revenue</th>\n",
       "    </tr>\n",
       "  </thead>\n",
       "  <tbody>\n",
       "    <tr>\n",
       "      <th>0</th>\n",
       "      <td>1</td>\n",
       "      <td>1</td>\n",
       "      <td>7027.511294</td>\n",
       "      <td>42.0</td>\n",
       "      <td>2</td>\n",
       "      <td>0</td>\n",
       "      <td>6</td>\n",
       "      <td>199</td>\n",
       "      <td>ultra</td>\n",
       "      <td>451.0</td>\n",
       "    </tr>\n",
       "    <tr>\n",
       "      <th>1</th>\n",
       "      <td>1</td>\n",
       "      <td>4</td>\n",
       "      <td>754.159807</td>\n",
       "      <td>7.0</td>\n",
       "      <td>1</td>\n",
       "      <td>0</td>\n",
       "      <td>6</td>\n",
       "      <td>199</td>\n",
       "      <td>ultra</td>\n",
       "      <td>241.0</td>\n",
       "    </tr>\n",
       "    <tr>\n",
       "      <th>2</th>\n",
       "      <td>1</td>\n",
       "      <td>8</td>\n",
       "      <td>6723.470560</td>\n",
       "      <td>46.0</td>\n",
       "      <td>2</td>\n",
       "      <td>0</td>\n",
       "      <td>6</td>\n",
       "      <td>199</td>\n",
       "      <td>ultra</td>\n",
       "      <td>475.0</td>\n",
       "    </tr>\n",
       "    <tr>\n",
       "      <th>3</th>\n",
       "      <td>1</td>\n",
       "      <td>10</td>\n",
       "      <td>5809.911100</td>\n",
       "      <td>32.0</td>\n",
       "      <td>2</td>\n",
       "      <td>0</td>\n",
       "      <td>6</td>\n",
       "      <td>199</td>\n",
       "      <td>ultra</td>\n",
       "      <td>391.0</td>\n",
       "    </tr>\n",
       "    <tr>\n",
       "      <th>4</th>\n",
       "      <td>1</td>\n",
       "      <td>11</td>\n",
       "      <td>7003.499363</td>\n",
       "      <td>56.0</td>\n",
       "      <td>3</td>\n",
       "      <td>0</td>\n",
       "      <td>6</td>\n",
       "      <td>199</td>\n",
       "      <td>ultra</td>\n",
       "      <td>535.0</td>\n",
       "    </tr>\n",
       "    <tr>\n",
       "      <th>...</th>\n",
       "      <td>...</td>\n",
       "      <td>...</td>\n",
       "      <td>...</td>\n",
       "      <td>...</td>\n",
       "      <td>...</td>\n",
       "      <td>...</td>\n",
       "      <td>...</td>\n",
       "      <td>...</td>\n",
       "      <td>...</td>\n",
       "      <td>...</td>\n",
       "    </tr>\n",
       "    <tr>\n",
       "      <th>11326</th>\n",
       "      <td>1534</td>\n",
       "      <td>6</td>\n",
       "      <td>3409.468534</td>\n",
       "      <td>26.0</td>\n",
       "      <td>2</td>\n",
       "      <td>50</td>\n",
       "      <td>8</td>\n",
       "      <td>0</td>\n",
       "      <td>free</td>\n",
       "      <td>308.0</td>\n",
       "    </tr>\n",
       "    <tr>\n",
       "      <th>11327</th>\n",
       "      <td>1534</td>\n",
       "      <td>8</td>\n",
       "      <td>7622.453034</td>\n",
       "      <td>48.0</td>\n",
       "      <td>2</td>\n",
       "      <td>50</td>\n",
       "      <td>8</td>\n",
       "      <td>0</td>\n",
       "      <td>free</td>\n",
       "      <td>484.0</td>\n",
       "    </tr>\n",
       "    <tr>\n",
       "      <th>11328</th>\n",
       "      <td>1534</td>\n",
       "      <td>9</td>\n",
       "      <td>4928.173852</td>\n",
       "      <td>23.0</td>\n",
       "      <td>1</td>\n",
       "      <td>50</td>\n",
       "      <td>8</td>\n",
       "      <td>0</td>\n",
       "      <td>free</td>\n",
       "      <td>234.0</td>\n",
       "    </tr>\n",
       "    <tr>\n",
       "      <th>11329</th>\n",
       "      <td>1534</td>\n",
       "      <td>11</td>\n",
       "      <td>13350.015305</td>\n",
       "      <td>78.0</td>\n",
       "      <td>4</td>\n",
       "      <td>50</td>\n",
       "      <td>8</td>\n",
       "      <td>0</td>\n",
       "      <td>free</td>\n",
       "      <td>824.0</td>\n",
       "    </tr>\n",
       "    <tr>\n",
       "      <th>11330</th>\n",
       "      <td>1534</td>\n",
       "      <td>12</td>\n",
       "      <td>2371.711192</td>\n",
       "      <td>16.0</td>\n",
       "      <td>1</td>\n",
       "      <td>50</td>\n",
       "      <td>8</td>\n",
       "      <td>0</td>\n",
       "      <td>free</td>\n",
       "      <td>178.0</td>\n",
       "    </tr>\n",
       "  </tbody>\n",
       "</table>\n",
       "<p>11331 rows × 10 columns</p>\n",
       "</div>"
      ],
      "text/plain": [
       "       user_id  month  total_distance  total_duration  count_rides  \\\n",
       "0            1      1     7027.511294            42.0            2   \n",
       "1            1      4      754.159807             7.0            1   \n",
       "2            1      8     6723.470560            46.0            2   \n",
       "3            1     10     5809.911100            32.0            2   \n",
       "4            1     11     7003.499363            56.0            3   \n",
       "...        ...    ...             ...             ...          ...   \n",
       "11326     1534      6     3409.468534            26.0            2   \n",
       "11327     1534      8     7622.453034            48.0            2   \n",
       "11328     1534      9     4928.173852            23.0            1   \n",
       "11329     1534     11    13350.015305            78.0            4   \n",
       "11330     1534     12     2371.711192            16.0            1   \n",
       "\n",
       "       start_ride_price  minute_price  subscription_fee subscription_type  \\\n",
       "0                     0             6               199             ultra   \n",
       "1                     0             6               199             ultra   \n",
       "2                     0             6               199             ultra   \n",
       "3                     0             6               199             ultra   \n",
       "4                     0             6               199             ultra   \n",
       "...                 ...           ...               ...               ...   \n",
       "11326                50             8                 0              free   \n",
       "11327                50             8                 0              free   \n",
       "11328                50             8                 0              free   \n",
       "11329                50             8                 0              free   \n",
       "11330                50             8                 0              free   \n",
       "\n",
       "       revenue  \n",
       "0        451.0  \n",
       "1        241.0  \n",
       "2        475.0  \n",
       "3        391.0  \n",
       "4        535.0  \n",
       "...        ...  \n",
       "11326    308.0  \n",
       "11327    484.0  \n",
       "11328    234.0  \n",
       "11329    824.0  \n",
       "11330    178.0  \n",
       "\n",
       "[11331 rows x 10 columns]"
      ]
     },
     "execution_count": 35,
     "metadata": {},
     "output_type": "execute_result"
    }
   ],
   "source": [
    "# Функция для расчёта выручки\n",
    "def revenue(row):\n",
    "    return row['start_ride_price'] * row['count_rides'] + row['minute_price'] * row['total_duration'] + row['subscription_fee']\n",
    "\n",
    "\n",
    "df['revenue'] = df.apply(revenue, axis=1)\n",
    "df"
   ]
  },
  {
   "cell_type": "code",
   "execution_count": 36,
   "id": "4b4ca11b",
   "metadata": {},
   "outputs": [
    {
     "data": {
      "text/html": [
       "<div>\n",
       "<style scoped>\n",
       "    .dataframe tbody tr th:only-of-type {\n",
       "        vertical-align: middle;\n",
       "    }\n",
       "\n",
       "    .dataframe tbody tr th {\n",
       "        vertical-align: top;\n",
       "    }\n",
       "\n",
       "    .dataframe thead th {\n",
       "        text-align: right;\n",
       "    }\n",
       "</style>\n",
       "<table border=\"1\" class=\"dataframe\">\n",
       "  <thead>\n",
       "    <tr style=\"text-align: right;\">\n",
       "      <th></th>\n",
       "      <th>subscription_type</th>\n",
       "      <th>count</th>\n",
       "      <th>revenue</th>\n",
       "      <th>relative_revenue</th>\n",
       "    </tr>\n",
       "  </thead>\n",
       "  <tbody>\n",
       "    <tr>\n",
       "      <th>0</th>\n",
       "      <td>free</td>\n",
       "      <td>6798</td>\n",
       "      <td>2234104.0</td>\n",
       "      <td>328.641365</td>\n",
       "    </tr>\n",
       "    <tr>\n",
       "      <th>1</th>\n",
       "      <td>ultra</td>\n",
       "      <td>4533</td>\n",
       "      <td>1644537.0</td>\n",
       "      <td>362.792191</td>\n",
       "    </tr>\n",
       "  </tbody>\n",
       "</table>\n",
       "</div>"
      ],
      "text/plain": [
       "  subscription_type  count    revenue  relative_revenue\n",
       "0              free   6798  2234104.0        328.641365\n",
       "1             ultra   4533  1644537.0        362.792191"
      ]
     },
     "execution_count": 36,
     "metadata": {},
     "output_type": "execute_result"
    }
   ],
   "source": [
    "(df.groupby(['subscription_type']).agg(count=('user_id', 'count'),\n",
    "                                       revenue=('revenue', 'sum'),\n",
    "                                      )\n",
    "                                 #выручку на одного пользователя для каждого типа подписки\n",
    "                                  .assign(relative_revenue =lambda x: (x['revenue'] / x['count']))\n",
    "                                  .reset_index())\n"
   ]
  },
  {
   "cell_type": "code",
   "execution_count": 37,
   "id": "0ffdac92",
   "metadata": {},
   "outputs": [
    {
     "data": {
      "text/html": [
       "<div>\n",
       "<style scoped>\n",
       "    .dataframe tbody tr th:only-of-type {\n",
       "        vertical-align: middle;\n",
       "    }\n",
       "\n",
       "    .dataframe tbody tr th {\n",
       "        vertical-align: top;\n",
       "    }\n",
       "\n",
       "    .dataframe thead th {\n",
       "        text-align: right;\n",
       "    }\n",
       "</style>\n",
       "<table border=\"1\" class=\"dataframe\">\n",
       "  <thead>\n",
       "    <tr style=\"text-align: right;\">\n",
       "      <th></th>\n",
       "      <th>month</th>\n",
       "      <th>subscription_type</th>\n",
       "      <th>revenue</th>\n",
       "    </tr>\n",
       "  </thead>\n",
       "  <tbody>\n",
       "    <tr>\n",
       "      <th>0</th>\n",
       "      <td>1</td>\n",
       "      <td>free</td>\n",
       "      <td>193850.0</td>\n",
       "    </tr>\n",
       "    <tr>\n",
       "      <th>1</th>\n",
       "      <td>1</td>\n",
       "      <td>ultra</td>\n",
       "      <td>144108.0</td>\n",
       "    </tr>\n",
       "    <tr>\n",
       "      <th>2</th>\n",
       "      <td>2</td>\n",
       "      <td>free</td>\n",
       "      <td>165856.0</td>\n",
       "    </tr>\n",
       "    <tr>\n",
       "      <th>3</th>\n",
       "      <td>2</td>\n",
       "      <td>ultra</td>\n",
       "      <td>124572.0</td>\n",
       "    </tr>\n",
       "    <tr>\n",
       "      <th>4</th>\n",
       "      <td>3</td>\n",
       "      <td>free</td>\n",
       "      <td>187214.0</td>\n",
       "    </tr>\n",
       "    <tr>\n",
       "      <th>5</th>\n",
       "      <td>3</td>\n",
       "      <td>ultra</td>\n",
       "      <td>142608.0</td>\n",
       "    </tr>\n",
       "    <tr>\n",
       "      <th>6</th>\n",
       "      <td>4</td>\n",
       "      <td>free</td>\n",
       "      <td>185598.0</td>\n",
       "    </tr>\n",
       "    <tr>\n",
       "      <th>7</th>\n",
       "      <td>4</td>\n",
       "      <td>ultra</td>\n",
       "      <td>137318.0</td>\n",
       "    </tr>\n",
       "    <tr>\n",
       "      <th>8</th>\n",
       "      <td>5</td>\n",
       "      <td>free</td>\n",
       "      <td>188030.0</td>\n",
       "    </tr>\n",
       "    <tr>\n",
       "      <th>9</th>\n",
       "      <td>5</td>\n",
       "      <td>ultra</td>\n",
       "      <td>149235.0</td>\n",
       "    </tr>\n",
       "    <tr>\n",
       "      <th>10</th>\n",
       "      <td>6</td>\n",
       "      <td>free</td>\n",
       "      <td>192144.0</td>\n",
       "    </tr>\n",
       "    <tr>\n",
       "      <th>11</th>\n",
       "      <td>6</td>\n",
       "      <td>ultra</td>\n",
       "      <td>143834.0</td>\n",
       "    </tr>\n",
       "    <tr>\n",
       "      <th>12</th>\n",
       "      <td>7</td>\n",
       "      <td>free</td>\n",
       "      <td>185038.0</td>\n",
       "    </tr>\n",
       "    <tr>\n",
       "      <th>13</th>\n",
       "      <td>7</td>\n",
       "      <td>ultra</td>\n",
       "      <td>143466.0</td>\n",
       "    </tr>\n",
       "    <tr>\n",
       "      <th>14</th>\n",
       "      <td>8</td>\n",
       "      <td>free</td>\n",
       "      <td>187116.0</td>\n",
       "    </tr>\n",
       "    <tr>\n",
       "      <th>15</th>\n",
       "      <td>8</td>\n",
       "      <td>ultra</td>\n",
       "      <td>138534.0</td>\n",
       "    </tr>\n",
       "    <tr>\n",
       "      <th>16</th>\n",
       "      <td>9</td>\n",
       "      <td>free</td>\n",
       "      <td>193700.0</td>\n",
       "    </tr>\n",
       "    <tr>\n",
       "      <th>17</th>\n",
       "      <td>9</td>\n",
       "      <td>ultra</td>\n",
       "      <td>129337.0</td>\n",
       "    </tr>\n",
       "    <tr>\n",
       "      <th>18</th>\n",
       "      <td>10</td>\n",
       "      <td>free</td>\n",
       "      <td>181428.0</td>\n",
       "    </tr>\n",
       "    <tr>\n",
       "      <th>19</th>\n",
       "      <td>10</td>\n",
       "      <td>ultra</td>\n",
       "      <td>133932.0</td>\n",
       "    </tr>\n",
       "    <tr>\n",
       "      <th>20</th>\n",
       "      <td>11</td>\n",
       "      <td>free</td>\n",
       "      <td>179076.0</td>\n",
       "    </tr>\n",
       "    <tr>\n",
       "      <th>21</th>\n",
       "      <td>11</td>\n",
       "      <td>ultra</td>\n",
       "      <td>126546.0</td>\n",
       "    </tr>\n",
       "    <tr>\n",
       "      <th>22</th>\n",
       "      <td>12</td>\n",
       "      <td>free</td>\n",
       "      <td>195054.0</td>\n",
       "    </tr>\n",
       "    <tr>\n",
       "      <th>23</th>\n",
       "      <td>12</td>\n",
       "      <td>ultra</td>\n",
       "      <td>131047.0</td>\n",
       "    </tr>\n",
       "  </tbody>\n",
       "</table>\n",
       "</div>"
      ],
      "text/plain": [
       "    month subscription_type   revenue\n",
       "0       1              free  193850.0\n",
       "1       1             ultra  144108.0\n",
       "2       2              free  165856.0\n",
       "3       2             ultra  124572.0\n",
       "4       3              free  187214.0\n",
       "5       3             ultra  142608.0\n",
       "6       4              free  185598.0\n",
       "7       4             ultra  137318.0\n",
       "8       5              free  188030.0\n",
       "9       5             ultra  149235.0\n",
       "10      6              free  192144.0\n",
       "11      6             ultra  143834.0\n",
       "12      7              free  185038.0\n",
       "13      7             ultra  143466.0\n",
       "14      8              free  187116.0\n",
       "15      8             ultra  138534.0\n",
       "16      9              free  193700.0\n",
       "17      9             ultra  129337.0\n",
       "18     10              free  181428.0\n",
       "19     10             ultra  133932.0\n",
       "20     11              free  179076.0\n",
       "21     11             ultra  126546.0\n",
       "22     12              free  195054.0\n",
       "23     12             ultra  131047.0"
      ]
     },
     "execution_count": 37,
     "metadata": {},
     "output_type": "execute_result"
    }
   ],
   "source": [
    "monthly_revenue = df.groupby(['month', 'subscription_type']).agg(revenue=('revenue', 'sum')).reset_index()\n",
    "monthly_revenue"
   ]
  },
  {
   "cell_type": "code",
   "execution_count": 38,
   "id": "169ff684",
   "metadata": {},
   "outputs": [
    {
     "data": {
      "image/png": "[encoded data removed]",
      "text/plain": [
       "<Figure size 864x432 with 1 Axes>"
      ]
     },
     "metadata": {
      "needs_background": "light"
     },
     "output_type": "display_data"
    }
   ],
   "source": [
    "plt.figure(figsize=(12, 6))\n",
    "sns.lineplot(data=monthly_revenue, x='month', y='revenue', hue='subscription_type', marker='o')\n",
    "plt.title('Помесечная выручка для каждого вида подписки')\n",
    "plt.xlabel('Месяц')\n",
    "plt.ylabel('Выручка')\n",
    "plt.legend(title='Тип подписки')\n",
    "plt.grid(True)\n",
    "plt.show()"
   ]
  },
  {
   "cell_type": "markdown",
   "id": "d48a6c7b",
   "metadata": {},
   "source": [
    "**Выручка от тех пользователей, которые не пользуются подпиской, больше, но это связано с тем, что таких пользователей больше в целом. Если разделить выручку на одного пользователя, то получится, что выручка без подписки составляет 328, а с подпиской — 362.**\n",
    "\n",
    "**В феврале выручка снижается в обеих категориях, вероятно, из-за погодных условий. С наступлением весны она начинает расти.\n",
    "Пик выручки среди подписчиков приходится на май, после чего она постепенно снижается. Пользователи без подписки наиболее активны в сентябре, возможно, это связано с началом учебного года. В то же время количество подписчиков значительно уменьшается.**"
   ]
  },
  {
   "cell_type": "markdown",
   "id": "41545ac0",
   "metadata": {},
   "source": [
    "#### Проверка гипотез"
   ]
  },
  {
   "cell_type": "markdown",
   "id": "5252952c",
   "metadata": {},
   "source": [
    "Продакт-менеджеры сервиса хотят увеличить количество пользователей с подпиской. Для этого они будут проводить различные акции, но сначала нужно выяснить несколько важных моментов.\n"
   ]
  },
  {
   "cell_type": "markdown",
   "id": "c0d18682",
   "metadata": {},
   "source": [
    "6.1 Важно понять, тратят ли пользователи с подпиской больше времени на поездки? Если да, то пользователи с подпиской могут быть «выгоднее» для компании. "
   ]
  },
  {
   "cell_type": "markdown",
   "id": "420c9817",
   "metadata": {},
   "source": [
    "Н0: продолжительность поездки с подпиской равны поездкам без подписки  \n",
    "Н1: продолжительность поездки с подпиской больше поездок без подписки  "
   ]
  },
  {
   "cell_type": "code",
   "execution_count": 39,
   "id": "ef371fd9",
   "metadata": {},
   "outputs": [
    {
     "name": "stdout",
     "output_type": "stream",
     "text": [
      "p-значение: 1.2804098316645618e-34\n",
      "Отвергаем нулевую гипотезу\n"
     ]
    }
   ],
   "source": [
    "alpha = 0.05 # уровень статистической значимости\n",
    "\n",
    "results = st.ttest_ind(\n",
    "    user_ultra['duration'], \n",
    "    user_free['duration'],\n",
    "    alternative='greater',\n",
    "   # equal_var=False\n",
    ")\n",
    "\n",
    "print('p-значение:', results.pvalue)\n",
    "\n",
    "if results.pvalue < alpha:\n",
    "    print('Отвергаем нулевую гипотезу')\n",
    "else:\n",
    "    print('Не получилось отвергнуть нулевую гипотезу') "
   ]
  },
  {
   "cell_type": "markdown",
   "id": "5c9771a7",
   "metadata": {},
   "source": [
    "**Нулевая гипотеза не подтвердилась. Можно предположить, что в среднем поездки с подпиской длятся дольше, чем без неё, хотя это не так очевидно на гистограммах**."
   ]
  },
  {
   "cell_type": "markdown",
   "id": "b18b49fa",
   "metadata": {},
   "source": [
    "6.2 Расстояние одной поездки в 3130 метров — оптимальное с точки зрения износа самоката. Можно ли сказать, что среднее расстояние, которое проезжают пользователи с подпиской за одну поездку, не превышает 3130 метров? \n"
   ]
  },
  {
   "cell_type": "markdown",
   "id": "4e8ad8d8",
   "metadata": {},
   "source": [
    "Н0: Среднее расстояние поездок с подпиской равно 3130 метров  \n",
    "Н1: Среднее расстояние поездок с подпиской больше 3130 метров"
   ]
  },
  {
   "cell_type": "code",
   "execution_count": 40,
   "id": "ce2acccf",
   "metadata": {},
   "outputs": [
    {
     "name": "stdout",
     "output_type": "stream",
     "text": [
      "p-значение: 0.9195368847849785\n",
      "Не получилось отвергнуть нулевую гипотезу\n"
     ]
    }
   ],
   "source": [
    "distance = 3130\n",
    "alpha = 0.05\n",
    "\n",
    "results = st.ttest_1samp(\n",
    "    user_ultra['distance'], \n",
    "    distance,\n",
    "    alternative='greater')\n",
    "\n",
    "print('p-значение:', results.pvalue)\n",
    "\n",
    "if results.pvalue < alpha:\n",
    "    print('Отвергаем нулевую гипотезу')\n",
    "else:\n",
    "    print('Не получилось отвергнуть нулевую гипотезу')"
   ]
  },
  {
   "cell_type": "markdown",
   "id": "aadb94a0",
   "metadata": {},
   "source": [
    "**Не удалось опровергнуть нулевую гипотезу, поэтому можно сделать вывод, что среднее расстояние поездок пользователей с подпиской не превышает оптимального значения в 3130 метров для предотвращения износа самоката.**"
   ]
  },
  {
   "cell_type": "markdown",
   "id": "dca50301",
   "metadata": {},
   "source": [
    "6.3 Проверьте гипотезу о том, будет ли помесячная выручка от пользователей с подпиской по месяцам выше, чем выручка от пользователей без подписки. \n"
   ]
  },
  {
   "cell_type": "markdown",
   "id": "79382658",
   "metadata": {},
   "source": [
    "Н0: Помесячная выручка от пользователей с подпиской равна помесячной выручке от пользователей без подписки  \n",
    "Н1: Помесячная выручка от пользователей с подпиской больше помесячной выручки от пользователей без подписки"
   ]
  },
  {
   "cell_type": "code",
   "execution_count": 41,
   "id": "26ac7bcd",
   "metadata": {},
   "outputs": [
    {
     "name": "stdout",
     "output_type": "stream",
     "text": [
      "p-значение: 2.398141735996644e-13\n",
      "Отвергаем нулевую гипотезу\n"
     ]
    }
   ],
   "source": [
    "alpha = 0.05 \n",
    "\n",
    "results = st.ttest_ind(\n",
    "    monthly_revenue[monthly_revenue['subscription_type'] == 'free']['revenue'], \n",
    "    monthly_revenue[monthly_revenue['subscription_type'] == 'ultra']['revenue'],\n",
    "    alternative='greater'\n",
    ")\n",
    "\n",
    "print('p-значение:', results.pvalue)\n",
    "\n",
    "if results.pvalue < alpha:\n",
    "    print('Отвергаем нулевую гипотезу')\n",
    "else:\n",
    "    print('Не получилось отвергнуть нулевую гипотезу') "
   ]
  },
  {
   "cell_type": "markdown",
   "id": "cbc99205",
   "metadata": {},
   "source": [
    "**Нулевая гипотеза была отвергнута. Это позволяет сделать вывод, что средняя месячная выручка от подписчиков выше, чем от обычных пользователей.**"
   ]
  },
  {
   "cell_type": "markdown",
   "id": "cdfa444e",
   "metadata": {},
   "source": [
    "6.4 Представьте такую ситуацию: техническая команда сервиса обновила сервера, с которыми взаимодействует мобильное приложение. Она надеется, что из-за этого количество обращений в техподдержку значимо снизилось. Некоторый файл содержит для каждого пользователя данные о количестве обращений до обновления и после него. Какой тест вам понадобился бы для проверки этой гипотезы?"
   ]
  },
  {
   "cell_type": "markdown",
   "id": "6cf81b93",
   "metadata": {},
   "source": [
    "**В данной ситуации, когда у нас есть данные о количестве обращений в техподдержку для каждого пользователя до и после обновления сервера, можно использовать парный t-тест. Этот тест подходит для сравнения двух связанных выборок, чтобы определить, есть ли статистически значимая разница между их средними значениями.**"
   ]
  },
  {
   "cell_type": "markdown",
   "id": "362c98db",
   "metadata": {},
   "source": [
    "#### Выводы"
   ]
  },
  {
   "cell_type": "markdown",
   "id": "763a92c8",
   "metadata": {},
   "source": [
    "Больше всего пользователей зарегистрировано в Пятигорске, а меньше всего — в Москве. В остальных городах количество пользователей примерно одинаково.\n",
    "\n",
    "45,6% пользователей имеют подписку, а 54,4% — нет.\n",
    "\n",
    "Среди пользователей сервиса преобладают люди в возрасте от 22 до 28 лет.\n",
    "\n",
    "Среднее расстояние, которое проезжают пользователи за одну поездку, составляет 3,13 км.\n",
    "Пользователи без подписки имеют более широкий диапазон значений расстояния по сравнению с пользователями с подпиской.\n",
    "\n",
    "Поездка обычно длится 17,8 минуты, при этом медиана составляет 17,6 минуты. Время поездки у пользователей обеих категорий примерно одинаковое. В среднем пользователи с подпиской используют самокат 18 минут, а пользователи без подписки — 17 минут.\n",
    "\n",
    "95 поездок заняли всего полминуты, при этом пользователи проехали расстояние от 4 км. Самокаты не могут развивать такую скорость. Стоит обратить на это внимание.\n",
    "\n",
    "Выручка от тех пользователей, которые не пользуются подпиской, больше, но это связано с тем, что таких пользователей больше в целом. Если разделить выручку на одного пользователя, то получится, что выручка без подписки составляет 328, а с подпиской — 362.  \n",
    "В феврале выручка снижается в обеих категориях, вероятно, из-за погодных условий. С наступлением весны она начинает расти. Пик выручки среди подписчиков приходится на май, после чего она постепенно снижается. Пользователи без подписки наиболее активны в сентябре, возможно, это связано с началом учебного года. В то же время количество подписчиков значительно уменьшается.\n",
    "\n",
    "\n",
    "Можно предположить, что в среднем поездки с подпиской длятся дольше, чем без неё, хотя это не так очевидно на гистограммах.\n",
    "\n",
    "Среднее расстояние поездок пользователей с подпиской не превышает оптимального значения в 3130 метров для предотвращения износа самоката.\n",
    "\n",
    "Средний доход от подписчиков за месяц больше, чем от обычных пользователей.\n"
   ]
  },
  {
   "cell_type": "code",
   "execution_count": null,
   "id": "2d211fec",
   "metadata": {},
   "outputs": [],
   "source": []
  }
 ],
 "metadata": {
  "ExecuteTimeLog": [
   {
    "duration": 358,
    "start_time": "2024-07-12T06:44:51.122Z"
   },
   {
    "duration": 85,
    "start_time": "2024-07-12T06:44:54.169Z"
   },
   {
    "duration": 74,
    "start_time": "2024-07-12T06:45:12.750Z"
   },
   {
    "duration": 163,
    "start_time": "2024-07-12T06:49:51.645Z"
   },
   {
    "duration": 5,
    "start_time": "2024-07-12T08:28:28.016Z"
   },
   {
    "duration": 3,
    "start_time": "2024-07-12T08:28:34.386Z"
   },
   {
    "duration": 27,
    "start_time": "2024-07-12T08:28:39.309Z"
   },
   {
    "duration": 5,
    "start_time": "2024-07-12T08:29:12.124Z"
   },
   {
    "duration": 34,
    "start_time": "2024-07-12T08:29:13.055Z"
   },
   {
    "duration": 3,
    "start_time": "2024-07-12T08:29:45.716Z"
   },
   {
    "duration": 32,
    "start_time": "2024-07-12T08:29:46.498Z"
   },
   {
    "duration": 3,
    "start_time": "2024-07-12T08:29:55.716Z"
   },
   {
    "duration": 28,
    "start_time": "2024-07-12T08:29:57.339Z"
   },
   {
    "duration": 5,
    "start_time": "2024-07-12T08:32:02.593Z"
   },
   {
    "duration": 38,
    "start_time": "2024-07-12T08:32:05.386Z"
   },
   {
    "duration": 417,
    "start_time": "2024-07-17T00:15:42.026Z"
   },
   {
    "duration": 284,
    "start_time": "2024-07-17T00:15:42.445Z"
   },
   {
    "duration": 4,
    "start_time": "2024-07-17T00:15:42.730Z"
   },
   {
    "duration": 43,
    "start_time": "2024-07-17T00:15:42.736Z"
   },
   {
    "duration": 73,
    "start_time": "2024-07-17T00:15:42.781Z"
   },
   {
    "duration": 346,
    "start_time": "2024-07-17T00:15:42.855Z"
   },
   {
    "duration": 306,
    "start_time": "2024-07-17T00:18:39.433Z"
   },
   {
    "duration": 7,
    "start_time": "2024-07-17T00:19:10.144Z"
   },
   {
    "duration": 10,
    "start_time": "2024-07-17T00:33:51.611Z"
   },
   {
    "duration": 9,
    "start_time": "2024-07-17T00:41:33.735Z"
   },
   {
    "duration": 7,
    "start_time": "2024-07-17T00:58:27.766Z"
   },
   {
    "duration": 59,
    "start_time": "2024-07-17T00:58:45.652Z"
   },
   {
    "duration": 5,
    "start_time": "2024-07-17T01:06:21.135Z"
   },
   {
    "duration": 373,
    "start_time": "2024-07-17T01:06:40.961Z"
   },
   {
    "duration": 67,
    "start_time": "2024-07-17T01:06:41.337Z"
   },
   {
    "duration": 5,
    "start_time": "2024-07-17T01:06:41.405Z"
   },
   {
    "duration": 51,
    "start_time": "2024-07-17T01:06:41.412Z"
   },
   {
    "duration": 74,
    "start_time": "2024-07-17T01:06:41.464Z"
   },
   {
    "duration": 6,
    "start_time": "2024-07-17T01:06:41.540Z"
   },
   {
    "duration": 10,
    "start_time": "2024-07-17T01:06:41.548Z"
   },
   {
    "duration": 14,
    "start_time": "2024-07-17T01:06:41.559Z"
   },
   {
    "duration": 5,
    "start_time": "2024-07-17T01:06:41.574Z"
   },
   {
    "duration": 15,
    "start_time": "2024-07-17T01:06:54.900Z"
   },
   {
    "duration": 11,
    "start_time": "2024-07-17T01:07:36.539Z"
   },
   {
    "duration": 7,
    "start_time": "2024-07-17T01:09:09.924Z"
   },
   {
    "duration": 6,
    "start_time": "2024-07-17T01:10:12.477Z"
   },
   {
    "duration": 7,
    "start_time": "2024-07-17T01:10:16.855Z"
   },
   {
    "duration": 14,
    "start_time": "2024-07-17T01:10:52.527Z"
   },
   {
    "duration": 67,
    "start_time": "2024-07-17T02:38:15.596Z"
   },
   {
    "duration": 16,
    "start_time": "2024-07-17T02:38:29.842Z"
   },
   {
    "duration": 19,
    "start_time": "2024-07-17T02:38:50.736Z"
   },
   {
    "duration": 13,
    "start_time": "2024-07-17T02:40:12.343Z"
   },
   {
    "duration": 15,
    "start_time": "2024-07-17T02:40:27.121Z"
   },
   {
    "duration": 13,
    "start_time": "2024-07-17T02:41:01.682Z"
   },
   {
    "duration": 19,
    "start_time": "2024-07-17T02:41:29.443Z"
   },
   {
    "duration": 13,
    "start_time": "2024-07-17T02:43:17.315Z"
   },
   {
    "duration": 5,
    "start_time": "2024-07-17T02:44:15.737Z"
   },
   {
    "duration": 8,
    "start_time": "2024-07-17T02:44:33.952Z"
   },
   {
    "duration": 10,
    "start_time": "2024-07-17T02:46:02.476Z"
   },
   {
    "duration": 7,
    "start_time": "2024-07-17T02:47:59.851Z"
   },
   {
    "duration": 9,
    "start_time": "2024-07-17T02:48:14.055Z"
   },
   {
    "duration": 9,
    "start_time": "2024-07-17T02:48:21.275Z"
   },
   {
    "duration": 6,
    "start_time": "2024-07-17T03:34:18.632Z"
   },
   {
    "duration": 13,
    "start_time": "2024-07-17T03:35:02.076Z"
   },
   {
    "duration": 8,
    "start_time": "2024-07-17T03:35:58.551Z"
   },
   {
    "duration": 13,
    "start_time": "2024-07-17T03:36:10.530Z"
   },
   {
    "duration": 13,
    "start_time": "2024-07-17T03:37:34.756Z"
   },
   {
    "duration": 14,
    "start_time": "2024-07-17T03:37:58.938Z"
   },
   {
    "duration": 8,
    "start_time": "2024-07-17T03:40:08.049Z"
   },
   {
    "duration": 13,
    "start_time": "2024-07-17T03:40:40.089Z"
   },
   {
    "duration": 16,
    "start_time": "2024-07-17T03:41:33.832Z"
   },
   {
    "duration": 380,
    "start_time": "2024-07-18T23:41:57.871Z"
   },
   {
    "duration": 283,
    "start_time": "2024-07-18T23:41:58.253Z"
   },
   {
    "duration": 4,
    "start_time": "2024-07-18T23:41:58.537Z"
   },
   {
    "duration": 38,
    "start_time": "2024-07-18T23:41:58.543Z"
   },
   {
    "duration": 35,
    "start_time": "2024-07-18T23:41:58.583Z"
   },
   {
    "duration": 6,
    "start_time": "2024-07-18T23:41:58.619Z"
   },
   {
    "duration": 13,
    "start_time": "2024-07-18T23:41:58.626Z"
   },
   {
    "duration": 13,
    "start_time": "2024-07-18T23:41:58.640Z"
   },
   {
    "duration": 8,
    "start_time": "2024-07-18T23:41:58.655Z"
   },
   {
    "duration": 6,
    "start_time": "2024-07-18T23:41:58.665Z"
   },
   {
    "duration": 7,
    "start_time": "2024-07-18T23:41:58.673Z"
   },
   {
    "duration": 167,
    "start_time": "2024-07-18T23:43:25.721Z"
   },
   {
    "duration": 69,
    "start_time": "2024-07-18T23:43:26.521Z"
   },
   {
    "duration": 11,
    "start_time": "2024-07-18T23:45:33.150Z"
   },
   {
    "duration": 8,
    "start_time": "2024-07-18T23:46:08.976Z"
   },
   {
    "duration": 5,
    "start_time": "2024-07-18T23:46:33.670Z"
   },
   {
    "duration": 11,
    "start_time": "2024-07-18T23:47:35.443Z"
   },
   {
    "duration": 5,
    "start_time": "2024-07-18T23:48:09.526Z"
   },
   {
    "duration": 10,
    "start_time": "2024-07-18T23:48:25.165Z"
   },
   {
    "duration": 5,
    "start_time": "2024-07-18T23:48:47.119Z"
   },
   {
    "duration": 6,
    "start_time": "2024-07-18T23:49:59.760Z"
   },
   {
    "duration": 7,
    "start_time": "2024-07-18T23:50:16.167Z"
   },
   {
    "duration": 5,
    "start_time": "2024-07-18T23:50:38.159Z"
   },
   {
    "duration": 4,
    "start_time": "2024-07-18T23:50:43.711Z"
   },
   {
    "duration": 5,
    "start_time": "2024-07-18T23:51:22.700Z"
   },
   {
    "duration": 695,
    "start_time": "2024-07-18T23:53:58.535Z"
   },
   {
    "duration": 72,
    "start_time": "2024-07-18T23:53:59.232Z"
   },
   {
    "duration": 7,
    "start_time": "2024-07-18T23:53:59.305Z"
   },
   {
    "duration": 63,
    "start_time": "2024-07-18T23:53:59.314Z"
   },
   {
    "duration": 43,
    "start_time": "2024-07-18T23:53:59.379Z"
   },
   {
    "duration": 6,
    "start_time": "2024-07-18T23:53:59.423Z"
   },
   {
    "duration": 14,
    "start_time": "2024-07-18T23:53:59.430Z"
   },
   {
    "duration": 20,
    "start_time": "2024-07-18T23:53:59.446Z"
   },
   {
    "duration": 28,
    "start_time": "2024-07-18T23:53:59.467Z"
   },
   {
    "duration": 14,
    "start_time": "2024-07-18T23:53:59.497Z"
   },
   {
    "duration": 92,
    "start_time": "2024-07-18T23:53:59.512Z"
   },
   {
    "duration": 12,
    "start_time": "2024-07-18T23:53:59.606Z"
   },
   {
    "duration": 8,
    "start_time": "2024-07-18T23:53:59.620Z"
   },
   {
    "duration": 10,
    "start_time": "2024-07-18T23:53:59.629Z"
   },
   {
    "duration": 147,
    "start_time": "2024-07-18T23:53:59.641Z"
   },
   {
    "duration": 120,
    "start_time": "2024-07-18T23:55:00.167Z"
   },
   {
    "duration": 133,
    "start_time": "2024-07-18T23:55:30.246Z"
   },
   {
    "duration": 199,
    "start_time": "2024-07-18T23:57:08.090Z"
   },
   {
    "duration": 5,
    "start_time": "2024-07-18T23:58:35.383Z"
   },
   {
    "duration": 5,
    "start_time": "2024-07-18T23:58:53.734Z"
   },
   {
    "duration": 142,
    "start_time": "2024-07-18T23:59:40.888Z"
   },
   {
    "duration": 105,
    "start_time": "2024-07-18T23:59:56.690Z"
   },
   {
    "duration": 103,
    "start_time": "2024-07-19T00:02:05.676Z"
   },
   {
    "duration": 10,
    "start_time": "2024-07-19T00:02:57.893Z"
   },
   {
    "duration": 12,
    "start_time": "2024-07-19T00:03:37.870Z"
   },
   {
    "duration": 5,
    "start_time": "2024-07-19T00:04:52.095Z"
   },
   {
    "duration": 64,
    "start_time": "2024-07-19T01:52:27.945Z"
   },
   {
    "duration": 10,
    "start_time": "2024-07-19T01:54:54.575Z"
   },
   {
    "duration": 18,
    "start_time": "2024-07-19T01:55:18.758Z"
   },
   {
    "duration": 9,
    "start_time": "2024-07-19T01:55:59.281Z"
   },
   {
    "duration": 10,
    "start_time": "2024-07-19T01:59:06.264Z"
   },
   {
    "duration": 5,
    "start_time": "2024-07-19T01:59:42.146Z"
   },
   {
    "duration": 9,
    "start_time": "2024-07-19T01:59:53.282Z"
   },
   {
    "duration": 147,
    "start_time": "2024-07-19T02:05:31.379Z"
   },
   {
    "duration": 135,
    "start_time": "2024-07-19T02:07:14.248Z"
   },
   {
    "duration": 138,
    "start_time": "2024-07-19T02:07:24.640Z"
   },
   {
    "duration": 124,
    "start_time": "2024-07-19T02:07:35.736Z"
   },
   {
    "duration": 172,
    "start_time": "2024-07-19T02:07:51.127Z"
   },
   {
    "duration": 104,
    "start_time": "2024-07-19T02:08:03.561Z"
   },
   {
    "duration": 113,
    "start_time": "2024-07-19T02:08:21.002Z"
   },
   {
    "duration": 117,
    "start_time": "2024-07-19T02:08:28.329Z"
   },
   {
    "duration": 188,
    "start_time": "2024-07-19T02:09:26.922Z"
   },
   {
    "duration": 143,
    "start_time": "2024-07-19T02:09:38.530Z"
   },
   {
    "duration": 132,
    "start_time": "2024-07-19T02:10:32.379Z"
   },
   {
    "duration": 172,
    "start_time": "2024-07-19T02:10:46.907Z"
   },
   {
    "duration": 129,
    "start_time": "2024-07-19T02:11:08.099Z"
   },
   {
    "duration": 132,
    "start_time": "2024-07-19T02:11:18.364Z"
   },
   {
    "duration": 130,
    "start_time": "2024-07-19T02:13:47.033Z"
   },
   {
    "duration": 133,
    "start_time": "2024-07-19T02:14:53.154Z"
   },
   {
    "duration": 143,
    "start_time": "2024-07-19T02:15:16.811Z"
   },
   {
    "duration": 156,
    "start_time": "2024-07-19T02:16:33.260Z"
   },
   {
    "duration": 263,
    "start_time": "2024-07-19T02:17:33.549Z"
   },
   {
    "duration": 212,
    "start_time": "2024-07-19T02:17:43.109Z"
   },
   {
    "duration": 541,
    "start_time": "2024-07-19T02:17:58.293Z"
   },
   {
    "duration": 160,
    "start_time": "2024-07-19T02:19:49.555Z"
   },
   {
    "duration": 186,
    "start_time": "2024-07-19T02:20:46.331Z"
   },
   {
    "duration": 7,
    "start_time": "2024-07-19T02:24:03.735Z"
   },
   {
    "duration": 7,
    "start_time": "2024-07-19T02:24:25.879Z"
   },
   {
    "duration": 7,
    "start_time": "2024-07-19T02:25:32.455Z"
   },
   {
    "duration": 155,
    "start_time": "2024-07-19T02:26:23.380Z"
   },
   {
    "duration": 115,
    "start_time": "2024-07-19T02:26:34.772Z"
   },
   {
    "duration": 165,
    "start_time": "2024-07-19T02:26:47.260Z"
   },
   {
    "duration": 761,
    "start_time": "2024-07-20T07:42:48.979Z"
   },
   {
    "duration": 282,
    "start_time": "2024-07-20T07:42:49.742Z"
   },
   {
    "duration": 6,
    "start_time": "2024-07-20T07:42:50.026Z"
   },
   {
    "duration": 60,
    "start_time": "2024-07-20T07:42:50.034Z"
   },
   {
    "duration": 36,
    "start_time": "2024-07-20T07:42:50.096Z"
   },
   {
    "duration": 6,
    "start_time": "2024-07-20T07:42:50.133Z"
   },
   {
    "duration": 11,
    "start_time": "2024-07-20T07:42:50.140Z"
   },
   {
    "duration": 15,
    "start_time": "2024-07-20T07:42:50.152Z"
   },
   {
    "duration": 9,
    "start_time": "2024-07-20T07:42:50.168Z"
   },
   {
    "duration": 6,
    "start_time": "2024-07-20T07:42:50.179Z"
   },
   {
    "duration": 30,
    "start_time": "2024-07-20T07:42:50.186Z"
   },
   {
    "duration": 5,
    "start_time": "2024-07-20T07:42:50.218Z"
   },
   {
    "duration": 7,
    "start_time": "2024-07-20T07:42:50.224Z"
   },
   {
    "duration": 6,
    "start_time": "2024-07-20T07:42:50.233Z"
   },
   {
    "duration": 7,
    "start_time": "2024-07-20T07:42:50.240Z"
   },
   {
    "duration": 148,
    "start_time": "2024-07-20T07:42:50.248Z"
   },
   {
    "duration": 153,
    "start_time": "2024-07-20T07:42:50.398Z"
   },
   {
    "duration": 8,
    "start_time": "2024-07-20T07:42:50.552Z"
   },
   {
    "duration": 184,
    "start_time": "2024-07-20T07:42:50.561Z"
   },
   {
    "duration": 217,
    "start_time": "2024-07-20T07:42:50.747Z"
   },
   {
    "duration": 214,
    "start_time": "2024-07-20T07:44:00.698Z"
   },
   {
    "duration": 7,
    "start_time": "2024-07-20T07:46:25.892Z"
   },
   {
    "duration": 62,
    "start_time": "2024-07-20T07:48:31.189Z"
   },
   {
    "duration": 76,
    "start_time": "2024-07-20T07:48:31.611Z"
   },
   {
    "duration": 599,
    "start_time": "2024-07-20T07:55:26.187Z"
   },
   {
    "duration": 68,
    "start_time": "2024-07-20T07:55:26.787Z"
   },
   {
    "duration": 4,
    "start_time": "2024-07-20T07:55:26.856Z"
   },
   {
    "duration": 39,
    "start_time": "2024-07-20T07:55:26.861Z"
   },
   {
    "duration": 41,
    "start_time": "2024-07-20T07:55:26.902Z"
   },
   {
    "duration": 8,
    "start_time": "2024-07-20T07:55:26.945Z"
   },
   {
    "duration": 9,
    "start_time": "2024-07-20T07:55:26.954Z"
   },
   {
    "duration": 18,
    "start_time": "2024-07-20T07:55:26.965Z"
   },
   {
    "duration": 33,
    "start_time": "2024-07-20T07:55:26.984Z"
   },
   {
    "duration": 8,
    "start_time": "2024-07-20T07:55:27.019Z"
   },
   {
    "duration": 79,
    "start_time": "2024-07-20T07:55:27.029Z"
   },
   {
    "duration": 6,
    "start_time": "2024-07-20T07:55:27.110Z"
   },
   {
    "duration": 26,
    "start_time": "2024-07-20T07:55:27.118Z"
   },
   {
    "duration": 7,
    "start_time": "2024-07-20T07:55:27.147Z"
   },
   {
    "duration": 4,
    "start_time": "2024-07-20T07:55:27.155Z"
   },
   {
    "duration": 129,
    "start_time": "2024-07-20T07:55:27.160Z"
   },
   {
    "duration": 151,
    "start_time": "2024-07-20T07:55:27.290Z"
   },
   {
    "duration": 8,
    "start_time": "2024-07-20T07:55:27.442Z"
   },
   {
    "duration": 175,
    "start_time": "2024-07-20T07:55:27.451Z"
   },
   {
    "duration": 7,
    "start_time": "2024-07-20T07:55:27.627Z"
   },
   {
    "duration": 251,
    "start_time": "2024-07-20T07:55:27.636Z"
   },
   {
    "duration": 608,
    "start_time": "2024-07-20T07:56:41.000Z"
   },
   {
    "duration": 66,
    "start_time": "2024-07-20T07:56:41.609Z"
   },
   {
    "duration": 4,
    "start_time": "2024-07-20T07:56:41.677Z"
   },
   {
    "duration": 39,
    "start_time": "2024-07-20T07:56:41.683Z"
   },
   {
    "duration": 37,
    "start_time": "2024-07-20T07:56:41.723Z"
   },
   {
    "duration": 6,
    "start_time": "2024-07-20T07:56:41.761Z"
   },
   {
    "duration": 12,
    "start_time": "2024-07-20T07:56:41.768Z"
   },
   {
    "duration": 38,
    "start_time": "2024-07-20T07:56:41.782Z"
   },
   {
    "duration": 9,
    "start_time": "2024-07-20T07:56:41.821Z"
   },
   {
    "duration": 9,
    "start_time": "2024-07-20T07:56:41.832Z"
   },
   {
    "duration": 6,
    "start_time": "2024-07-20T07:56:41.842Z"
   },
   {
    "duration": 26,
    "start_time": "2024-07-20T07:56:41.849Z"
   },
   {
    "duration": 7,
    "start_time": "2024-07-20T07:56:41.876Z"
   },
   {
    "duration": 6,
    "start_time": "2024-07-20T07:56:41.884Z"
   },
   {
    "duration": 22,
    "start_time": "2024-07-20T07:56:41.892Z"
   },
   {
    "duration": 129,
    "start_time": "2024-07-20T07:56:41.915Z"
   },
   {
    "duration": 153,
    "start_time": "2024-07-20T07:56:42.045Z"
   },
   {
    "duration": 14,
    "start_time": "2024-07-20T07:56:42.200Z"
   },
   {
    "duration": 172,
    "start_time": "2024-07-20T07:56:42.215Z"
   },
   {
    "duration": 7,
    "start_time": "2024-07-20T07:56:42.388Z"
   },
   {
    "duration": 252,
    "start_time": "2024-07-20T07:56:42.397Z"
   },
   {
    "duration": 14,
    "start_time": "2024-07-20T08:31:44.743Z"
   },
   {
    "duration": 27,
    "start_time": "2024-07-20T08:31:52.054Z"
   },
   {
    "duration": 22,
    "start_time": "2024-07-20T08:33:31.643Z"
   },
   {
    "duration": 21,
    "start_time": "2024-07-20T08:33:50.758Z"
   },
   {
    "duration": 24,
    "start_time": "2024-07-20T08:34:06.615Z"
   },
   {
    "duration": 22,
    "start_time": "2024-07-20T08:34:14.909Z"
   },
   {
    "duration": 15,
    "start_time": "2024-07-20T08:35:05.419Z"
   },
   {
    "duration": 68,
    "start_time": "2024-07-20T08:38:18.940Z"
   },
   {
    "duration": 562,
    "start_time": "2024-07-20T08:38:25.061Z"
   },
   {
    "duration": 68,
    "start_time": "2024-07-20T08:38:25.625Z"
   },
   {
    "duration": 4,
    "start_time": "2024-07-20T08:38:25.694Z"
   },
   {
    "duration": 37,
    "start_time": "2024-07-20T08:38:25.701Z"
   },
   {
    "duration": 37,
    "start_time": "2024-07-20T08:38:25.739Z"
   },
   {
    "duration": 38,
    "start_time": "2024-07-20T08:38:25.778Z"
   },
   {
    "duration": 8,
    "start_time": "2024-07-20T08:38:25.817Z"
   },
   {
    "duration": 20,
    "start_time": "2024-07-20T08:38:25.827Z"
   },
   {
    "duration": 10,
    "start_time": "2024-07-20T08:38:25.848Z"
   },
   {
    "duration": 7,
    "start_time": "2024-07-20T08:38:25.860Z"
   },
   {
    "duration": 6,
    "start_time": "2024-07-20T08:38:25.868Z"
   },
   {
    "duration": 11,
    "start_time": "2024-07-20T08:38:25.875Z"
   },
   {
    "duration": 26,
    "start_time": "2024-07-20T08:38:25.887Z"
   },
   {
    "duration": 5,
    "start_time": "2024-07-20T08:38:25.915Z"
   },
   {
    "duration": 10,
    "start_time": "2024-07-20T08:38:25.921Z"
   },
   {
    "duration": 134,
    "start_time": "2024-07-20T08:38:25.932Z"
   },
   {
    "duration": 155,
    "start_time": "2024-07-20T08:38:26.067Z"
   },
   {
    "duration": 8,
    "start_time": "2024-07-20T08:38:26.224Z"
   },
   {
    "duration": 189,
    "start_time": "2024-07-20T08:38:26.233Z"
   },
   {
    "duration": 7,
    "start_time": "2024-07-20T08:38:26.424Z"
   },
   {
    "duration": 298,
    "start_time": "2024-07-20T08:38:26.432Z"
   },
   {
    "duration": 24,
    "start_time": "2024-07-20T08:38:26.732Z"
   },
   {
    "duration": 11,
    "start_time": "2024-07-20T08:38:26.758Z"
   },
   {
    "duration": 17,
    "start_time": "2024-07-20T08:38:26.770Z"
   },
   {
    "duration": 16,
    "start_time": "2024-07-20T08:39:36.676Z"
   },
   {
    "duration": 3,
    "start_time": "2024-07-20T08:39:57.772Z"
   },
   {
    "duration": 17,
    "start_time": "2024-07-20T08:41:18.277Z"
   },
   {
    "duration": 605,
    "start_time": "2024-07-20T08:42:18.225Z"
   },
   {
    "duration": 67,
    "start_time": "2024-07-20T08:42:18.831Z"
   },
   {
    "duration": 4,
    "start_time": "2024-07-20T08:42:18.899Z"
   },
   {
    "duration": 45,
    "start_time": "2024-07-20T08:42:18.905Z"
   },
   {
    "duration": 76,
    "start_time": "2024-07-20T08:42:18.951Z"
   },
   {
    "duration": 7,
    "start_time": "2024-07-20T08:42:19.030Z"
   },
   {
    "duration": 67,
    "start_time": "2024-07-20T08:42:19.038Z"
   },
   {
    "duration": 33,
    "start_time": "2024-07-20T08:42:19.106Z"
   },
   {
    "duration": 10,
    "start_time": "2024-07-20T08:42:19.141Z"
   },
   {
    "duration": 11,
    "start_time": "2024-07-20T08:42:19.153Z"
   },
   {
    "duration": 7,
    "start_time": "2024-07-20T08:42:19.166Z"
   },
   {
    "duration": 6,
    "start_time": "2024-07-20T08:42:19.174Z"
   },
   {
    "duration": 9,
    "start_time": "2024-07-20T08:42:19.181Z"
   },
   {
    "duration": 7,
    "start_time": "2024-07-20T08:42:19.191Z"
   },
   {
    "duration": 7,
    "start_time": "2024-07-20T08:42:19.219Z"
   },
   {
    "duration": 217,
    "start_time": "2024-07-20T08:42:19.228Z"
   },
   {
    "duration": 162,
    "start_time": "2024-07-20T08:42:19.447Z"
   },
   {
    "duration": 20,
    "start_time": "2024-07-20T08:42:19.614Z"
   },
   {
    "duration": 195,
    "start_time": "2024-07-20T08:42:19.636Z"
   },
   {
    "duration": 8,
    "start_time": "2024-07-20T08:42:19.833Z"
   },
   {
    "duration": 301,
    "start_time": "2024-07-20T08:42:19.843Z"
   },
   {
    "duration": 27,
    "start_time": "2024-07-20T08:42:20.146Z"
   },
   {
    "duration": 19,
    "start_time": "2024-07-20T08:42:20.174Z"
   },
   {
    "duration": 19,
    "start_time": "2024-07-20T08:42:20.212Z"
   },
   {
    "duration": 16,
    "start_time": "2024-07-20T08:42:20.233Z"
   },
   {
    "duration": 519,
    "start_time": "2024-07-20T08:48:41.147Z"
   },
   {
    "duration": 434,
    "start_time": "2024-07-20T08:50:16.844Z"
   },
   {
    "duration": 329,
    "start_time": "2024-07-20T08:52:13.677Z"
   },
   {
    "duration": 1807,
    "start_time": "2024-07-20T08:53:55.603Z"
   },
   {
    "duration": 111,
    "start_time": "2024-07-20T08:57:48.478Z"
   },
   {
    "duration": 295,
    "start_time": "2024-07-20T08:58:16.862Z"
   },
   {
    "duration": 536,
    "start_time": "2024-07-20T08:59:31.339Z"
   },
   {
    "duration": 507,
    "start_time": "2024-07-20T09:01:58.558Z"
   },
   {
    "duration": 605,
    "start_time": "2024-07-20T09:03:25.938Z"
   },
   {
    "duration": 530,
    "start_time": "2024-07-20T09:04:29.945Z"
   },
   {
    "duration": 549,
    "start_time": "2024-07-20T09:07:54.680Z"
   },
   {
    "duration": 7,
    "start_time": "2024-07-20T09:23:57.823Z"
   },
   {
    "duration": 568,
    "start_time": "2024-07-20T09:24:04.660Z"
   },
   {
    "duration": 68,
    "start_time": "2024-07-20T09:24:05.230Z"
   },
   {
    "duration": 3,
    "start_time": "2024-07-20T09:24:05.300Z"
   },
   {
    "duration": 54,
    "start_time": "2024-07-20T09:24:05.305Z"
   },
   {
    "duration": 70,
    "start_time": "2024-07-20T09:24:05.360Z"
   },
   {
    "duration": 6,
    "start_time": "2024-07-20T09:24:05.431Z"
   },
   {
    "duration": 9,
    "start_time": "2024-07-20T09:24:05.439Z"
   },
   {
    "duration": 18,
    "start_time": "2024-07-20T09:24:05.450Z"
   },
   {
    "duration": 10,
    "start_time": "2024-07-20T09:24:05.470Z"
   },
   {
    "duration": 39,
    "start_time": "2024-07-20T09:24:05.483Z"
   },
   {
    "duration": 7,
    "start_time": "2024-07-20T09:24:05.524Z"
   },
   {
    "duration": 11,
    "start_time": "2024-07-20T09:24:05.533Z"
   },
   {
    "duration": 7,
    "start_time": "2024-07-20T09:24:05.545Z"
   },
   {
    "duration": 7,
    "start_time": "2024-07-20T09:24:05.553Z"
   },
   {
    "duration": 5,
    "start_time": "2024-07-20T09:24:05.561Z"
   },
   {
    "duration": 160,
    "start_time": "2024-07-20T09:24:05.567Z"
   },
   {
    "duration": 164,
    "start_time": "2024-07-20T09:24:05.729Z"
   },
   {
    "duration": 8,
    "start_time": "2024-07-20T09:24:05.894Z"
   },
   {
    "duration": 188,
    "start_time": "2024-07-20T09:24:05.903Z"
   },
   {
    "duration": 7,
    "start_time": "2024-07-20T09:24:06.093Z"
   },
   {
    "duration": 258,
    "start_time": "2024-07-20T09:24:06.102Z"
   },
   {
    "duration": 28,
    "start_time": "2024-07-20T09:24:06.361Z"
   },
   {
    "duration": 41,
    "start_time": "2024-07-20T09:24:06.390Z"
   },
   {
    "duration": 18,
    "start_time": "2024-07-20T09:24:06.432Z"
   },
   {
    "duration": 36,
    "start_time": "2024-07-20T09:24:06.451Z"
   },
   {
    "duration": 249,
    "start_time": "2024-07-20T09:24:06.489Z"
   },
   {
    "duration": 553,
    "start_time": "2024-07-20T09:24:06.739Z"
   },
   {
    "duration": 314,
    "start_time": "2024-07-20T09:24:07.295Z"
   },
   {
    "duration": 1747,
    "start_time": "2024-07-20T09:24:07.611Z"
   },
   {
    "duration": 524,
    "start_time": "2024-07-21T01:23:24.193Z"
   },
   {
    "duration": 577,
    "start_time": "2024-07-21T01:24:03.322Z"
   },
   {
    "duration": 69,
    "start_time": "2024-07-21T01:24:03.900Z"
   },
   {
    "duration": 4,
    "start_time": "2024-07-21T01:24:03.970Z"
   },
   {
    "duration": 44,
    "start_time": "2024-07-21T01:24:03.975Z"
   },
   {
    "duration": 36,
    "start_time": "2024-07-21T01:24:04.020Z"
   },
   {
    "duration": 6,
    "start_time": "2024-07-21T01:24:04.058Z"
   },
   {
    "duration": 18,
    "start_time": "2024-07-21T01:24:04.065Z"
   },
   {
    "duration": 32,
    "start_time": "2024-07-21T01:24:04.085Z"
   },
   {
    "duration": 11,
    "start_time": "2024-07-21T01:24:04.118Z"
   },
   {
    "duration": 35,
    "start_time": "2024-07-21T01:24:04.132Z"
   },
   {
    "duration": 7,
    "start_time": "2024-07-21T01:24:04.168Z"
   },
   {
    "duration": 7,
    "start_time": "2024-07-21T01:24:04.177Z"
   },
   {
    "duration": 7,
    "start_time": "2024-07-21T01:24:04.186Z"
   },
   {
    "duration": 7,
    "start_time": "2024-07-21T01:24:04.194Z"
   },
   {
    "duration": 5,
    "start_time": "2024-07-21T01:24:04.212Z"
   },
   {
    "duration": 195,
    "start_time": "2024-07-21T01:24:04.218Z"
   },
   {
    "duration": 144,
    "start_time": "2024-07-21T01:24:04.415Z"
   },
   {
    "duration": 7,
    "start_time": "2024-07-21T01:24:04.560Z"
   },
   {
    "duration": 186,
    "start_time": "2024-07-21T01:24:04.569Z"
   },
   {
    "duration": 7,
    "start_time": "2024-07-21T01:24:04.756Z"
   },
   {
    "duration": 255,
    "start_time": "2024-07-21T01:24:04.765Z"
   },
   {
    "duration": 26,
    "start_time": "2024-07-21T01:24:05.022Z"
   },
   {
    "duration": 17,
    "start_time": "2024-07-21T01:24:05.050Z"
   },
   {
    "duration": 16,
    "start_time": "2024-07-21T01:24:05.069Z"
   },
   {
    "duration": 44,
    "start_time": "2024-07-21T01:24:05.086Z"
   },
   {
    "duration": 520,
    "start_time": "2024-07-21T01:24:05.132Z"
   },
   {
    "duration": 305,
    "start_time": "2024-07-21T01:24:05.653Z"
   },
   {
    "duration": 1681,
    "start_time": "2024-07-21T01:24:05.961Z"
   },
   {
    "duration": 287,
    "start_time": "2024-07-21T01:25:26.794Z"
   },
   {
    "duration": 16,
    "start_time": "2024-07-21T01:29:28.936Z"
   },
   {
    "duration": 101,
    "start_time": "2024-07-21T01:34:19.225Z"
   },
   {
    "duration": 18,
    "start_time": "2024-07-21T01:35:38.242Z"
   },
   {
    "duration": 17,
    "start_time": "2024-07-21T01:36:31.442Z"
   },
   {
    "duration": 5,
    "start_time": "2024-07-21T01:36:54.323Z"
   },
   {
    "duration": 13,
    "start_time": "2024-07-21T01:37:04.362Z"
   },
   {
    "duration": 57,
    "start_time": "2024-07-21T01:39:17.398Z"
   },
   {
    "duration": 19,
    "start_time": "2024-07-21T01:39:34.711Z"
   },
   {
    "duration": 56,
    "start_time": "2024-07-21T01:41:54.771Z"
   },
   {
    "duration": 22,
    "start_time": "2024-07-21T01:42:06.075Z"
   },
   {
    "duration": 22,
    "start_time": "2024-07-21T01:43:09.572Z"
   },
   {
    "duration": 15,
    "start_time": "2024-07-21T01:51:12.005Z"
   },
   {
    "duration": 68,
    "start_time": "2024-07-21T01:55:42.743Z"
   },
   {
    "duration": 24,
    "start_time": "2024-07-21T01:57:17.032Z"
   },
   {
    "duration": 26,
    "start_time": "2024-07-21T01:57:25.859Z"
   },
   {
    "duration": 31,
    "start_time": "2024-07-21T01:58:59.698Z"
   },
   {
    "duration": 1084,
    "start_time": "2024-07-21T02:09:26.195Z"
   },
   {
    "duration": 1046,
    "start_time": "2024-07-21T02:11:58.895Z"
   },
   {
    "duration": 1055,
    "start_time": "2024-07-21T02:14:52.925Z"
   },
   {
    "duration": 1114,
    "start_time": "2024-07-21T02:17:17.777Z"
   },
   {
    "duration": 126,
    "start_time": "2024-07-21T02:18:13.635Z"
   },
   {
    "duration": 49,
    "start_time": "2024-07-21T02:18:29.499Z"
   },
   {
    "duration": 55,
    "start_time": "2024-07-21T02:18:46.744Z"
   },
   {
    "duration": 57,
    "start_time": "2024-07-21T02:19:25.402Z"
   },
   {
    "duration": 1002,
    "start_time": "2024-07-21T02:19:57.005Z"
   },
   {
    "duration": 32,
    "start_time": "2024-07-21T02:20:44.410Z"
   },
   {
    "duration": 28,
    "start_time": "2024-07-21T02:21:55.490Z"
   },
   {
    "duration": 22,
    "start_time": "2024-07-21T02:28:25.042Z"
   },
   {
    "duration": 23,
    "start_time": "2024-07-21T02:29:32.032Z"
   },
   {
    "duration": 860,
    "start_time": "2024-07-21T23:17:54.318Z"
   },
   {
    "duration": 294,
    "start_time": "2024-07-21T23:17:55.180Z"
   },
   {
    "duration": 5,
    "start_time": "2024-07-21T23:17:55.476Z"
   },
   {
    "duration": 81,
    "start_time": "2024-07-21T23:17:55.483Z"
   },
   {
    "duration": 54,
    "start_time": "2024-07-21T23:17:55.565Z"
   },
   {
    "duration": 8,
    "start_time": "2024-07-21T23:17:55.657Z"
   },
   {
    "duration": 26,
    "start_time": "2024-07-21T23:17:55.666Z"
   },
   {
    "duration": 18,
    "start_time": "2024-07-21T23:17:55.694Z"
   },
   {
    "duration": 12,
    "start_time": "2024-07-21T23:17:55.714Z"
   },
   {
    "duration": 9,
    "start_time": "2024-07-21T23:17:55.728Z"
   },
   {
    "duration": 23,
    "start_time": "2024-07-21T23:17:55.738Z"
   },
   {
    "duration": 6,
    "start_time": "2024-07-21T23:17:55.763Z"
   },
   {
    "duration": 9,
    "start_time": "2024-07-21T23:17:55.770Z"
   },
   {
    "duration": 7,
    "start_time": "2024-07-21T23:17:55.780Z"
   },
   {
    "duration": 54,
    "start_time": "2024-07-21T23:17:55.788Z"
   },
   {
    "duration": 167,
    "start_time": "2024-07-21T23:17:55.844Z"
   },
   {
    "duration": 197,
    "start_time": "2024-07-21T23:17:56.013Z"
   },
   {
    "duration": 9,
    "start_time": "2024-07-21T23:17:56.212Z"
   },
   {
    "duration": 241,
    "start_time": "2024-07-21T23:17:56.222Z"
   },
   {
    "duration": 9,
    "start_time": "2024-07-21T23:17:56.465Z"
   },
   {
    "duration": 355,
    "start_time": "2024-07-21T23:17:56.476Z"
   },
   {
    "duration": 41,
    "start_time": "2024-07-21T23:17:56.833Z"
   },
   {
    "duration": 21,
    "start_time": "2024-07-21T23:17:56.876Z"
   },
   {
    "duration": 18,
    "start_time": "2024-07-21T23:17:56.899Z"
   },
   {
    "duration": 42,
    "start_time": "2024-07-21T23:17:56.919Z"
   },
   {
    "duration": 672,
    "start_time": "2024-07-21T23:17:56.962Z"
   },
   {
    "duration": 378,
    "start_time": "2024-07-21T23:17:57.636Z"
   },
   {
    "duration": 19,
    "start_time": "2024-07-21T23:17:58.017Z"
   },
   {
    "duration": 33,
    "start_time": "2024-07-21T23:17:58.048Z"
   },
   {
    "duration": 3,
    "start_time": "2024-07-21T23:19:28.192Z"
   },
   {
    "duration": 4,
    "start_time": "2024-07-21T23:21:03.503Z"
   },
   {
    "duration": 34,
    "start_time": "2024-07-21T23:21:06.037Z"
   },
   {
    "duration": 692,
    "start_time": "2024-07-21T23:32:15.542Z"
   },
   {
    "duration": 75,
    "start_time": "2024-07-21T23:32:16.236Z"
   },
   {
    "duration": 5,
    "start_time": "2024-07-21T23:32:16.312Z"
   },
   {
    "duration": 61,
    "start_time": "2024-07-21T23:32:16.319Z"
   },
   {
    "duration": 75,
    "start_time": "2024-07-21T23:32:16.381Z"
   },
   {
    "duration": 8,
    "start_time": "2024-07-21T23:32:16.463Z"
   },
   {
    "duration": 13,
    "start_time": "2024-07-21T23:32:16.472Z"
   },
   {
    "duration": 26,
    "start_time": "2024-07-21T23:32:16.487Z"
   },
   {
    "duration": 46,
    "start_time": "2024-07-21T23:32:16.515Z"
   },
   {
    "duration": 9,
    "start_time": "2024-07-21T23:32:16.564Z"
   },
   {
    "duration": 9,
    "start_time": "2024-07-21T23:32:16.574Z"
   },
   {
    "duration": 6,
    "start_time": "2024-07-21T23:32:16.585Z"
   },
   {
    "duration": 9,
    "start_time": "2024-07-21T23:32:16.593Z"
   },
   {
    "duration": 58,
    "start_time": "2024-07-21T23:32:16.605Z"
   },
   {
    "duration": 6,
    "start_time": "2024-07-21T23:32:16.665Z"
   },
   {
    "duration": 195,
    "start_time": "2024-07-21T23:32:16.674Z"
   },
   {
    "duration": 201,
    "start_time": "2024-07-21T23:32:16.871Z"
   },
   {
    "duration": 9,
    "start_time": "2024-07-21T23:32:17.074Z"
   },
   {
    "duration": 252,
    "start_time": "2024-07-21T23:32:17.084Z"
   },
   {
    "duration": 25,
    "start_time": "2024-07-21T23:32:17.338Z"
   },
   {
    "duration": 343,
    "start_time": "2024-07-21T23:32:17.365Z"
   },
   {
    "duration": 50,
    "start_time": "2024-07-21T23:32:17.709Z"
   },
   {
    "duration": 27,
    "start_time": "2024-07-21T23:32:17.761Z"
   },
   {
    "duration": 27,
    "start_time": "2024-07-21T23:32:17.790Z"
   },
   {
    "duration": 38,
    "start_time": "2024-07-21T23:32:17.819Z"
   },
   {
    "duration": 631,
    "start_time": "2024-07-21T23:32:17.859Z"
   },
   {
    "duration": 448,
    "start_time": "2024-07-21T23:32:18.492Z"
   },
   {
    "duration": 27,
    "start_time": "2024-07-21T23:32:18.945Z"
   },
   {
    "duration": 9,
    "start_time": "2024-07-21T23:32:18.973Z"
   },
   {
    "duration": 45,
    "start_time": "2024-07-21T23:32:18.983Z"
   },
   {
    "duration": 101,
    "start_time": "2024-07-21T23:32:19.030Z"
   },
   {
    "duration": 15,
    "start_time": "2024-07-21T23:32:35.588Z"
   },
   {
    "duration": 260,
    "start_time": "2024-07-21T23:56:07.018Z"
   },
   {
    "duration": 36,
    "start_time": "2024-07-21T23:58:55.590Z"
   },
   {
    "duration": 224,
    "start_time": "2024-07-21T23:59:46.588Z"
   },
   {
    "duration": 58,
    "start_time": "2024-07-22T00:01:09.013Z"
   },
   {
    "duration": 44,
    "start_time": "2024-07-22T00:01:24.049Z"
   },
   {
    "duration": 235,
    "start_time": "2024-07-22T00:01:29.741Z"
   },
   {
    "duration": 13,
    "start_time": "2024-07-22T00:09:47.362Z"
   },
   {
    "duration": 11,
    "start_time": "2024-07-22T00:09:55.366Z"
   },
   {
    "duration": 10,
    "start_time": "2024-07-22T00:10:18.018Z"
   },
   {
    "duration": 17,
    "start_time": "2024-07-22T00:11:56.218Z"
   },
   {
    "duration": 54,
    "start_time": "2024-07-22T00:16:31.564Z"
   },
   {
    "duration": 19,
    "start_time": "2024-07-22T00:16:44.665Z"
   },
   {
    "duration": 22,
    "start_time": "2024-07-22T00:18:27.635Z"
   },
   {
    "duration": 30,
    "start_time": "2024-07-22T00:19:05.763Z"
   },
   {
    "duration": 6,
    "start_time": "2024-07-22T00:20:04.478Z"
   },
   {
    "duration": 7,
    "start_time": "2024-07-22T00:22:39.425Z"
   },
   {
    "duration": 24,
    "start_time": "2024-07-22T00:24:30.983Z"
   },
   {
    "duration": 5,
    "start_time": "2024-07-22T00:24:51.294Z"
   },
   {
    "duration": 4,
    "start_time": "2024-07-22T00:25:07.679Z"
   },
   {
    "duration": 5,
    "start_time": "2024-07-22T00:26:02.862Z"
   },
   {
    "duration": 4,
    "start_time": "2024-07-22T00:26:04.240Z"
   },
   {
    "duration": 27,
    "start_time": "2024-07-22T00:32:05.116Z"
   },
   {
    "duration": 22,
    "start_time": "2024-07-22T00:32:49.965Z"
   },
   {
    "duration": 681,
    "start_time": "2024-07-22T00:36:29.700Z"
   },
   {
    "duration": 746,
    "start_time": "2024-07-22T00:40:34.933Z"
   },
   {
    "duration": 273,
    "start_time": "2024-07-22T00:42:32.179Z"
   },
   {
    "duration": 1266,
    "start_time": "2024-07-24T00:46:16.982Z"
   },
   {
    "duration": 292,
    "start_time": "2024-07-24T00:46:18.249Z"
   },
   {
    "duration": 4,
    "start_time": "2024-07-24T00:46:18.542Z"
   },
   {
    "duration": 52,
    "start_time": "2024-07-24T00:46:18.547Z"
   },
   {
    "duration": 34,
    "start_time": "2024-07-24T00:46:18.601Z"
   },
   {
    "duration": 8,
    "start_time": "2024-07-24T00:46:18.636Z"
   },
   {
    "duration": 29,
    "start_time": "2024-07-24T00:46:18.645Z"
   },
   {
    "duration": 24,
    "start_time": "2024-07-24T00:46:18.675Z"
   },
   {
    "duration": 173,
    "start_time": "2024-07-24T00:46:18.700Z"
   },
   {
    "duration": 0,
    "start_time": "2024-07-24T00:46:18.875Z"
   },
   {
    "duration": 0,
    "start_time": "2024-07-24T00:46:18.877Z"
   },
   {
    "duration": 0,
    "start_time": "2024-07-24T00:46:18.878Z"
   },
   {
    "duration": 0,
    "start_time": "2024-07-24T00:46:18.879Z"
   },
   {
    "duration": 0,
    "start_time": "2024-07-24T00:46:18.880Z"
   },
   {
    "duration": 0,
    "start_time": "2024-07-24T00:46:18.882Z"
   },
   {
    "duration": 0,
    "start_time": "2024-07-24T00:46:18.883Z"
   },
   {
    "duration": 0,
    "start_time": "2024-07-24T00:46:18.883Z"
   },
   {
    "duration": 0,
    "start_time": "2024-07-24T00:46:18.884Z"
   },
   {
    "duration": 0,
    "start_time": "2024-07-24T00:46:18.885Z"
   },
   {
    "duration": 0,
    "start_time": "2024-07-24T00:46:18.901Z"
   },
   {
    "duration": 0,
    "start_time": "2024-07-24T00:46:18.902Z"
   },
   {
    "duration": 0,
    "start_time": "2024-07-24T00:46:18.902Z"
   },
   {
    "duration": 0,
    "start_time": "2024-07-24T00:46:18.903Z"
   },
   {
    "duration": 0,
    "start_time": "2024-07-24T00:46:18.904Z"
   },
   {
    "duration": 0,
    "start_time": "2024-07-24T00:46:18.905Z"
   },
   {
    "duration": 0,
    "start_time": "2024-07-24T00:46:18.906Z"
   },
   {
    "duration": 0,
    "start_time": "2024-07-24T00:46:18.907Z"
   },
   {
    "duration": 0,
    "start_time": "2024-07-24T00:46:18.908Z"
   },
   {
    "duration": 0,
    "start_time": "2024-07-24T00:46:18.910Z"
   },
   {
    "duration": 0,
    "start_time": "2024-07-24T00:46:18.911Z"
   },
   {
    "duration": 0,
    "start_time": "2024-07-24T00:46:18.912Z"
   },
   {
    "duration": 0,
    "start_time": "2024-07-24T00:46:18.913Z"
   },
   {
    "duration": 0,
    "start_time": "2024-07-24T00:46:18.914Z"
   },
   {
    "duration": 0,
    "start_time": "2024-07-24T00:46:18.915Z"
   },
   {
    "duration": 0,
    "start_time": "2024-07-24T00:46:18.916Z"
   },
   {
    "duration": 0,
    "start_time": "2024-07-24T00:46:18.917Z"
   },
   {
    "duration": 1044,
    "start_time": "2024-07-24T00:47:14.610Z"
   },
   {
    "duration": 66,
    "start_time": "2024-07-24T00:47:15.655Z"
   },
   {
    "duration": 3,
    "start_time": "2024-07-24T00:47:15.723Z"
   },
   {
    "duration": 52,
    "start_time": "2024-07-24T00:47:15.728Z"
   },
   {
    "duration": 79,
    "start_time": "2024-07-24T00:47:15.782Z"
   },
   {
    "duration": 23,
    "start_time": "2024-07-24T00:47:15.863Z"
   },
   {
    "duration": 13,
    "start_time": "2024-07-24T00:47:15.888Z"
   },
   {
    "duration": 15,
    "start_time": "2024-07-24T00:47:15.903Z"
   },
   {
    "duration": 7,
    "start_time": "2024-07-24T00:47:15.919Z"
   },
   {
    "duration": 10,
    "start_time": "2024-07-24T00:47:15.928Z"
   },
   {
    "duration": 78,
    "start_time": "2024-07-24T00:47:15.939Z"
   },
   {
    "duration": 12,
    "start_time": "2024-07-24T00:47:16.018Z"
   },
   {
    "duration": 12,
    "start_time": "2024-07-24T00:47:16.031Z"
   },
   {
    "duration": 12,
    "start_time": "2024-07-24T00:47:16.045Z"
   },
   {
    "duration": 14,
    "start_time": "2024-07-24T00:47:16.059Z"
   },
   {
    "duration": 23,
    "start_time": "2024-07-24T00:47:16.074Z"
   },
   {
    "duration": 17,
    "start_time": "2024-07-24T00:47:16.098Z"
   },
   {
    "duration": 19,
    "start_time": "2024-07-24T00:47:16.116Z"
   },
   {
    "duration": 129,
    "start_time": "2024-07-24T00:47:16.136Z"
   },
   {
    "duration": 141,
    "start_time": "2024-07-24T00:47:16.266Z"
   },
   {
    "duration": 6,
    "start_time": "2024-07-24T00:47:16.409Z"
   },
   {
    "duration": 168,
    "start_time": "2024-07-24T00:47:16.417Z"
   },
   {
    "duration": 18,
    "start_time": "2024-07-24T00:47:16.587Z"
   },
   {
    "duration": 212,
    "start_time": "2024-07-24T00:47:16.606Z"
   },
   {
    "duration": 28,
    "start_time": "2024-07-24T00:47:16.819Z"
   },
   {
    "duration": 17,
    "start_time": "2024-07-24T00:47:16.848Z"
   },
   {
    "duration": 35,
    "start_time": "2024-07-24T00:47:16.867Z"
   },
   {
    "duration": 16,
    "start_time": "2024-07-24T00:47:16.905Z"
   },
   {
    "duration": 514,
    "start_time": "2024-07-24T00:47:16.922Z"
   },
   {
    "duration": 316,
    "start_time": "2024-07-24T00:47:17.437Z"
   },
   {
    "duration": 3,
    "start_time": "2024-07-24T00:47:17.755Z"
   },
   {
    "duration": 162,
    "start_time": "2024-07-24T00:47:17.759Z"
   },
   {
    "duration": 182,
    "start_time": "2024-07-24T00:47:17.923Z"
   },
   {
    "duration": 17,
    "start_time": "2024-07-24T00:47:18.106Z"
   },
   {
    "duration": 5,
    "start_time": "2024-07-24T00:47:18.125Z"
   },
   {
    "duration": 202,
    "start_time": "2024-07-24T00:47:18.131Z"
   },
   {
    "duration": 1339,
    "start_time": "2024-09-01T01:39:24.226Z"
   },
   {
    "duration": 295,
    "start_time": "2024-09-01T01:39:25.566Z"
   },
   {
    "duration": 3,
    "start_time": "2024-09-01T01:39:25.863Z"
   },
   {
    "duration": 40,
    "start_time": "2024-09-01T01:39:25.868Z"
   },
   {
    "duration": 59,
    "start_time": "2024-09-01T01:39:25.909Z"
   },
   {
    "duration": 6,
    "start_time": "2024-09-01T01:39:25.970Z"
   },
   {
    "duration": 13,
    "start_time": "2024-09-01T01:39:25.978Z"
   },
   {
    "duration": 21,
    "start_time": "2024-09-01T01:39:25.992Z"
   },
   {
    "duration": 5,
    "start_time": "2024-09-01T01:39:26.014Z"
   },
   {
    "duration": 34,
    "start_time": "2024-09-01T01:39:26.021Z"
   },
   {
    "duration": 13,
    "start_time": "2024-09-01T01:39:26.056Z"
   },
   {
    "duration": 7,
    "start_time": "2024-09-01T01:39:26.070Z"
   },
   {
    "duration": 8,
    "start_time": "2024-09-01T01:39:26.079Z"
   },
   {
    "duration": 12,
    "start_time": "2024-09-01T01:39:26.089Z"
   },
   {
    "duration": 6,
    "start_time": "2024-09-01T01:39:26.102Z"
   },
   {
    "duration": 17,
    "start_time": "2024-09-01T01:39:26.110Z"
   },
   {
    "duration": 33,
    "start_time": "2024-09-01T01:39:26.129Z"
   },
   {
    "duration": 5,
    "start_time": "2024-09-01T01:39:26.163Z"
   },
   {
    "duration": 168,
    "start_time": "2024-09-01T01:39:26.169Z"
   },
   {
    "duration": 160,
    "start_time": "2024-09-01T01:39:26.338Z"
   },
   {
    "duration": 8,
    "start_time": "2024-09-01T01:39:26.499Z"
   },
   {
    "duration": 197,
    "start_time": "2024-09-01T01:39:26.508Z"
   },
   {
    "duration": 9,
    "start_time": "2024-09-01T01:39:26.707Z"
   },
   {
    "duration": 252,
    "start_time": "2024-09-01T01:39:26.718Z"
   },
   {
    "duration": 30,
    "start_time": "2024-09-01T01:39:26.972Z"
   },
   {
    "duration": 19,
    "start_time": "2024-09-01T01:39:27.004Z"
   },
   {
    "duration": 41,
    "start_time": "2024-09-01T01:39:27.025Z"
   },
   {
    "duration": 17,
    "start_time": "2024-09-01T01:39:27.070Z"
   },
   {
    "duration": 665,
    "start_time": "2024-09-01T01:39:27.088Z"
   },
   {
    "duration": 364,
    "start_time": "2024-09-01T01:39:27.755Z"
   },
   {
    "duration": 4,
    "start_time": "2024-09-01T01:39:28.121Z"
   },
   {
    "duration": 52,
    "start_time": "2024-09-01T01:39:28.127Z"
   },
   {
    "duration": 197,
    "start_time": "2024-09-01T01:39:28.180Z"
   },
   {
    "duration": 16,
    "start_time": "2024-09-01T01:39:28.379Z"
   },
   {
    "duration": 9,
    "start_time": "2024-09-01T01:39:28.396Z"
   },
   {
    "duration": 218,
    "start_time": "2024-09-01T01:39:28.407Z"
   },
   {
    "duration": 43,
    "start_time": "2024-09-03T02:13:52.130Z"
   },
   {
    "duration": 1299,
    "start_time": "2024-09-03T02:14:00.262Z"
   },
   {
    "duration": 285,
    "start_time": "2024-09-03T02:14:01.563Z"
   },
   {
    "duration": 4,
    "start_time": "2024-09-03T02:14:01.850Z"
   },
   {
    "duration": 43,
    "start_time": "2024-09-03T02:14:01.855Z"
   },
   {
    "duration": 69,
    "start_time": "2024-09-03T02:14:01.900Z"
   },
   {
    "duration": 6,
    "start_time": "2024-09-03T02:14:01.971Z"
   },
   {
    "duration": 25,
    "start_time": "2024-09-03T02:14:01.979Z"
   },
   {
    "duration": 27,
    "start_time": "2024-09-03T02:14:02.006Z"
   },
   {
    "duration": 4,
    "start_time": "2024-09-03T02:14:02.035Z"
   },
   {
    "duration": 13,
    "start_time": "2024-09-03T02:14:02.040Z"
   },
   {
    "duration": 13,
    "start_time": "2024-09-03T02:14:02.054Z"
   },
   {
    "duration": 7,
    "start_time": "2024-09-03T02:14:02.069Z"
   },
   {
    "duration": 68,
    "start_time": "2024-09-03T02:14:02.078Z"
   },
   {
    "duration": 33,
    "start_time": "2024-09-03T02:14:02.149Z"
   },
   {
    "duration": 225,
    "start_time": "2024-09-03T02:14:02.183Z"
   },
   {
    "duration": 5,
    "start_time": "2024-09-03T02:14:02.410Z"
   },
   {
    "duration": 22,
    "start_time": "2024-09-03T02:14:02.417Z"
   },
   {
    "duration": 10,
    "start_time": "2024-09-03T02:14:02.441Z"
   },
   {
    "duration": 20,
    "start_time": "2024-09-03T02:14:02.453Z"
   },
   {
    "duration": 145,
    "start_time": "2024-09-03T02:14:02.475Z"
   },
   {
    "duration": 170,
    "start_time": "2024-09-03T02:14:02.622Z"
   },
   {
    "duration": 9,
    "start_time": "2024-09-03T02:14:02.794Z"
   },
   {
    "duration": 199,
    "start_time": "2024-09-03T02:14:02.805Z"
   },
   {
    "duration": 10,
    "start_time": "2024-09-03T02:14:03.005Z"
   },
   {
    "duration": 258,
    "start_time": "2024-09-03T02:14:03.016Z"
   },
   {
    "duration": 32,
    "start_time": "2024-09-03T02:14:03.276Z"
   },
   {
    "duration": 44,
    "start_time": "2024-09-03T02:14:03.310Z"
   },
   {
    "duration": 19,
    "start_time": "2024-09-03T02:14:03.356Z"
   },
   {
    "duration": 17,
    "start_time": "2024-09-03T02:14:03.377Z"
   },
   {
    "duration": 666,
    "start_time": "2024-09-03T02:14:03.395Z"
   },
   {
    "duration": 314,
    "start_time": "2024-09-03T02:14:04.063Z"
   },
   {
    "duration": 4,
    "start_time": "2024-09-03T02:14:04.379Z"
   },
   {
    "duration": 51,
    "start_time": "2024-09-03T02:14:04.385Z"
   },
   {
    "duration": 211,
    "start_time": "2024-09-03T02:14:04.438Z"
   },
   {
    "duration": 18,
    "start_time": "2024-09-03T02:14:04.651Z"
   },
   {
    "duration": 13,
    "start_time": "2024-09-03T02:14:04.670Z"
   },
   {
    "duration": 232,
    "start_time": "2024-09-03T02:14:04.684Z"
   },
   {
    "duration": 116,
    "start_time": "2024-09-03T02:40:38.283Z"
   },
   {
    "duration": 138,
    "start_time": "2024-09-03T02:41:42.098Z"
   },
   {
    "duration": 1129,
    "start_time": "2024-09-03T02:57:11.937Z"
   },
   {
    "duration": 64,
    "start_time": "2024-09-03T02:57:13.068Z"
   },
   {
    "duration": 3,
    "start_time": "2024-09-03T02:57:13.134Z"
   },
   {
    "duration": 37,
    "start_time": "2024-09-03T02:57:13.139Z"
   },
   {
    "duration": 38,
    "start_time": "2024-09-03T02:57:13.177Z"
   },
   {
    "duration": 36,
    "start_time": "2024-09-03T02:57:13.217Z"
   },
   {
    "duration": 9,
    "start_time": "2024-09-03T02:57:13.255Z"
   },
   {
    "duration": 23,
    "start_time": "2024-09-03T02:57:13.265Z"
   },
   {
    "duration": 13,
    "start_time": "2024-09-03T02:57:13.289Z"
   },
   {
    "duration": 14,
    "start_time": "2024-09-03T02:57:13.304Z"
   },
   {
    "duration": 19,
    "start_time": "2024-09-03T02:57:13.319Z"
   },
   {
    "duration": 8,
    "start_time": "2024-09-03T02:57:13.339Z"
   },
   {
    "duration": 9,
    "start_time": "2024-09-03T02:57:13.348Z"
   },
   {
    "duration": 17,
    "start_time": "2024-09-03T02:57:13.358Z"
   },
   {
    "duration": 178,
    "start_time": "2024-09-03T02:57:13.376Z"
   },
   {
    "duration": 5,
    "start_time": "2024-09-03T02:57:13.556Z"
   },
   {
    "duration": 33,
    "start_time": "2024-09-03T02:57:13.562Z"
   },
   {
    "duration": 16,
    "start_time": "2024-09-03T02:57:13.596Z"
   },
   {
    "duration": 5,
    "start_time": "2024-09-03T02:57:13.613Z"
   },
   {
    "duration": 119,
    "start_time": "2024-09-03T02:57:13.620Z"
   },
   {
    "duration": 167,
    "start_time": "2024-09-03T02:57:13.740Z"
   },
   {
    "duration": 8,
    "start_time": "2024-09-03T02:57:13.908Z"
   },
   {
    "duration": 204,
    "start_time": "2024-09-03T02:57:13.917Z"
   },
   {
    "duration": 8,
    "start_time": "2024-09-03T02:57:14.123Z"
   },
   {
    "duration": 307,
    "start_time": "2024-09-03T02:57:14.133Z"
   },
   {
    "duration": 33,
    "start_time": "2024-09-03T02:57:14.442Z"
   },
   {
    "duration": 21,
    "start_time": "2024-09-03T02:57:14.477Z"
   },
   {
    "duration": 19,
    "start_time": "2024-09-03T02:57:14.502Z"
   },
   {
    "duration": 47,
    "start_time": "2024-09-03T02:57:14.523Z"
   },
   {
    "duration": 658,
    "start_time": "2024-09-03T02:57:14.572Z"
   },
   {
    "duration": 314,
    "start_time": "2024-09-03T02:57:15.232Z"
   },
   {
    "duration": 4,
    "start_time": "2024-09-03T02:57:15.552Z"
   },
   {
    "duration": 46,
    "start_time": "2024-09-03T02:57:15.557Z"
   },
   {
    "duration": 197,
    "start_time": "2024-09-03T02:57:15.605Z"
   },
   {
    "duration": 17,
    "start_time": "2024-09-03T02:57:15.803Z"
   },
   {
    "duration": 7,
    "start_time": "2024-09-03T02:57:15.821Z"
   },
   {
    "duration": 226,
    "start_time": "2024-09-03T02:57:15.830Z"
   },
   {
    "duration": 144,
    "start_time": "2024-09-03T03:01:11.619Z"
   },
   {
    "duration": 136,
    "start_time": "2024-09-03T03:01:35.338Z"
   },
   {
    "duration": 145,
    "start_time": "2024-09-03T03:02:31.716Z"
   },
   {
    "duration": 149,
    "start_time": "2024-09-03T22:07:32.533Z"
   },
   {
    "duration": 151,
    "start_time": "2024-09-03T22:08:37.710Z"
   },
   {
    "duration": 145,
    "start_time": "2024-09-03T22:09:28.823Z"
   },
   {
    "duration": 143,
    "start_time": "2024-09-03T22:09:38.343Z"
   },
   {
    "duration": 1135,
    "start_time": "2024-09-03T22:09:44.272Z"
   },
   {
    "duration": 79,
    "start_time": "2024-09-03T22:09:45.408Z"
   },
   {
    "duration": 5,
    "start_time": "2024-09-03T22:09:45.488Z"
   },
   {
    "duration": 41,
    "start_time": "2024-09-03T22:09:45.494Z"
   },
   {
    "duration": 45,
    "start_time": "2024-09-03T22:09:45.536Z"
   },
   {
    "duration": 7,
    "start_time": "2024-09-03T22:09:45.583Z"
   },
   {
    "duration": 17,
    "start_time": "2024-09-03T22:09:45.592Z"
   },
   {
    "duration": 42,
    "start_time": "2024-09-03T22:09:45.611Z"
   },
   {
    "duration": 4,
    "start_time": "2024-09-03T22:09:45.655Z"
   },
   {
    "duration": 30,
    "start_time": "2024-09-03T22:09:45.662Z"
   },
   {
    "duration": 27,
    "start_time": "2024-09-03T22:09:45.694Z"
   },
   {
    "duration": 23,
    "start_time": "2024-09-03T22:09:45.723Z"
   },
   {
    "duration": 10,
    "start_time": "2024-09-03T22:09:45.748Z"
   },
   {
    "duration": 14,
    "start_time": "2024-09-03T22:09:45.760Z"
   },
   {
    "duration": 186,
    "start_time": "2024-09-03T22:09:45.775Z"
   },
   {
    "duration": 5,
    "start_time": "2024-09-03T22:09:45.963Z"
   },
   {
    "duration": 16,
    "start_time": "2024-09-03T22:09:45.969Z"
   },
   {
    "duration": 12,
    "start_time": "2024-09-03T22:09:45.986Z"
   },
   {
    "duration": 4,
    "start_time": "2024-09-03T22:09:46.000Z"
   },
   {
    "duration": 147,
    "start_time": "2024-09-03T22:09:46.006Z"
   },
   {
    "duration": 171,
    "start_time": "2024-09-03T22:09:46.154Z"
   },
   {
    "duration": 9,
    "start_time": "2024-09-03T22:09:46.326Z"
   },
   {
    "duration": 205,
    "start_time": "2024-09-03T22:09:46.336Z"
   },
   {
    "duration": 15,
    "start_time": "2024-09-03T22:09:46.542Z"
   },
   {
    "duration": 271,
    "start_time": "2024-09-03T22:09:46.558Z"
   },
   {
    "duration": 39,
    "start_time": "2024-09-03T22:09:46.831Z"
   },
   {
    "duration": 21,
    "start_time": "2024-09-03T22:09:46.871Z"
   },
   {
    "duration": 18,
    "start_time": "2024-09-03T22:09:46.895Z"
   },
   {
    "duration": 17,
    "start_time": "2024-09-03T22:09:46.914Z"
   },
   {
    "duration": 645,
    "start_time": "2024-09-03T22:09:46.953Z"
   },
   {
    "duration": 302,
    "start_time": "2024-09-03T22:09:47.600Z"
   },
   {
    "duration": 4,
    "start_time": "2024-09-03T22:09:47.903Z"
   },
   {
    "duration": 69,
    "start_time": "2024-09-03T22:09:47.909Z"
   },
   {
    "duration": 195,
    "start_time": "2024-09-03T22:09:47.979Z"
   },
   {
    "duration": 18,
    "start_time": "2024-09-03T22:09:48.175Z"
   },
   {
    "duration": 6,
    "start_time": "2024-09-03T22:09:48.194Z"
   },
   {
    "duration": 235,
    "start_time": "2024-09-03T22:09:48.202Z"
   },
   {
    "duration": 213,
    "start_time": "2024-09-03T22:11:13.880Z"
   },
   {
    "duration": 196,
    "start_time": "2024-09-03T22:11:51.316Z"
   },
   {
    "duration": 161,
    "start_time": "2024-09-03T22:13:30.293Z"
   },
   {
    "duration": 333,
    "start_time": "2024-09-03T22:15:52.344Z"
   },
   {
    "duration": 158,
    "start_time": "2024-09-03T22:16:33.389Z"
   },
   {
    "duration": 170,
    "start_time": "2024-09-03T22:16:44.253Z"
   },
   {
    "duration": 146,
    "start_time": "2024-09-03T22:17:15.813Z"
   },
   {
    "duration": 120,
    "start_time": "2024-09-03T22:20:11.375Z"
   },
   {
    "duration": 873,
    "start_time": "2024-09-04T02:33:26.757Z"
   },
   {
    "duration": 1162,
    "start_time": "2024-09-04T02:33:34.922Z"
   },
   {
    "duration": 268,
    "start_time": "2024-09-04T02:33:36.086Z"
   },
   {
    "duration": 5,
    "start_time": "2024-09-04T02:33:36.356Z"
   },
   {
    "duration": 61,
    "start_time": "2024-09-04T02:33:36.362Z"
   },
   {
    "duration": 55,
    "start_time": "2024-09-04T02:33:36.425Z"
   },
   {
    "duration": 6,
    "start_time": "2024-09-04T02:33:36.482Z"
   },
   {
    "duration": 20,
    "start_time": "2024-09-04T02:33:36.489Z"
   },
   {
    "duration": 15,
    "start_time": "2024-09-04T02:33:36.510Z"
   },
   {
    "duration": 27,
    "start_time": "2024-09-04T02:33:36.526Z"
   },
   {
    "duration": 4,
    "start_time": "2024-09-04T02:33:36.556Z"
   },
   {
    "duration": 30,
    "start_time": "2024-09-04T02:33:36.561Z"
   },
   {
    "duration": 9,
    "start_time": "2024-09-04T02:33:36.593Z"
   },
   {
    "duration": 29,
    "start_time": "2024-09-04T02:33:36.604Z"
   },
   {
    "duration": 15,
    "start_time": "2024-09-04T02:33:36.634Z"
   },
   {
    "duration": 168,
    "start_time": "2024-09-04T02:33:36.651Z"
   },
   {
    "duration": 6,
    "start_time": "2024-09-04T02:33:36.821Z"
   },
   {
    "duration": 7,
    "start_time": "2024-09-04T02:33:36.829Z"
   },
   {
    "duration": 100,
    "start_time": "2024-09-04T02:33:36.853Z"
   },
   {
    "duration": 8,
    "start_time": "2024-09-04T02:33:36.955Z"
   },
   {
    "duration": 10,
    "start_time": "2024-09-04T02:33:36.965Z"
   },
   {
    "duration": 149,
    "start_time": "2024-09-04T02:33:36.977Z"
   },
   {
    "duration": 208,
    "start_time": "2024-09-04T02:33:37.128Z"
   },
   {
    "duration": 215,
    "start_time": "2024-09-04T02:33:37.338Z"
   },
   {
    "duration": 9,
    "start_time": "2024-09-04T02:33:37.555Z"
   },
   {
    "duration": 202,
    "start_time": "2024-09-04T02:33:37.565Z"
   },
   {
    "duration": 8,
    "start_time": "2024-09-04T02:33:37.768Z"
   },
   {
    "duration": 327,
    "start_time": "2024-09-04T02:33:37.777Z"
   },
   {
    "duration": 29,
    "start_time": "2024-09-04T02:33:38.107Z"
   },
   {
    "duration": 32,
    "start_time": "2024-09-04T02:33:38.137Z"
   },
   {
    "duration": 22,
    "start_time": "2024-09-04T02:33:38.171Z"
   },
   {
    "duration": 40,
    "start_time": "2024-09-04T02:33:38.195Z"
   },
   {
    "duration": 591,
    "start_time": "2024-09-04T02:33:38.236Z"
   },
   {
    "duration": 308,
    "start_time": "2024-09-04T02:33:38.828Z"
   },
   {
    "duration": 5,
    "start_time": "2024-09-04T02:33:39.145Z"
   },
   {
    "duration": 50,
    "start_time": "2024-09-04T02:33:39.152Z"
   },
   {
    "duration": 195,
    "start_time": "2024-09-04T02:33:39.204Z"
   },
   {
    "duration": 16,
    "start_time": "2024-09-04T02:33:39.401Z"
   },
   {
    "duration": 16,
    "start_time": "2024-09-04T02:33:39.419Z"
   },
   {
    "duration": 216,
    "start_time": "2024-09-04T02:33:39.437Z"
   },
   {
    "duration": 90,
    "start_time": "2024-09-04T02:34:20.337Z"
   },
   {
    "duration": 90,
    "start_time": "2024-09-04T02:35:03.089Z"
   },
   {
    "duration": 86,
    "start_time": "2024-09-04T02:35:53.659Z"
   },
   {
    "duration": 213,
    "start_time": "2024-09-04T02:37:30.135Z"
   },
   {
    "duration": 1140,
    "start_time": "2024-09-04T02:37:57.535Z"
   },
   {
    "duration": 74,
    "start_time": "2024-09-04T02:37:58.677Z"
   },
   {
    "duration": 11,
    "start_time": "2024-09-04T02:37:58.753Z"
   },
   {
    "duration": 59,
    "start_time": "2024-09-04T02:37:58.766Z"
   },
   {
    "duration": 67,
    "start_time": "2024-09-04T02:37:58.827Z"
   },
   {
    "duration": 8,
    "start_time": "2024-09-04T02:37:58.895Z"
   },
   {
    "duration": 10,
    "start_time": "2024-09-04T02:37:58.953Z"
   },
   {
    "duration": 30,
    "start_time": "2024-09-04T02:37:58.964Z"
   },
   {
    "duration": 15,
    "start_time": "2024-09-04T02:37:58.995Z"
   },
   {
    "duration": 12,
    "start_time": "2024-09-04T02:37:59.013Z"
   },
   {
    "duration": 35,
    "start_time": "2024-09-04T02:37:59.027Z"
   },
   {
    "duration": 16,
    "start_time": "2024-09-04T02:37:59.064Z"
   },
   {
    "duration": 29,
    "start_time": "2024-09-04T02:37:59.082Z"
   },
   {
    "duration": 21,
    "start_time": "2024-09-04T02:37:59.112Z"
   },
   {
    "duration": 182,
    "start_time": "2024-09-04T02:37:59.135Z"
   },
   {
    "duration": 6,
    "start_time": "2024-09-04T02:37:59.318Z"
   },
   {
    "duration": 8,
    "start_time": "2024-09-04T02:37:59.325Z"
   },
   {
    "duration": 23,
    "start_time": "2024-09-04T02:37:59.335Z"
   },
   {
    "duration": 26,
    "start_time": "2024-09-04T02:37:59.359Z"
   },
   {
    "duration": 143,
    "start_time": "2024-09-04T02:37:59.387Z"
   },
   {
    "duration": 211,
    "start_time": "2024-09-04T02:37:59.532Z"
   },
   {
    "duration": 15,
    "start_time": "2024-09-04T02:37:59.744Z"
   },
   {
    "duration": 216,
    "start_time": "2024-09-04T02:37:59.760Z"
   },
   {
    "duration": 8,
    "start_time": "2024-09-04T02:37:59.977Z"
   },
   {
    "duration": 273,
    "start_time": "2024-09-04T02:37:59.987Z"
   },
   {
    "duration": 30,
    "start_time": "2024-09-04T02:38:00.262Z"
   },
   {
    "duration": 33,
    "start_time": "2024-09-04T02:38:00.294Z"
   },
   {
    "duration": 26,
    "start_time": "2024-09-04T02:38:00.331Z"
   },
   {
    "duration": 44,
    "start_time": "2024-09-04T02:38:00.358Z"
   },
   {
    "duration": 631,
    "start_time": "2024-09-04T02:38:00.403Z"
   },
   {
    "duration": 328,
    "start_time": "2024-09-04T02:38:01.035Z"
   },
   {
    "duration": 3,
    "start_time": "2024-09-04T02:38:01.365Z"
   },
   {
    "duration": 57,
    "start_time": "2024-09-04T02:38:01.370Z"
   },
   {
    "duration": 200,
    "start_time": "2024-09-04T02:38:01.428Z"
   },
   {
    "duration": 28,
    "start_time": "2024-09-04T02:38:01.629Z"
   },
   {
    "duration": 6,
    "start_time": "2024-09-04T02:38:01.658Z"
   },
   {
    "duration": 239,
    "start_time": "2024-09-04T02:38:01.666Z"
   },
   {
    "duration": 74,
    "start_time": "2024-09-04T02:38:28.953Z"
   },
   {
    "duration": 157,
    "start_time": "2024-09-04T02:38:40.136Z"
   },
   {
    "duration": 130,
    "start_time": "2024-09-04T02:39:07.009Z"
   },
   {
    "duration": 216,
    "start_time": "2024-09-04T02:41:24.407Z"
   },
   {
    "duration": 225,
    "start_time": "2024-09-04T02:41:46.306Z"
   },
   {
    "duration": 468,
    "start_time": "2024-09-04T02:43:08.288Z"
   },
   {
    "duration": 196,
    "start_time": "2024-09-04T02:46:34.802Z"
   },
   {
    "duration": 225,
    "start_time": "2024-09-04T02:48:59.370Z"
   },
   {
    "duration": 200,
    "start_time": "2024-09-04T02:51:28.419Z"
   },
   {
    "duration": 259,
    "start_time": "2024-09-04T02:52:01.252Z"
   },
   {
    "duration": 485,
    "start_time": "2024-09-04T02:53:26.406Z"
   },
   {
    "duration": 1075,
    "start_time": "2024-09-04T02:54:51.685Z"
   },
   {
    "duration": 68,
    "start_time": "2024-09-04T02:54:52.761Z"
   },
   {
    "duration": 4,
    "start_time": "2024-09-04T02:54:52.830Z"
   },
   {
    "duration": 57,
    "start_time": "2024-09-04T02:54:52.836Z"
   },
   {
    "duration": 70,
    "start_time": "2024-09-04T02:54:52.895Z"
   },
   {
    "duration": 6,
    "start_time": "2024-09-04T02:54:52.967Z"
   },
   {
    "duration": 19,
    "start_time": "2024-09-04T02:54:52.975Z"
   },
   {
    "duration": 19,
    "start_time": "2024-09-04T02:54:52.996Z"
   },
   {
    "duration": 5,
    "start_time": "2024-09-04T02:54:53.017Z"
   },
   {
    "duration": 14,
    "start_time": "2024-09-04T02:54:53.024Z"
   },
   {
    "duration": 65,
    "start_time": "2024-09-04T02:54:53.039Z"
   },
   {
    "duration": 6,
    "start_time": "2024-09-04T02:54:53.106Z"
   },
   {
    "duration": 14,
    "start_time": "2024-09-04T02:54:53.114Z"
   },
   {
    "duration": 12,
    "start_time": "2024-09-04T02:54:53.129Z"
   },
   {
    "duration": 189,
    "start_time": "2024-09-04T02:54:53.142Z"
   },
   {
    "duration": 5,
    "start_time": "2024-09-04T02:54:53.332Z"
   },
   {
    "duration": 25,
    "start_time": "2024-09-04T02:54:53.338Z"
   },
   {
    "duration": 39,
    "start_time": "2024-09-04T02:54:53.365Z"
   },
   {
    "duration": 6,
    "start_time": "2024-09-04T02:54:53.405Z"
   },
   {
    "duration": 150,
    "start_time": "2024-09-04T02:54:53.412Z"
   },
   {
    "duration": 211,
    "start_time": "2024-09-04T02:54:53.564Z"
   },
   {
    "duration": 7,
    "start_time": "2024-09-04T02:54:53.777Z"
   },
   {
    "duration": 537,
    "start_time": "2024-09-04T02:54:53.786Z"
   },
   {
    "duration": 7,
    "start_time": "2024-09-04T02:54:54.324Z"
   },
   {
    "duration": 478,
    "start_time": "2024-09-04T02:54:54.333Z"
   },
   {
    "duration": 30,
    "start_time": "2024-09-04T02:54:54.812Z"
   },
   {
    "duration": 27,
    "start_time": "2024-09-04T02:54:54.843Z"
   },
   {
    "duration": 19,
    "start_time": "2024-09-04T02:54:54.873Z"
   },
   {
    "duration": 19,
    "start_time": "2024-09-04T02:54:54.894Z"
   },
   {
    "duration": 656,
    "start_time": "2024-09-04T02:54:54.914Z"
   },
   {
    "duration": 314,
    "start_time": "2024-09-04T02:54:55.572Z"
   },
   {
    "duration": 3,
    "start_time": "2024-09-04T02:54:55.888Z"
   },
   {
    "duration": 41,
    "start_time": "2024-09-04T02:54:55.892Z"
   },
   {
    "duration": 208,
    "start_time": "2024-09-04T02:54:55.935Z"
   },
   {
    "duration": 20,
    "start_time": "2024-09-04T02:54:56.145Z"
   },
   {
    "duration": 27,
    "start_time": "2024-09-04T02:54:56.167Z"
   },
   {
    "duration": 212,
    "start_time": "2024-09-04T02:54:56.195Z"
   },
   {
    "duration": 169,
    "start_time": "2024-09-04T02:57:25.417Z"
   },
   {
    "duration": 665,
    "start_time": "2024-09-04T03:01:10.971Z"
   },
   {
    "duration": 852,
    "start_time": "2024-09-04T03:02:17.201Z"
   },
   {
    "duration": 915,
    "start_time": "2024-09-04T03:03:15.235Z"
   },
   {
    "duration": 889,
    "start_time": "2024-09-04T03:04:34.170Z"
   },
   {
    "duration": 812,
    "start_time": "2024-09-04T03:05:49.115Z"
   },
   {
    "duration": 951,
    "start_time": "2024-09-04T03:05:59.416Z"
   },
   {
    "duration": 845,
    "start_time": "2024-09-04T03:08:40.305Z"
   },
   {
    "duration": 318,
    "start_time": "2024-09-04T03:10:08.691Z"
   },
   {
    "duration": 1189,
    "start_time": "2024-09-04T07:01:52.136Z"
   },
   {
    "duration": 69,
    "start_time": "2024-09-04T07:01:53.326Z"
   },
   {
    "duration": 4,
    "start_time": "2024-09-04T07:01:53.397Z"
   },
   {
    "duration": 41,
    "start_time": "2024-09-04T07:01:53.402Z"
   },
   {
    "duration": 45,
    "start_time": "2024-09-04T07:01:53.445Z"
   },
   {
    "duration": 7,
    "start_time": "2024-09-04T07:01:53.491Z"
   },
   {
    "duration": 11,
    "start_time": "2024-09-04T07:01:53.499Z"
   },
   {
    "duration": 49,
    "start_time": "2024-09-04T07:01:53.511Z"
   },
   {
    "duration": 4,
    "start_time": "2024-09-04T07:01:53.562Z"
   },
   {
    "duration": 20,
    "start_time": "2024-09-04T07:01:53.567Z"
   },
   {
    "duration": 20,
    "start_time": "2024-09-04T07:01:53.588Z"
   },
   {
    "duration": 8,
    "start_time": "2024-09-04T07:01:53.609Z"
   },
   {
    "duration": 6,
    "start_time": "2024-09-04T07:01:53.618Z"
   },
   {
    "duration": 5,
    "start_time": "2024-09-04T07:01:53.627Z"
   },
   {
    "duration": 190,
    "start_time": "2024-09-04T07:01:53.633Z"
   },
   {
    "duration": 6,
    "start_time": "2024-09-04T07:01:53.825Z"
   },
   {
    "duration": 22,
    "start_time": "2024-09-04T07:01:53.833Z"
   },
   {
    "duration": 10,
    "start_time": "2024-09-04T07:01:53.857Z"
   },
   {
    "duration": 218,
    "start_time": "2024-09-04T07:01:53.869Z"
   },
   {
    "duration": 9,
    "start_time": "2024-09-04T07:01:54.088Z"
   },
   {
    "duration": 532,
    "start_time": "2024-09-04T07:01:54.099Z"
   },
   {
    "duration": 8,
    "start_time": "2024-09-04T07:01:54.633Z"
   },
   {
    "duration": 476,
    "start_time": "2024-09-04T07:01:54.642Z"
   },
   {
    "duration": 36,
    "start_time": "2024-09-04T07:01:55.120Z"
   },
   {
    "duration": 56,
    "start_time": "2024-09-04T07:01:55.158Z"
   },
   {
    "duration": 19,
    "start_time": "2024-09-04T07:01:55.216Z"
   },
   {
    "duration": 19,
    "start_time": "2024-09-04T07:01:55.237Z"
   },
   {
    "duration": 949,
    "start_time": "2024-09-04T07:01:55.257Z"
   },
   {
    "duration": 326,
    "start_time": "2024-09-04T07:01:56.208Z"
   },
   {
    "duration": 4,
    "start_time": "2024-09-04T07:01:56.536Z"
   },
   {
    "duration": 47,
    "start_time": "2024-09-04T07:01:56.542Z"
   },
   {
    "duration": 217,
    "start_time": "2024-09-04T07:01:56.590Z"
   },
   {
    "duration": 19,
    "start_time": "2024-09-04T07:01:56.809Z"
   },
   {
    "duration": 7,
    "start_time": "2024-09-04T07:01:56.830Z"
   },
   {
    "duration": 241,
    "start_time": "2024-09-04T07:01:56.838Z"
   },
   {
    "duration": 1174,
    "start_time": "2024-09-05T10:06:14.042Z"
   },
   {
    "duration": 76,
    "start_time": "2024-09-05T10:06:15.218Z"
   },
   {
    "duration": 4,
    "start_time": "2024-09-05T10:06:15.296Z"
   },
   {
    "duration": 77,
    "start_time": "2024-09-05T10:06:15.301Z"
   },
   {
    "duration": 49,
    "start_time": "2024-09-05T10:06:15.380Z"
   },
   {
    "duration": 7,
    "start_time": "2024-09-05T10:06:15.465Z"
   },
   {
    "duration": 18,
    "start_time": "2024-09-05T10:06:15.473Z"
   },
   {
    "duration": 16,
    "start_time": "2024-09-05T10:06:15.493Z"
   },
   {
    "duration": 5,
    "start_time": "2024-09-05T10:06:15.511Z"
   },
   {
    "duration": 5,
    "start_time": "2024-09-05T10:06:15.518Z"
   },
   {
    "duration": 42,
    "start_time": "2024-09-05T10:06:15.525Z"
   },
   {
    "duration": 8,
    "start_time": "2024-09-05T10:06:15.568Z"
   },
   {
    "duration": 8,
    "start_time": "2024-09-05T10:06:15.578Z"
   },
   {
    "duration": 12,
    "start_time": "2024-09-05T10:06:15.589Z"
   },
   {
    "duration": 186,
    "start_time": "2024-09-05T10:06:15.602Z"
   },
   {
    "duration": 5,
    "start_time": "2024-09-05T10:06:15.790Z"
   },
   {
    "duration": 13,
    "start_time": "2024-09-05T10:06:15.796Z"
   },
   {
    "duration": 7,
    "start_time": "2024-09-05T10:06:15.811Z"
   },
   {
    "duration": 254,
    "start_time": "2024-09-05T10:06:15.820Z"
   },
   {
    "duration": 9,
    "start_time": "2024-09-05T10:06:16.076Z"
   },
   {
    "duration": 547,
    "start_time": "2024-09-05T10:06:16.086Z"
   },
   {
    "duration": 29,
    "start_time": "2024-09-05T10:06:16.635Z"
   },
   {
    "duration": 468,
    "start_time": "2024-09-05T10:06:16.666Z"
   },
   {
    "duration": 50,
    "start_time": "2024-09-05T10:06:17.135Z"
   },
   {
    "duration": 21,
    "start_time": "2024-09-05T10:06:17.186Z"
   },
   {
    "duration": 19,
    "start_time": "2024-09-05T10:06:17.209Z"
   },
   {
    "duration": 36,
    "start_time": "2024-09-05T10:06:17.230Z"
   },
   {
    "duration": 1028,
    "start_time": "2024-09-05T10:06:17.267Z"
   },
   {
    "duration": 350,
    "start_time": "2024-09-05T10:06:18.297Z"
   },
   {
    "duration": 12,
    "start_time": "2024-09-05T10:06:18.649Z"
   },
   {
    "duration": 47,
    "start_time": "2024-09-05T10:06:18.662Z"
   },
   {
    "duration": 221,
    "start_time": "2024-09-05T10:06:18.710Z"
   },
   {
    "duration": 34,
    "start_time": "2024-09-05T10:06:18.932Z"
   },
   {
    "duration": 7,
    "start_time": "2024-09-05T10:06:18.967Z"
   },
   {
    "duration": 242,
    "start_time": "2024-09-05T10:06:18.976Z"
   },
   {
    "duration": 193,
    "start_time": "2024-09-05T10:06:19.219Z"
   },
   {
    "duration": 2,
    "start_time": "2024-09-05T10:07:59.789Z"
   },
   {
    "duration": 1149,
    "start_time": "2024-09-05T10:09:25.226Z"
   },
   {
    "duration": 74,
    "start_time": "2024-09-05T10:09:26.377Z"
   },
   {
    "duration": 5,
    "start_time": "2024-09-05T10:09:26.452Z"
   },
   {
    "duration": 41,
    "start_time": "2024-09-05T10:09:26.459Z"
   },
   {
    "duration": 83,
    "start_time": "2024-09-05T10:09:26.501Z"
   },
   {
    "duration": 6,
    "start_time": "2024-09-05T10:09:26.586Z"
   },
   {
    "duration": 62,
    "start_time": "2024-09-05T10:09:26.593Z"
   },
   {
    "duration": 22,
    "start_time": "2024-09-05T10:09:26.657Z"
   },
   {
    "duration": 5,
    "start_time": "2024-09-05T10:09:26.681Z"
   },
   {
    "duration": 5,
    "start_time": "2024-09-05T10:09:26.688Z"
   },
   {
    "duration": 15,
    "start_time": "2024-09-05T10:09:26.694Z"
   },
   {
    "duration": 9,
    "start_time": "2024-09-05T10:09:26.711Z"
   },
   {
    "duration": 35,
    "start_time": "2024-09-05T10:09:26.722Z"
   },
   {
    "duration": 10,
    "start_time": "2024-09-05T10:09:26.759Z"
   },
   {
    "duration": 197,
    "start_time": "2024-09-05T10:09:26.770Z"
   },
   {
    "duration": 5,
    "start_time": "2024-09-05T10:09:26.969Z"
   },
   {
    "duration": 7,
    "start_time": "2024-09-05T10:09:26.976Z"
   },
   {
    "duration": 13,
    "start_time": "2024-09-05T10:09:26.984Z"
   },
   {
    "duration": 232,
    "start_time": "2024-09-05T10:09:26.998Z"
   },
   {
    "duration": 9,
    "start_time": "2024-09-05T10:09:27.231Z"
   },
   {
    "duration": 592,
    "start_time": "2024-09-05T10:09:27.252Z"
   },
   {
    "duration": 22,
    "start_time": "2024-09-05T10:09:27.845Z"
   },
   {
    "duration": 493,
    "start_time": "2024-09-05T10:09:27.868Z"
   },
   {
    "duration": 31,
    "start_time": "2024-09-05T10:09:28.367Z"
   },
   {
    "duration": 20,
    "start_time": "2024-09-05T10:09:28.400Z"
   },
   {
    "duration": 43,
    "start_time": "2024-09-05T10:09:28.421Z"
   },
   {
    "duration": 21,
    "start_time": "2024-09-05T10:09:28.466Z"
   },
   {
    "duration": 1005,
    "start_time": "2024-09-05T10:09:28.490Z"
   },
   {
    "duration": 330,
    "start_time": "2024-09-05T10:09:29.496Z"
   },
   {
    "duration": 4,
    "start_time": "2024-09-05T10:09:29.827Z"
   },
   {
    "duration": 54,
    "start_time": "2024-09-05T10:09:29.832Z"
   },
   {
    "duration": 239,
    "start_time": "2024-09-05T10:09:29.888Z"
   },
   {
    "duration": 33,
    "start_time": "2024-09-05T10:09:30.129Z"
   },
   {
    "duration": 51,
    "start_time": "2024-09-05T10:09:30.164Z"
   },
   {
    "duration": 255,
    "start_time": "2024-09-05T10:09:30.217Z"
   },
   {
    "duration": 2,
    "start_time": "2024-09-05T10:09:30.474Z"
   },
   {
    "duration": 123,
    "start_time": "2024-09-05T10:09:51.170Z"
   },
   {
    "duration": 5,
    "start_time": "2024-09-05T10:10:31.274Z"
   },
   {
    "duration": 6,
    "start_time": "2024-09-05T10:16:22.329Z"
   },
   {
    "duration": 6,
    "start_time": "2024-09-05T10:46:17.818Z"
   },
   {
    "duration": 6,
    "start_time": "2024-09-05T10:46:40.992Z"
   },
   {
    "duration": 5,
    "start_time": "2024-09-05T10:47:05.949Z"
   },
   {
    "duration": 5,
    "start_time": "2024-09-05T10:49:29.869Z"
   },
   {
    "duration": 5,
    "start_time": "2024-09-05T10:51:41.997Z"
   },
   {
    "duration": 5,
    "start_time": "2024-09-05T11:11:37.705Z"
   },
   {
    "duration": 22,
    "start_time": "2024-09-05T11:17:54.411Z"
   },
   {
    "duration": 21,
    "start_time": "2024-09-05T11:19:15.938Z"
   },
   {
    "duration": 17,
    "start_time": "2024-09-05T11:20:31.879Z"
   },
   {
    "duration": 19,
    "start_time": "2024-09-05T11:21:01.517Z"
   },
   {
    "duration": 10,
    "start_time": "2024-09-05T11:21:57.543Z"
   },
   {
    "duration": 9,
    "start_time": "2024-09-05T11:23:14.583Z"
   },
   {
    "duration": 6,
    "start_time": "2024-09-05T11:25:06.727Z"
   },
   {
    "duration": 6,
    "start_time": "2024-09-05T11:26:00.101Z"
   },
   {
    "duration": 20,
    "start_time": "2024-09-05T11:27:28.583Z"
   },
   {
    "duration": 16,
    "start_time": "2024-09-05T11:27:36.859Z"
   },
   {
    "duration": 896,
    "start_time": "2024-09-05T11:28:08.965Z"
   },
   {
    "duration": 18,
    "start_time": "2024-09-05T11:28:34.979Z"
   },
   {
    "duration": 7,
    "start_time": "2024-09-05T11:30:25.033Z"
   },
   {
    "duration": 6,
    "start_time": "2024-09-05T11:30:33.780Z"
   },
   {
    "duration": 7,
    "start_time": "2024-09-05T11:31:16.792Z"
   },
   {
    "duration": 6,
    "start_time": "2024-09-05T11:39:49.859Z"
   },
   {
    "duration": 6,
    "start_time": "2024-09-05T11:41:54.522Z"
   },
   {
    "duration": 1151,
    "start_time": "2024-09-05T11:46:39.927Z"
   },
   {
    "duration": 77,
    "start_time": "2024-09-05T11:46:41.080Z"
   },
   {
    "duration": 4,
    "start_time": "2024-09-05T11:46:41.159Z"
   },
   {
    "duration": 47,
    "start_time": "2024-09-05T11:46:41.165Z"
   },
   {
    "duration": 64,
    "start_time": "2024-09-05T11:46:41.213Z"
   },
   {
    "duration": 6,
    "start_time": "2024-09-05T11:46:41.279Z"
   },
   {
    "duration": 19,
    "start_time": "2024-09-05T11:46:41.287Z"
   },
   {
    "duration": 35,
    "start_time": "2024-09-05T11:46:41.308Z"
   },
   {
    "duration": 4,
    "start_time": "2024-09-05T11:46:41.344Z"
   },
   {
    "duration": 4,
    "start_time": "2024-09-05T11:46:41.351Z"
   },
   {
    "duration": 24,
    "start_time": "2024-09-05T11:46:41.356Z"
   },
   {
    "duration": 7,
    "start_time": "2024-09-05T11:46:41.382Z"
   },
   {
    "duration": 76,
    "start_time": "2024-09-05T11:46:41.390Z"
   },
   {
    "duration": 11,
    "start_time": "2024-09-05T11:46:41.468Z"
   },
   {
    "duration": 168,
    "start_time": "2024-09-05T11:46:41.481Z"
   },
   {
    "duration": 4,
    "start_time": "2024-09-05T11:46:41.651Z"
   },
   {
    "duration": 58,
    "start_time": "2024-09-05T11:46:41.657Z"
   },
   {
    "duration": 7,
    "start_time": "2024-09-05T11:46:41.717Z"
   },
   {
    "duration": 209,
    "start_time": "2024-09-05T11:46:41.725Z"
   },
   {
    "duration": 17,
    "start_time": "2024-09-05T11:46:41.936Z"
   },
   {
    "duration": 487,
    "start_time": "2024-09-05T11:46:41.954Z"
   },
   {
    "duration": 15,
    "start_time": "2024-09-05T11:46:42.443Z"
   },
   {
    "duration": 469,
    "start_time": "2024-09-05T11:46:42.460Z"
   },
   {
    "duration": 34,
    "start_time": "2024-09-05T11:46:42.931Z"
   },
   {
    "duration": 20,
    "start_time": "2024-09-05T11:46:42.967Z"
   },
   {
    "duration": 19,
    "start_time": "2024-09-05T11:46:42.988Z"
   },
   {
    "duration": 45,
    "start_time": "2024-09-05T11:46:43.009Z"
   },
   {
    "duration": 958,
    "start_time": "2024-09-05T11:46:43.057Z"
   },
   {
    "duration": 325,
    "start_time": "2024-09-05T11:46:44.016Z"
   },
   {
    "duration": 10,
    "start_time": "2024-09-05T11:46:44.343Z"
   },
   {
    "duration": 57,
    "start_time": "2024-09-05T11:46:44.355Z"
   },
   {
    "duration": 207,
    "start_time": "2024-09-05T11:46:44.413Z"
   },
   {
    "duration": 17,
    "start_time": "2024-09-05T11:46:44.622Z"
   },
   {
    "duration": 7,
    "start_time": "2024-09-05T11:46:44.652Z"
   },
   {
    "duration": 219,
    "start_time": "2024-09-05T11:46:44.660Z"
   },
   {
    "duration": 2,
    "start_time": "2024-09-05T11:46:44.881Z"
   },
   {
    "duration": 58,
    "start_time": "2024-09-05T11:46:44.884Z"
   },
   {
    "duration": 20,
    "start_time": "2024-09-05T11:46:44.943Z"
   },
   {
    "duration": 8,
    "start_time": "2024-09-05T11:46:44.964Z"
   },
   {
    "duration": 349,
    "start_time": "2024-09-05T11:52:44.425Z"
   },
   {
    "duration": 100,
    "start_time": "2024-09-05T11:53:29.711Z"
   },
   {
    "duration": 235,
    "start_time": "2024-09-05T11:57:02.376Z"
   },
   {
    "duration": 374,
    "start_time": "2024-09-05T12:02:01.217Z"
   },
   {
    "duration": 336,
    "start_time": "2024-09-05T12:12:19.311Z"
   },
   {
    "duration": 317,
    "start_time": "2024-09-05T12:19:05.852Z"
   },
   {
    "duration": 327,
    "start_time": "2024-09-05T12:23:13.446Z"
   },
   {
    "duration": 139,
    "start_time": "2024-09-05T12:29:53.418Z"
   },
   {
    "duration": 339,
    "start_time": "2024-09-05T12:44:54.444Z"
   },
   {
    "duration": 353,
    "start_time": "2024-09-05T12:45:25.145Z"
   },
   {
    "duration": 123,
    "start_time": "2024-09-05T12:45:54.641Z"
   },
   {
    "duration": 28,
    "start_time": "2024-09-05T12:46:00.681Z"
   },
   {
    "duration": 338,
    "start_time": "2024-09-05T12:53:14.355Z"
   },
   {
    "duration": 249,
    "start_time": "2024-09-05T12:53:48.156Z"
   },
   {
    "duration": 1117,
    "start_time": "2024-09-05T12:57:16.954Z"
   },
   {
    "duration": 79,
    "start_time": "2024-09-05T12:57:18.073Z"
   },
   {
    "duration": 5,
    "start_time": "2024-09-05T12:57:18.153Z"
   },
   {
    "duration": 60,
    "start_time": "2024-09-05T12:57:18.159Z"
   },
   {
    "duration": 51,
    "start_time": "2024-09-05T12:57:18.221Z"
   },
   {
    "duration": 6,
    "start_time": "2024-09-05T12:57:18.273Z"
   },
   {
    "duration": 17,
    "start_time": "2024-09-05T12:57:18.281Z"
   },
   {
    "duration": 17,
    "start_time": "2024-09-05T12:57:18.299Z"
   },
   {
    "duration": 4,
    "start_time": "2024-09-05T12:57:18.318Z"
   },
   {
    "duration": 30,
    "start_time": "2024-09-05T12:57:18.323Z"
   },
   {
    "duration": 12,
    "start_time": "2024-09-05T12:57:18.354Z"
   },
   {
    "duration": 7,
    "start_time": "2024-09-05T12:57:18.368Z"
   },
   {
    "duration": 7,
    "start_time": "2024-09-05T12:57:18.377Z"
   },
   {
    "duration": 5,
    "start_time": "2024-09-05T12:57:18.386Z"
   },
   {
    "duration": 188,
    "start_time": "2024-09-05T12:57:18.392Z"
   },
   {
    "duration": 5,
    "start_time": "2024-09-05T12:57:18.582Z"
   },
   {
    "duration": 63,
    "start_time": "2024-09-05T12:57:18.589Z"
   },
   {
    "duration": 7,
    "start_time": "2024-09-05T12:57:18.654Z"
   },
   {
    "duration": 215,
    "start_time": "2024-09-05T12:57:18.663Z"
   },
   {
    "duration": 8,
    "start_time": "2024-09-05T12:57:18.880Z"
   },
   {
    "duration": 529,
    "start_time": "2024-09-05T12:57:18.890Z"
   },
   {
    "duration": 8,
    "start_time": "2024-09-05T12:57:19.420Z"
   },
   {
    "duration": 475,
    "start_time": "2024-09-05T12:57:19.430Z"
   },
   {
    "duration": 29,
    "start_time": "2024-09-05T12:57:19.906Z"
   },
   {
    "duration": 33,
    "start_time": "2024-09-05T12:57:19.936Z"
   },
   {
    "duration": 18,
    "start_time": "2024-09-05T12:57:19.971Z"
   },
   {
    "duration": 18,
    "start_time": "2024-09-05T12:57:19.991Z"
   },
   {
    "duration": 968,
    "start_time": "2024-09-05T12:57:20.011Z"
   },
   {
    "duration": 329,
    "start_time": "2024-09-05T12:57:20.981Z"
   },
   {
    "duration": 3,
    "start_time": "2024-09-05T12:57:21.312Z"
   },
   {
    "duration": 54,
    "start_time": "2024-09-05T12:57:21.317Z"
   },
   {
    "duration": 208,
    "start_time": "2024-09-05T12:57:21.373Z"
   },
   {
    "duration": 18,
    "start_time": "2024-09-05T12:57:21.583Z"
   },
   {
    "duration": 7,
    "start_time": "2024-09-05T12:57:21.602Z"
   },
   {
    "duration": 291,
    "start_time": "2024-09-05T12:57:21.611Z"
   },
   {
    "duration": 3,
    "start_time": "2024-09-05T12:57:21.904Z"
   },
   {
    "duration": 59,
    "start_time": "2024-09-05T12:57:21.909Z"
   },
   {
    "duration": 11,
    "start_time": "2024-09-05T12:57:21.969Z"
   },
   {
    "duration": 7,
    "start_time": "2024-09-05T12:57:21.982Z"
   },
   {
    "duration": 111,
    "start_time": "2024-09-05T12:57:21.991Z"
   },
   {
    "duration": 0,
    "start_time": "2024-09-05T12:57:22.104Z"
   },
   {
    "duration": 0,
    "start_time": "2024-09-05T12:57:22.105Z"
   },
   {
    "duration": 0,
    "start_time": "2024-09-05T12:57:22.106Z"
   },
   {
    "duration": 0,
    "start_time": "2024-09-05T12:57:22.107Z"
   },
   {
    "duration": 261,
    "start_time": "2024-09-05T12:58:17.366Z"
   },
   {
    "duration": 298,
    "start_time": "2024-09-05T12:58:21.280Z"
   },
   {
    "duration": 130,
    "start_time": "2024-09-05T12:58:21.927Z"
   },
   {
    "duration": 361,
    "start_time": "2024-09-05T12:58:23.909Z"
   },
   {
    "duration": 269,
    "start_time": "2024-09-05T12:58:24.627Z"
   },
   {
    "duration": 304,
    "start_time": "2024-09-05T13:00:59.678Z"
   },
   {
    "duration": 185,
    "start_time": "2024-09-05T13:05:13.703Z"
   },
   {
    "duration": 164,
    "start_time": "2024-09-05T13:13:28.916Z"
   },
   {
    "duration": 1237,
    "start_time": "2024-09-05T13:20:03.041Z"
   },
   {
    "duration": 78,
    "start_time": "2024-09-05T13:20:04.280Z"
   },
   {
    "duration": 4,
    "start_time": "2024-09-05T13:20:04.360Z"
   },
   {
    "duration": 47,
    "start_time": "2024-09-05T13:20:04.366Z"
   },
   {
    "duration": 71,
    "start_time": "2024-09-05T13:20:04.414Z"
   },
   {
    "duration": 8,
    "start_time": "2024-09-05T13:20:04.487Z"
   },
   {
    "duration": 17,
    "start_time": "2024-09-05T13:20:04.496Z"
   },
   {
    "duration": 46,
    "start_time": "2024-09-05T13:20:04.515Z"
   },
   {
    "duration": 4,
    "start_time": "2024-09-05T13:20:04.564Z"
   },
   {
    "duration": 5,
    "start_time": "2024-09-05T13:20:04.569Z"
   },
   {
    "duration": 17,
    "start_time": "2024-09-05T13:20:04.576Z"
   },
   {
    "duration": 14,
    "start_time": "2024-09-05T13:20:04.594Z"
   },
   {
    "duration": 7,
    "start_time": "2024-09-05T13:20:04.610Z"
   },
   {
    "duration": 5,
    "start_time": "2024-09-05T13:20:04.620Z"
   },
   {
    "duration": 202,
    "start_time": "2024-09-05T13:20:04.626Z"
   },
   {
    "duration": 6,
    "start_time": "2024-09-05T13:20:04.830Z"
   },
   {
    "duration": 19,
    "start_time": "2024-09-05T13:20:04.837Z"
   },
   {
    "duration": 7,
    "start_time": "2024-09-05T13:20:04.857Z"
   },
   {
    "duration": 224,
    "start_time": "2024-09-05T13:20:04.865Z"
   },
   {
    "duration": 8,
    "start_time": "2024-09-05T13:20:05.091Z"
   },
   {
    "duration": 544,
    "start_time": "2024-09-05T13:20:05.101Z"
   },
   {
    "duration": 11,
    "start_time": "2024-09-05T13:20:05.646Z"
   },
   {
    "duration": 480,
    "start_time": "2024-09-05T13:20:05.659Z"
   },
   {
    "duration": 39,
    "start_time": "2024-09-05T13:20:06.140Z"
   },
   {
    "duration": 21,
    "start_time": "2024-09-05T13:20:06.180Z"
   },
   {
    "duration": 20,
    "start_time": "2024-09-05T13:20:06.203Z"
   },
   {
    "duration": 41,
    "start_time": "2024-09-05T13:20:06.225Z"
   },
   {
    "duration": 946,
    "start_time": "2024-09-05T13:20:06.268Z"
   },
   {
    "duration": 3,
    "start_time": "2024-09-05T13:20:07.216Z"
   },
   {
    "duration": 52,
    "start_time": "2024-09-05T13:20:07.220Z"
   },
   {
    "duration": 223,
    "start_time": "2024-09-05T13:20:07.273Z"
   },
   {
    "duration": 19,
    "start_time": "2024-09-05T13:20:07.498Z"
   },
   {
    "duration": 7,
    "start_time": "2024-09-05T13:20:07.518Z"
   },
   {
    "duration": 243,
    "start_time": "2024-09-05T13:20:07.526Z"
   },
   {
    "duration": 2,
    "start_time": "2024-09-05T13:20:07.771Z"
   },
   {
    "duration": 5,
    "start_time": "2024-09-05T13:20:07.775Z"
   },
   {
    "duration": 24,
    "start_time": "2024-09-05T13:20:07.782Z"
   },
   {
    "duration": 8,
    "start_time": "2024-09-05T13:20:07.808Z"
   },
   {
    "duration": 293,
    "start_time": "2024-09-05T13:20:07.817Z"
   },
   {
    "duration": 379,
    "start_time": "2024-09-05T13:20:08.112Z"
   },
   {
    "duration": 139,
    "start_time": "2024-09-05T13:20:08.496Z"
   },
   {
    "duration": 351,
    "start_time": "2024-09-05T13:20:08.636Z"
   },
   {
    "duration": 232,
    "start_time": "2024-09-05T13:20:08.989Z"
   },
   {
    "duration": 19,
    "start_time": "2024-09-05T13:25:36.876Z"
   },
   {
    "duration": 1197,
    "start_time": "2024-09-05T13:33:44.981Z"
   },
   {
    "duration": 78,
    "start_time": "2024-09-05T13:33:46.180Z"
   },
   {
    "duration": 4,
    "start_time": "2024-09-05T13:33:46.259Z"
   },
   {
    "duration": 52,
    "start_time": "2024-09-05T13:33:46.265Z"
   },
   {
    "duration": 76,
    "start_time": "2024-09-05T13:33:46.319Z"
   },
   {
    "duration": 7,
    "start_time": "2024-09-05T13:33:46.396Z"
   },
   {
    "duration": 16,
    "start_time": "2024-09-05T13:33:46.404Z"
   },
   {
    "duration": 38,
    "start_time": "2024-09-05T13:33:46.421Z"
   },
   {
    "duration": 5,
    "start_time": "2024-09-05T13:33:46.460Z"
   },
   {
    "duration": 5,
    "start_time": "2024-09-05T13:33:46.467Z"
   },
   {
    "duration": 25,
    "start_time": "2024-09-05T13:33:46.474Z"
   },
   {
    "duration": 11,
    "start_time": "2024-09-05T13:33:46.501Z"
   },
   {
    "duration": 9,
    "start_time": "2024-09-05T13:33:46.514Z"
   },
   {
    "duration": 32,
    "start_time": "2024-09-05T13:33:46.526Z"
   },
   {
    "duration": 212,
    "start_time": "2024-09-05T13:33:46.560Z"
   },
   {
    "duration": 8,
    "start_time": "2024-09-05T13:33:46.774Z"
   },
   {
    "duration": 10,
    "start_time": "2024-09-05T13:33:46.784Z"
   },
   {
    "duration": 8,
    "start_time": "2024-09-05T13:33:46.795Z"
   },
   {
    "duration": 239,
    "start_time": "2024-09-05T13:33:46.804Z"
   },
   {
    "duration": 14,
    "start_time": "2024-09-05T13:33:47.044Z"
   },
   {
    "duration": 484,
    "start_time": "2024-09-05T13:33:47.060Z"
   },
   {
    "duration": 13,
    "start_time": "2024-09-05T13:33:47.546Z"
   },
   {
    "duration": 465,
    "start_time": "2024-09-05T13:33:47.560Z"
   },
   {
    "duration": 36,
    "start_time": "2024-09-05T13:33:48.026Z"
   },
   {
    "duration": 22,
    "start_time": "2024-09-05T13:33:48.063Z"
   },
   {
    "duration": 24,
    "start_time": "2024-09-05T13:33:48.087Z"
   },
   {
    "duration": 20,
    "start_time": "2024-09-05T13:33:48.112Z"
   },
   {
    "duration": 1033,
    "start_time": "2024-09-05T13:33:48.152Z"
   },
   {
    "duration": 4,
    "start_time": "2024-09-05T13:33:49.186Z"
   },
   {
    "duration": 93,
    "start_time": "2024-09-05T13:33:49.191Z"
   },
   {
    "duration": 242,
    "start_time": "2024-09-05T13:33:49.286Z"
   },
   {
    "duration": 31,
    "start_time": "2024-09-05T13:33:49.529Z"
   },
   {
    "duration": 18,
    "start_time": "2024-09-05T13:33:49.561Z"
   },
   {
    "duration": 226,
    "start_time": "2024-09-05T13:33:49.581Z"
   },
   {
    "duration": 5,
    "start_time": "2024-09-05T13:33:49.808Z"
   },
   {
    "duration": 11,
    "start_time": "2024-09-05T13:33:49.814Z"
   },
   {
    "duration": 14,
    "start_time": "2024-09-05T13:33:49.826Z"
   },
   {
    "duration": 265,
    "start_time": "2024-09-05T13:33:49.841Z"
   },
   {
    "duration": 352,
    "start_time": "2024-09-05T13:33:50.107Z"
   },
   {
    "duration": 150,
    "start_time": "2024-09-05T13:33:50.461Z"
   },
   {
    "duration": 309,
    "start_time": "2024-09-05T13:33:50.616Z"
   },
   {
    "duration": 275,
    "start_time": "2024-09-05T13:33:50.927Z"
   },
   {
    "duration": 87,
    "start_time": "2024-09-05T13:37:01.634Z"
   },
   {
    "duration": 88,
    "start_time": "2024-09-05T13:38:39.629Z"
   },
   {
    "duration": 74,
    "start_time": "2024-09-05T13:38:55.232Z"
   },
   {
    "duration": 80,
    "start_time": "2024-09-05T13:39:30.871Z"
   },
   {
    "duration": 159,
    "start_time": "2024-09-05T13:39:51.599Z"
   },
   {
    "duration": 110,
    "start_time": "2024-09-05T13:40:23.867Z"
   },
   {
    "duration": 73,
    "start_time": "2024-09-05T13:40:47.617Z"
   },
   {
    "duration": 1008,
    "start_time": "2024-09-05T13:41:04.610Z"
   },
   {
    "duration": 1218,
    "start_time": "2024-09-05T13:41:46.158Z"
   },
   {
    "duration": 76,
    "start_time": "2024-09-05T13:41:47.378Z"
   },
   {
    "duration": 4,
    "start_time": "2024-09-05T13:41:47.456Z"
   },
   {
    "duration": 45,
    "start_time": "2024-09-05T13:41:47.462Z"
   },
   {
    "duration": 77,
    "start_time": "2024-09-05T13:41:47.509Z"
   },
   {
    "duration": 8,
    "start_time": "2024-09-05T13:41:47.588Z"
   },
   {
    "duration": 17,
    "start_time": "2024-09-05T13:41:47.598Z"
   },
   {
    "duration": 53,
    "start_time": "2024-09-05T13:41:47.617Z"
   },
   {
    "duration": 4,
    "start_time": "2024-09-05T13:41:47.672Z"
   },
   {
    "duration": 9,
    "start_time": "2024-09-05T13:41:47.678Z"
   },
   {
    "duration": 21,
    "start_time": "2024-09-05T13:41:47.689Z"
   },
   {
    "duration": 8,
    "start_time": "2024-09-05T13:41:47.712Z"
   },
   {
    "duration": 7,
    "start_time": "2024-09-05T13:41:47.721Z"
   },
   {
    "duration": 7,
    "start_time": "2024-09-05T13:41:47.753Z"
   },
   {
    "duration": 214,
    "start_time": "2024-09-05T13:41:47.763Z"
   },
   {
    "duration": 5,
    "start_time": "2024-09-05T13:41:47.979Z"
   },
   {
    "duration": 16,
    "start_time": "2024-09-05T13:41:47.986Z"
   },
   {
    "duration": 97,
    "start_time": "2024-09-05T13:41:48.003Z"
   },
   {
    "duration": 8,
    "start_time": "2024-09-05T13:41:48.102Z"
   },
   {
    "duration": 230,
    "start_time": "2024-09-05T13:41:48.111Z"
   },
   {
    "duration": 17,
    "start_time": "2024-09-05T13:41:48.343Z"
   },
   {
    "duration": 535,
    "start_time": "2024-09-05T13:41:48.362Z"
   },
   {
    "duration": 8,
    "start_time": "2024-09-05T13:41:48.899Z"
   },
   {
    "duration": 670,
    "start_time": "2024-09-05T13:41:48.909Z"
   },
   {
    "duration": 30,
    "start_time": "2024-09-05T13:41:49.581Z"
   },
   {
    "duration": 20,
    "start_time": "2024-09-05T13:41:49.613Z"
   },
   {
    "duration": 34,
    "start_time": "2024-09-05T13:41:49.634Z"
   },
   {
    "duration": 21,
    "start_time": "2024-09-05T13:41:49.672Z"
   },
   {
    "duration": 984,
    "start_time": "2024-09-05T13:41:49.694Z"
   },
   {
    "duration": 4,
    "start_time": "2024-09-05T13:41:50.679Z"
   },
   {
    "duration": 76,
    "start_time": "2024-09-05T13:41:50.684Z"
   },
   {
    "duration": 412,
    "start_time": "2024-09-05T13:41:50.762Z"
   },
   {
    "duration": 18,
    "start_time": "2024-09-05T13:41:51.175Z"
   },
   {
    "duration": 71,
    "start_time": "2024-09-05T13:41:51.195Z"
   },
   {
    "duration": 425,
    "start_time": "2024-09-05T13:41:51.267Z"
   },
   {
    "duration": 6,
    "start_time": "2024-09-05T13:41:51.693Z"
   },
   {
    "duration": 5,
    "start_time": "2024-09-05T13:41:51.752Z"
   },
   {
    "duration": 69,
    "start_time": "2024-09-05T13:41:51.758Z"
   },
   {
    "duration": 428,
    "start_time": "2024-09-05T13:41:51.852Z"
   },
   {
    "duration": 381,
    "start_time": "2024-09-05T13:41:52.281Z"
   },
   {
    "duration": 140,
    "start_time": "2024-09-05T13:41:52.664Z"
   },
   {
    "duration": 302,
    "start_time": "2024-09-05T13:41:52.806Z"
   },
   {
    "duration": 284,
    "start_time": "2024-09-05T13:41:53.110Z"
   },
   {
    "duration": 78,
    "start_time": "2024-09-05T13:42:16.593Z"
   },
   {
    "duration": 83,
    "start_time": "2024-09-05T13:45:10.178Z"
   },
   {
    "duration": 85,
    "start_time": "2024-09-05T13:47:32.582Z"
   },
   {
    "duration": 161,
    "start_time": "2024-09-05T13:47:55.451Z"
   },
   {
    "duration": 86,
    "start_time": "2024-09-05T13:48:09.118Z"
   },
   {
    "duration": 84,
    "start_time": "2024-09-05T13:48:22.624Z"
   },
   {
    "duration": 88,
    "start_time": "2024-09-05T13:48:38.347Z"
   },
   {
    "duration": 83,
    "start_time": "2024-09-05T13:48:46.077Z"
   },
   {
    "duration": 84,
    "start_time": "2024-09-05T13:49:00.813Z"
   },
   {
    "duration": 78,
    "start_time": "2024-09-05T13:49:31.773Z"
   },
   {
    "duration": 82,
    "start_time": "2024-09-05T13:49:42.975Z"
   },
   {
    "duration": 82,
    "start_time": "2024-09-05T13:50:15.018Z"
   },
   {
    "duration": 1187,
    "start_time": "2024-09-05T13:51:04.611Z"
   },
   {
    "duration": 77,
    "start_time": "2024-09-05T13:51:05.800Z"
   },
   {
    "duration": 5,
    "start_time": "2024-09-05T13:51:05.878Z"
   },
   {
    "duration": 56,
    "start_time": "2024-09-05T13:51:05.885Z"
   },
   {
    "duration": 46,
    "start_time": "2024-09-05T13:51:05.943Z"
   },
   {
    "duration": 6,
    "start_time": "2024-09-05T13:51:05.991Z"
   },
   {
    "duration": 15,
    "start_time": "2024-09-05T13:51:05.999Z"
   },
   {
    "duration": 41,
    "start_time": "2024-09-05T13:51:06.015Z"
   },
   {
    "duration": 5,
    "start_time": "2024-09-05T13:51:06.057Z"
   },
   {
    "duration": 61,
    "start_time": "2024-09-05T13:51:06.064Z"
   },
   {
    "duration": 17,
    "start_time": "2024-09-05T13:51:06.127Z"
   },
   {
    "duration": 13,
    "start_time": "2024-09-05T13:51:06.145Z"
   },
   {
    "duration": 7,
    "start_time": "2024-09-05T13:51:06.160Z"
   },
   {
    "duration": 8,
    "start_time": "2024-09-05T13:51:06.170Z"
   },
   {
    "duration": 194,
    "start_time": "2024-09-05T13:51:06.180Z"
   },
   {
    "duration": 101,
    "start_time": "2024-09-05T13:51:06.376Z"
   },
   {
    "duration": 8,
    "start_time": "2024-09-05T13:51:06.478Z"
   },
   {
    "duration": 225,
    "start_time": "2024-09-05T13:51:06.488Z"
   },
   {
    "duration": 8,
    "start_time": "2024-09-05T13:51:06.715Z"
   },
   {
    "duration": 528,
    "start_time": "2024-09-05T13:51:06.724Z"
   },
   {
    "duration": 9,
    "start_time": "2024-09-05T13:51:07.255Z"
   },
   {
    "duration": 558,
    "start_time": "2024-09-05T13:51:07.266Z"
   },
   {
    "duration": 38,
    "start_time": "2024-09-05T13:51:07.826Z"
   },
   {
    "duration": 22,
    "start_time": "2024-09-05T13:51:07.866Z"
   },
   {
    "duration": 20,
    "start_time": "2024-09-05T13:51:07.890Z"
   },
   {
    "duration": 44,
    "start_time": "2024-09-05T13:51:07.911Z"
   },
   {
    "duration": 940,
    "start_time": "2024-09-05T13:51:07.956Z"
   },
   {
    "duration": 5,
    "start_time": "2024-09-05T13:51:08.898Z"
   },
   {
    "duration": 62,
    "start_time": "2024-09-05T13:51:08.905Z"
   },
   {
    "duration": 208,
    "start_time": "2024-09-05T13:51:08.969Z"
   },
   {
    "duration": 19,
    "start_time": "2024-09-05T13:51:09.179Z"
   },
   {
    "duration": 35,
    "start_time": "2024-09-05T13:51:09.200Z"
   },
   {
    "duration": 223,
    "start_time": "2024-09-05T13:51:09.236Z"
   },
   {
    "duration": 5,
    "start_time": "2024-09-05T13:51:09.461Z"
   },
   {
    "duration": 6,
    "start_time": "2024-09-05T13:51:09.468Z"
   },
   {
    "duration": 6,
    "start_time": "2024-09-05T13:51:09.476Z"
   },
   {
    "duration": 312,
    "start_time": "2024-09-05T13:51:09.484Z"
   },
   {
    "duration": 363,
    "start_time": "2024-09-05T13:51:09.798Z"
   },
   {
    "duration": 146,
    "start_time": "2024-09-05T13:51:10.162Z"
   },
   {
    "duration": 311,
    "start_time": "2024-09-05T13:51:10.310Z"
   },
   {
    "duration": 279,
    "start_time": "2024-09-05T13:51:10.625Z"
   },
   {
    "duration": 1150,
    "start_time": "2024-09-07T10:37:43.647Z"
   },
   {
    "duration": 290,
    "start_time": "2024-09-07T10:37:44.798Z"
   },
   {
    "duration": 5,
    "start_time": "2024-09-07T10:37:45.089Z"
   },
   {
    "duration": 45,
    "start_time": "2024-09-07T10:37:45.095Z"
   },
   {
    "duration": 36,
    "start_time": "2024-09-07T10:37:45.143Z"
   },
   {
    "duration": 5,
    "start_time": "2024-09-07T10:37:45.181Z"
   },
   {
    "duration": 11,
    "start_time": "2024-09-07T10:37:45.187Z"
   },
   {
    "duration": 29,
    "start_time": "2024-09-07T10:37:45.199Z"
   },
   {
    "duration": 4,
    "start_time": "2024-09-07T10:37:45.229Z"
   },
   {
    "duration": 57,
    "start_time": "2024-09-07T10:37:45.234Z"
   },
   {
    "duration": 86,
    "start_time": "2024-09-07T10:37:45.292Z"
   },
   {
    "duration": 7,
    "start_time": "2024-09-07T10:37:45.379Z"
   },
   {
    "duration": 6,
    "start_time": "2024-09-07T10:37:45.388Z"
   },
   {
    "duration": 22,
    "start_time": "2024-09-07T10:37:45.397Z"
   },
   {
    "duration": 153,
    "start_time": "2024-09-07T10:37:45.420Z"
   },
   {
    "duration": 77,
    "start_time": "2024-09-07T10:37:45.575Z"
   },
   {
    "duration": 6,
    "start_time": "2024-09-07T10:37:45.653Z"
   },
   {
    "duration": 172,
    "start_time": "2024-09-07T10:37:45.660Z"
   },
   {
    "duration": 6,
    "start_time": "2024-09-07T10:37:45.833Z"
   },
   {
    "duration": 429,
    "start_time": "2024-09-07T10:37:45.841Z"
   },
   {
    "duration": 6,
    "start_time": "2024-09-07T10:37:46.272Z"
   },
   {
    "duration": 379,
    "start_time": "2024-09-07T10:37:46.279Z"
   },
   {
    "duration": 23,
    "start_time": "2024-09-07T10:37:46.660Z"
   },
   {
    "duration": 15,
    "start_time": "2024-09-07T10:37:46.685Z"
   },
   {
    "duration": 15,
    "start_time": "2024-09-07T10:37:46.701Z"
   },
   {
    "duration": 38,
    "start_time": "2024-09-07T10:37:46.718Z"
   },
   {
    "duration": 710,
    "start_time": "2024-09-07T10:37:46.758Z"
   },
   {
    "duration": 4,
    "start_time": "2024-09-07T10:37:47.469Z"
   },
   {
    "duration": 31,
    "start_time": "2024-09-07T10:37:47.474Z"
   },
   {
    "duration": 191,
    "start_time": "2024-09-07T10:37:47.507Z"
   },
   {
    "duration": 17,
    "start_time": "2024-09-07T10:37:47.699Z"
   },
   {
    "duration": 14,
    "start_time": "2024-09-07T10:37:47.717Z"
   },
   {
    "duration": 182,
    "start_time": "2024-09-07T10:37:47.732Z"
   },
   {
    "duration": 5,
    "start_time": "2024-09-07T10:37:47.915Z"
   },
   {
    "duration": 4,
    "start_time": "2024-09-07T10:37:47.921Z"
   },
   {
    "duration": 5,
    "start_time": "2024-09-07T10:37:47.926Z"
   },
   {
    "duration": 256,
    "start_time": "2024-09-07T10:37:47.932Z"
   },
   {
    "duration": 465,
    "start_time": "2024-09-07T10:37:48.190Z"
   },
   {
    "duration": 209,
    "start_time": "2024-09-07T10:37:48.656Z"
   },
   {
    "duration": 397,
    "start_time": "2024-09-07T10:37:48.866Z"
   },
   {
    "duration": 294,
    "start_time": "2024-09-07T10:37:49.266Z"
   },
   {
    "duration": 5,
    "start_time": "2024-09-07T10:46:40.134Z"
   },
   {
    "duration": 5,
    "start_time": "2024-09-07T10:47:25.924Z"
   },
   {
    "duration": 6,
    "start_time": "2024-09-07T10:47:55.295Z"
   },
   {
    "duration": 5,
    "start_time": "2024-09-07T10:48:05.927Z"
   },
   {
    "duration": 5,
    "start_time": "2024-09-07T10:48:15.195Z"
   },
   {
    "duration": 5,
    "start_time": "2024-09-07T10:48:26.414Z"
   },
   {
    "duration": 6,
    "start_time": "2024-09-07T10:48:55.385Z"
   },
   {
    "duration": 6,
    "start_time": "2024-09-07T10:49:03.714Z"
   },
   {
    "duration": 5,
    "start_time": "2024-09-07T10:49:11.553Z"
   },
   {
    "duration": 2668,
    "start_time": "2024-09-07T11:22:20.731Z"
   },
   {
    "duration": 5,
    "start_time": "2024-09-07T11:22:57.649Z"
   },
   {
    "duration": 8,
    "start_time": "2024-09-07T11:23:30.015Z"
   },
   {
    "duration": 133,
    "start_time": "2024-09-07T11:26:44.960Z"
   },
   {
    "duration": 129,
    "start_time": "2024-09-07T11:27:04.860Z"
   },
   {
    "duration": 127,
    "start_time": "2024-09-07T11:27:31.890Z"
   },
   {
    "duration": 129,
    "start_time": "2024-09-07T11:27:49.695Z"
   },
   {
    "duration": 1126,
    "start_time": "2024-09-07T11:35:55.289Z"
   },
   {
    "duration": 1142,
    "start_time": "2024-09-07T11:37:17.422Z"
   },
   {
    "duration": 7,
    "start_time": "2024-09-07T11:41:48.264Z"
   },
   {
    "duration": 6,
    "start_time": "2024-09-07T11:42:15.815Z"
   },
   {
    "duration": 6,
    "start_time": "2024-09-07T12:32:21.603Z"
   },
   {
    "duration": 5,
    "start_time": "2024-09-07T12:32:45.733Z"
   },
   {
    "duration": 7,
    "start_time": "2024-09-07T12:33:04.271Z"
   },
   {
    "duration": 5,
    "start_time": "2024-09-07T12:33:54.307Z"
   },
   {
    "duration": 5,
    "start_time": "2024-09-07T12:34:18.915Z"
   },
   {
    "duration": 6,
    "start_time": "2024-09-07T12:34:37.553Z"
   },
   {
    "duration": 1001,
    "start_time": "2024-09-07T12:34:43.963Z"
   },
   {
    "duration": 61,
    "start_time": "2024-09-07T12:34:44.966Z"
   },
   {
    "duration": 3,
    "start_time": "2024-09-07T12:34:45.029Z"
   },
   {
    "duration": 51,
    "start_time": "2024-09-07T12:34:45.033Z"
   },
   {
    "duration": 33,
    "start_time": "2024-09-07T12:34:45.086Z"
   },
   {
    "duration": 34,
    "start_time": "2024-09-07T12:34:45.121Z"
   },
   {
    "duration": 53,
    "start_time": "2024-09-07T12:34:45.156Z"
   },
   {
    "duration": 10,
    "start_time": "2024-09-07T12:34:45.211Z"
   },
   {
    "duration": 3,
    "start_time": "2024-09-07T12:34:45.222Z"
   },
   {
    "duration": 12,
    "start_time": "2024-09-07T12:34:45.226Z"
   },
   {
    "duration": 14,
    "start_time": "2024-09-07T12:34:45.239Z"
   },
   {
    "duration": 17,
    "start_time": "2024-09-07T12:34:45.254Z"
   },
   {
    "duration": 21,
    "start_time": "2024-09-07T12:34:45.272Z"
   },
   {
    "duration": 9,
    "start_time": "2024-09-07T12:34:45.295Z"
   },
   {
    "duration": 137,
    "start_time": "2024-09-07T12:34:45.306Z"
   },
   {
    "duration": 71,
    "start_time": "2024-09-07T12:34:45.444Z"
   },
   {
    "duration": 7,
    "start_time": "2024-09-07T12:34:45.516Z"
   },
   {
    "duration": 191,
    "start_time": "2024-09-07T12:34:45.524Z"
   },
   {
    "duration": 7,
    "start_time": "2024-09-07T12:34:45.716Z"
   },
   {
    "duration": 444,
    "start_time": "2024-09-07T12:34:45.724Z"
   },
   {
    "duration": 7,
    "start_time": "2024-09-07T12:34:46.169Z"
   },
   {
    "duration": 385,
    "start_time": "2024-09-07T12:34:46.177Z"
   },
   {
    "duration": 6,
    "start_time": "2024-09-07T12:34:46.564Z"
   },
   {
    "duration": 37,
    "start_time": "2024-09-07T12:34:46.571Z"
   },
   {
    "duration": 16,
    "start_time": "2024-09-07T12:34:46.609Z"
   },
   {
    "duration": 15,
    "start_time": "2024-09-07T12:34:46.626Z"
   },
   {
    "duration": 20,
    "start_time": "2024-09-07T12:34:46.642Z"
   },
   {
    "duration": 6,
    "start_time": "2024-09-07T12:34:46.663Z"
   },
   {
    "duration": 6,
    "start_time": "2024-09-07T12:34:46.670Z"
   },
   {
    "duration": 739,
    "start_time": "2024-09-07T12:34:46.678Z"
   },
   {
    "duration": 44,
    "start_time": "2024-09-07T12:34:47.418Z"
   },
   {
    "duration": 0,
    "start_time": "2024-09-07T12:34:47.463Z"
   },
   {
    "duration": 0,
    "start_time": "2024-09-07T12:34:47.464Z"
   },
   {
    "duration": 0,
    "start_time": "2024-09-07T12:34:47.465Z"
   },
   {
    "duration": 0,
    "start_time": "2024-09-07T12:34:47.465Z"
   },
   {
    "duration": 0,
    "start_time": "2024-09-07T12:34:47.466Z"
   },
   {
    "duration": 0,
    "start_time": "2024-09-07T12:34:47.467Z"
   },
   {
    "duration": 0,
    "start_time": "2024-09-07T12:34:47.468Z"
   },
   {
    "duration": 0,
    "start_time": "2024-09-07T12:34:47.468Z"
   },
   {
    "duration": 0,
    "start_time": "2024-09-07T12:34:47.469Z"
   },
   {
    "duration": 0,
    "start_time": "2024-09-07T12:34:47.470Z"
   },
   {
    "duration": 0,
    "start_time": "2024-09-07T12:34:47.471Z"
   },
   {
    "duration": 0,
    "start_time": "2024-09-07T12:34:47.472Z"
   },
   {
    "duration": 0,
    "start_time": "2024-09-07T12:34:47.472Z"
   },
   {
    "duration": 0,
    "start_time": "2024-09-07T12:34:47.473Z"
   },
   {
    "duration": 11,
    "start_time": "2024-09-07T12:35:09.081Z"
   },
   {
    "duration": 12,
    "start_time": "2024-09-07T12:35:39.286Z"
   },
   {
    "duration": 97,
    "start_time": "2024-09-07T12:38:38.191Z"
   },
   {
    "duration": 4,
    "start_time": "2024-09-07T12:38:43.710Z"
   },
   {
    "duration": 116,
    "start_time": "2024-09-07T12:38:46.271Z"
   },
   {
    "duration": 4,
    "start_time": "2024-09-07T12:39:22.325Z"
   },
   {
    "duration": 124,
    "start_time": "2024-09-07T12:39:35.837Z"
   },
   {
    "duration": 12,
    "start_time": "2024-09-07T12:40:05.028Z"
   },
   {
    "duration": 7,
    "start_time": "2024-09-07T12:40:50.802Z"
   },
   {
    "duration": 7,
    "start_time": "2024-09-07T12:41:31.362Z"
   },
   {
    "duration": 7,
    "start_time": "2024-09-07T12:41:45.582Z"
   },
   {
    "duration": 7,
    "start_time": "2024-09-07T12:42:07.666Z"
   },
   {
    "duration": 6,
    "start_time": "2024-09-07T12:43:04.367Z"
   },
   {
    "duration": 12,
    "start_time": "2024-09-07T12:43:37.438Z"
   },
   {
    "duration": 6,
    "start_time": "2024-09-07T12:44:05.677Z"
   },
   {
    "duration": 6,
    "start_time": "2024-09-07T12:44:28.002Z"
   },
   {
    "duration": 9,
    "start_time": "2024-09-07T12:45:02.915Z"
   },
   {
    "duration": 11,
    "start_time": "2024-09-07T12:45:17.956Z"
   },
   {
    "duration": 8,
    "start_time": "2024-09-07T12:47:09.660Z"
   },
   {
    "duration": 994,
    "start_time": "2024-09-07T12:47:41.501Z"
   },
   {
    "duration": 61,
    "start_time": "2024-09-07T12:47:42.497Z"
   },
   {
    "duration": 4,
    "start_time": "2024-09-07T12:47:42.560Z"
   },
   {
    "duration": 35,
    "start_time": "2024-09-07T12:47:42.565Z"
   },
   {
    "duration": 55,
    "start_time": "2024-09-07T12:47:42.601Z"
   },
   {
    "duration": 7,
    "start_time": "2024-09-07T12:47:42.657Z"
   },
   {
    "duration": 9,
    "start_time": "2024-09-07T12:47:42.665Z"
   },
   {
    "duration": 13,
    "start_time": "2024-09-07T12:47:42.676Z"
   },
   {
    "duration": 5,
    "start_time": "2024-09-07T12:47:42.690Z"
   },
   {
    "duration": 4,
    "start_time": "2024-09-07T12:47:42.696Z"
   },
   {
    "duration": 9,
    "start_time": "2024-09-07T12:47:42.701Z"
   },
   {
    "duration": 7,
    "start_time": "2024-09-07T12:47:42.750Z"
   },
   {
    "duration": 14,
    "start_time": "2024-09-07T12:47:42.758Z"
   },
   {
    "duration": 12,
    "start_time": "2024-09-07T12:47:42.776Z"
   },
   {
    "duration": 164,
    "start_time": "2024-09-07T12:47:42.790Z"
   },
   {
    "duration": 68,
    "start_time": "2024-09-07T12:47:42.956Z"
   },
   {
    "duration": 7,
    "start_time": "2024-09-07T12:47:43.025Z"
   },
   {
    "duration": 169,
    "start_time": "2024-09-07T12:47:43.051Z"
   },
   {
    "duration": 7,
    "start_time": "2024-09-07T12:47:43.222Z"
   },
   {
    "duration": 436,
    "start_time": "2024-09-07T12:47:43.230Z"
   },
   {
    "duration": 7,
    "start_time": "2024-09-07T12:47:43.667Z"
   },
   {
    "duration": 385,
    "start_time": "2024-09-07T12:47:43.675Z"
   },
   {
    "duration": 11,
    "start_time": "2024-09-07T12:47:44.061Z"
   },
   {
    "duration": 7,
    "start_time": "2024-09-07T12:47:44.073Z"
   },
   {
    "duration": 27,
    "start_time": "2024-09-07T12:47:44.081Z"
   },
   {
    "duration": 15,
    "start_time": "2024-09-07T12:47:44.110Z"
   },
   {
    "duration": 36,
    "start_time": "2024-09-07T12:47:44.126Z"
   },
   {
    "duration": 14,
    "start_time": "2024-09-07T12:47:44.164Z"
   },
   {
    "duration": 6,
    "start_time": "2024-09-07T12:47:44.180Z"
   },
   {
    "duration": 8,
    "start_time": "2024-09-07T12:47:44.187Z"
   },
   {
    "duration": 781,
    "start_time": "2024-09-07T12:47:44.196Z"
   },
   {
    "duration": 7,
    "start_time": "2024-09-07T12:47:44.979Z"
   },
   {
    "duration": 14,
    "start_time": "2024-09-07T12:47:44.987Z"
   },
   {
    "duration": 37,
    "start_time": "2024-09-07T12:47:45.002Z"
   },
   {
    "duration": 186,
    "start_time": "2024-09-07T12:47:45.041Z"
   },
   {
    "duration": 22,
    "start_time": "2024-09-07T12:47:45.229Z"
   },
   {
    "duration": 15,
    "start_time": "2024-09-07T12:47:45.253Z"
   },
   {
    "duration": 188,
    "start_time": "2024-09-07T12:47:45.270Z"
   },
   {
    "duration": 5,
    "start_time": "2024-09-07T12:47:45.459Z"
   },
   {
    "duration": 27,
    "start_time": "2024-09-07T12:47:45.465Z"
   },
   {
    "duration": 5,
    "start_time": "2024-09-07T12:47:45.496Z"
   },
   {
    "duration": 195,
    "start_time": "2024-09-07T12:47:45.502Z"
   },
   {
    "duration": 331,
    "start_time": "2024-09-07T12:47:45.698Z"
   },
   {
    "duration": 116,
    "start_time": "2024-09-07T12:47:46.030Z"
   },
   {
    "duration": 288,
    "start_time": "2024-09-07T12:47:46.150Z"
   },
   {
    "duration": 239,
    "start_time": "2024-09-07T12:47:46.439Z"
   },
   {
    "duration": 7,
    "start_time": "2024-09-07T12:48:30.908Z"
   },
   {
    "duration": 7,
    "start_time": "2024-09-07T12:48:41.118Z"
   },
   {
    "duration": 15,
    "start_time": "2024-09-07T12:48:51.590Z"
   },
   {
    "duration": 3,
    "start_time": "2024-09-07T12:50:20.330Z"
   },
   {
    "duration": 5,
    "start_time": "2024-09-07T12:50:32.205Z"
   },
   {
    "duration": 17,
    "start_time": "2024-09-07T12:50:57.935Z"
   },
   {
    "duration": 9,
    "start_time": "2024-09-07T12:52:12.492Z"
   },
   {
    "duration": 10,
    "start_time": "2024-09-07T12:52:23.588Z"
   },
   {
    "duration": 9,
    "start_time": "2024-09-07T12:52:35.242Z"
   },
   {
    "duration": 8,
    "start_time": "2024-09-07T13:04:07.122Z"
   },
   {
    "duration": 7,
    "start_time": "2024-09-07T13:04:25.394Z"
   },
   {
    "duration": 7,
    "start_time": "2024-09-07T13:04:38.643Z"
   },
   {
    "duration": 1022,
    "start_time": "2024-09-07T13:59:35.275Z"
   },
   {
    "duration": 60,
    "start_time": "2024-09-07T13:59:36.299Z"
   },
   {
    "duration": 4,
    "start_time": "2024-09-07T13:59:36.361Z"
   },
   {
    "duration": 37,
    "start_time": "2024-09-07T13:59:36.366Z"
   },
   {
    "duration": 51,
    "start_time": "2024-09-07T13:59:36.404Z"
   },
   {
    "duration": 6,
    "start_time": "2024-09-07T13:59:36.456Z"
   },
   {
    "duration": 8,
    "start_time": "2024-09-07T13:59:36.463Z"
   },
   {
    "duration": 12,
    "start_time": "2024-09-07T13:59:36.472Z"
   },
   {
    "duration": 4,
    "start_time": "2024-09-07T13:59:36.485Z"
   },
   {
    "duration": 7,
    "start_time": "2024-09-07T13:59:36.491Z"
   },
   {
    "duration": 10,
    "start_time": "2024-09-07T13:59:36.499Z"
   },
   {
    "duration": 5,
    "start_time": "2024-09-07T13:59:36.510Z"
   },
   {
    "duration": 39,
    "start_time": "2024-09-07T13:59:36.516Z"
   },
   {
    "duration": 5,
    "start_time": "2024-09-07T13:59:36.557Z"
   },
   {
    "duration": 162,
    "start_time": "2024-09-07T13:59:36.564Z"
   },
   {
    "duration": 80,
    "start_time": "2024-09-07T13:59:36.727Z"
   },
   {
    "duration": 8,
    "start_time": "2024-09-07T13:59:36.809Z"
   },
   {
    "duration": 185,
    "start_time": "2024-09-07T13:59:36.818Z"
   },
   {
    "duration": 7,
    "start_time": "2024-09-07T13:59:37.004Z"
   },
   {
    "duration": 471,
    "start_time": "2024-09-07T13:59:37.012Z"
   },
   {
    "duration": 7,
    "start_time": "2024-09-07T13:59:37.485Z"
   },
   {
    "duration": 448,
    "start_time": "2024-09-07T13:59:37.493Z"
   },
   {
    "duration": 12,
    "start_time": "2024-09-07T13:59:37.942Z"
   },
   {
    "duration": 25,
    "start_time": "2024-09-07T13:59:37.955Z"
   },
   {
    "duration": 18,
    "start_time": "2024-09-07T13:59:37.981Z"
   },
   {
    "duration": 56,
    "start_time": "2024-09-07T13:59:38.000Z"
   },
   {
    "duration": 16,
    "start_time": "2024-09-07T13:59:38.058Z"
   },
   {
    "duration": 7,
    "start_time": "2024-09-07T13:59:38.077Z"
   },
   {
    "duration": 9,
    "start_time": "2024-09-07T13:59:38.085Z"
   },
   {
    "duration": 7,
    "start_time": "2024-09-07T13:59:38.095Z"
   },
   {
    "duration": 7,
    "start_time": "2024-09-07T13:59:38.104Z"
   },
   {
    "duration": 793,
    "start_time": "2024-09-07T13:59:38.112Z"
   },
   {
    "duration": 3,
    "start_time": "2024-09-07T13:59:38.907Z"
   },
   {
    "duration": 51,
    "start_time": "2024-09-07T13:59:38.911Z"
   },
   {
    "duration": 190,
    "start_time": "2024-09-07T13:59:38.963Z"
   },
   {
    "duration": 15,
    "start_time": "2024-09-07T13:59:39.154Z"
   },
   {
    "duration": 15,
    "start_time": "2024-09-07T13:59:39.171Z"
   },
   {
    "duration": 203,
    "start_time": "2024-09-07T13:59:39.187Z"
   },
   {
    "duration": 4,
    "start_time": "2024-09-07T13:59:39.392Z"
   },
   {
    "duration": 7,
    "start_time": "2024-09-07T13:59:39.397Z"
   },
   {
    "duration": 5,
    "start_time": "2024-09-07T13:59:39.406Z"
   },
   {
    "duration": 300,
    "start_time": "2024-09-07T13:59:39.412Z"
   },
   {
    "duration": 351,
    "start_time": "2024-09-07T13:59:39.713Z"
   },
   {
    "duration": 119,
    "start_time": "2024-09-07T13:59:40.065Z"
   },
   {
    "duration": 277,
    "start_time": "2024-09-07T13:59:40.185Z"
   },
   {
    "duration": 230,
    "start_time": "2024-09-07T13:59:40.463Z"
   },
   {
    "duration": 1380,
    "start_time": "2024-09-08T10:55:14.075Z"
   },
   {
    "duration": 368,
    "start_time": "2024-09-08T10:55:15.457Z"
   },
   {
    "duration": 5,
    "start_time": "2024-09-08T10:55:15.827Z"
   },
   {
    "duration": 73,
    "start_time": "2024-09-08T10:55:15.833Z"
   },
   {
    "duration": 45,
    "start_time": "2024-09-08T10:55:15.908Z"
   },
   {
    "duration": 7,
    "start_time": "2024-09-08T10:55:15.955Z"
   },
   {
    "duration": 65,
    "start_time": "2024-09-08T10:55:15.963Z"
   },
   {
    "duration": 22,
    "start_time": "2024-09-08T10:55:16.030Z"
   },
   {
    "duration": 4,
    "start_time": "2024-09-08T10:55:16.053Z"
   },
   {
    "duration": 10,
    "start_time": "2024-09-08T10:55:16.060Z"
   },
   {
    "duration": 21,
    "start_time": "2024-09-08T10:55:16.072Z"
   },
   {
    "duration": 11,
    "start_time": "2024-09-08T10:55:16.095Z"
   },
   {
    "duration": 8,
    "start_time": "2024-09-08T10:55:16.108Z"
   },
   {
    "duration": 24,
    "start_time": "2024-09-08T10:55:16.117Z"
   },
   {
    "duration": 170,
    "start_time": "2024-09-08T10:55:16.142Z"
   },
   {
    "duration": 94,
    "start_time": "2024-09-08T10:55:16.314Z"
   },
   {
    "duration": 9,
    "start_time": "2024-09-08T10:55:16.409Z"
   },
   {
    "duration": 228,
    "start_time": "2024-09-08T10:55:16.420Z"
   },
   {
    "duration": 9,
    "start_time": "2024-09-08T10:55:16.650Z"
   },
   {
    "duration": 525,
    "start_time": "2024-09-08T10:55:16.660Z"
   },
   {
    "duration": 13,
    "start_time": "2024-09-08T10:55:17.186Z"
   },
   {
    "duration": 491,
    "start_time": "2024-09-08T10:55:17.201Z"
   },
   {
    "duration": 9,
    "start_time": "2024-09-08T10:55:17.697Z"
   },
   {
    "duration": 38,
    "start_time": "2024-09-08T10:55:17.708Z"
   },
   {
    "duration": 21,
    "start_time": "2024-09-08T10:55:17.748Z"
   },
   {
    "duration": 36,
    "start_time": "2024-09-08T10:55:17.770Z"
   },
   {
    "duration": 19,
    "start_time": "2024-09-08T10:55:17.808Z"
   },
   {
    "duration": 9,
    "start_time": "2024-09-08T10:55:17.830Z"
   },
   {
    "duration": 7,
    "start_time": "2024-09-08T10:55:17.840Z"
   },
   {
    "duration": 13,
    "start_time": "2024-09-08T10:55:17.849Z"
   },
   {
    "duration": 37,
    "start_time": "2024-09-08T10:55:17.864Z"
   },
   {
    "duration": 958,
    "start_time": "2024-09-08T10:55:17.902Z"
   },
   {
    "duration": 4,
    "start_time": "2024-09-08T10:55:18.861Z"
   },
   {
    "duration": 54,
    "start_time": "2024-09-08T10:55:18.866Z"
   },
   {
    "duration": 216,
    "start_time": "2024-09-08T10:55:18.922Z"
   },
   {
    "duration": 23,
    "start_time": "2024-09-08T10:55:19.140Z"
   },
   {
    "duration": 41,
    "start_time": "2024-09-08T10:55:19.164Z"
   },
   {
    "duration": 493,
    "start_time": "2024-09-08T10:55:19.207Z"
   },
   {
    "duration": 5,
    "start_time": "2024-09-08T10:55:19.702Z"
   },
   {
    "duration": 14,
    "start_time": "2024-09-08T10:55:19.709Z"
   },
   {
    "duration": 9,
    "start_time": "2024-09-08T10:55:19.724Z"
   },
   {
    "duration": 401,
    "start_time": "2024-09-08T10:55:19.734Z"
   },
   {
    "duration": 568,
    "start_time": "2024-09-08T10:55:20.136Z"
   },
   {
    "duration": 225,
    "start_time": "2024-09-08T10:55:20.706Z"
   },
   {
    "duration": 309,
    "start_time": "2024-09-08T10:55:20.933Z"
   },
   {
    "duration": 229,
    "start_time": "2024-09-08T10:55:21.244Z"
   },
   {
    "duration": 1258,
    "start_time": "2024-09-08T11:16:06.000Z"
   },
   {
    "duration": 76,
    "start_time": "2024-09-08T11:16:07.259Z"
   },
   {
    "duration": 5,
    "start_time": "2024-09-08T11:16:07.336Z"
   },
   {
    "duration": 45,
    "start_time": "2024-09-08T11:16:07.343Z"
   },
   {
    "duration": 48,
    "start_time": "2024-09-08T11:16:07.398Z"
   },
   {
    "duration": 8,
    "start_time": "2024-09-08T11:16:07.447Z"
   },
   {
    "duration": 42,
    "start_time": "2024-09-08T11:16:07.456Z"
   },
   {
    "duration": 15,
    "start_time": "2024-09-08T11:16:07.499Z"
   },
   {
    "duration": 7,
    "start_time": "2024-09-08T11:16:07.515Z"
   },
   {
    "duration": 18,
    "start_time": "2024-09-08T11:16:07.526Z"
   },
   {
    "duration": 13,
    "start_time": "2024-09-08T11:16:07.546Z"
   },
   {
    "duration": 10,
    "start_time": "2024-09-08T11:16:07.561Z"
   },
   {
    "duration": 30,
    "start_time": "2024-09-08T11:16:07.573Z"
   },
   {
    "duration": 17,
    "start_time": "2024-09-08T11:16:07.605Z"
   },
   {
    "duration": 195,
    "start_time": "2024-09-08T11:16:07.624Z"
   },
   {
    "duration": 100,
    "start_time": "2024-09-08T11:16:07.820Z"
   },
   {
    "duration": 8,
    "start_time": "2024-09-08T11:16:07.922Z"
   },
   {
    "duration": 239,
    "start_time": "2024-09-08T11:16:07.931Z"
   },
   {
    "duration": 9,
    "start_time": "2024-09-08T11:16:08.171Z"
   },
   {
    "duration": 627,
    "start_time": "2024-09-08T11:16:08.182Z"
   },
   {
    "duration": 9,
    "start_time": "2024-09-08T11:16:08.811Z"
   },
   {
    "duration": 592,
    "start_time": "2024-09-08T11:16:08.822Z"
   },
   {
    "duration": 12,
    "start_time": "2024-09-08T11:16:09.415Z"
   },
   {
    "duration": 37,
    "start_time": "2024-09-08T11:16:09.430Z"
   },
   {
    "duration": 50,
    "start_time": "2024-09-08T11:16:09.469Z"
   },
   {
    "duration": 22,
    "start_time": "2024-09-08T11:16:09.521Z"
   },
   {
    "duration": 21,
    "start_time": "2024-09-08T11:16:09.544Z"
   },
   {
    "duration": 30,
    "start_time": "2024-09-08T11:16:09.568Z"
   },
   {
    "duration": 9,
    "start_time": "2024-09-08T11:16:09.600Z"
   },
   {
    "duration": 13,
    "start_time": "2024-09-08T11:16:09.612Z"
   },
   {
    "duration": 9,
    "start_time": "2024-09-08T11:16:09.628Z"
   },
   {
    "duration": 1017,
    "start_time": "2024-09-08T11:16:09.638Z"
   },
   {
    "duration": 4,
    "start_time": "2024-09-08T11:16:10.657Z"
   },
   {
    "duration": 62,
    "start_time": "2024-09-08T11:16:10.663Z"
   },
   {
    "duration": 213,
    "start_time": "2024-09-08T11:16:10.727Z"
   },
   {
    "duration": 20,
    "start_time": "2024-09-08T11:16:10.942Z"
   },
   {
    "duration": 38,
    "start_time": "2024-09-08T11:16:10.963Z"
   },
   {
    "duration": 232,
    "start_time": "2024-09-08T11:16:11.003Z"
   },
   {
    "duration": 6,
    "start_time": "2024-09-08T11:16:11.237Z"
   },
   {
    "duration": 15,
    "start_time": "2024-09-08T11:16:11.244Z"
   },
   {
    "duration": 22,
    "start_time": "2024-09-08T11:16:11.260Z"
   },
   {
    "duration": 1121,
    "start_time": "2024-09-08T12:39:57.449Z"
   },
   {
    "duration": 69,
    "start_time": "2024-09-08T12:39:58.572Z"
   },
   {
    "duration": 4,
    "start_time": "2024-09-08T12:39:58.642Z"
   },
   {
    "duration": 45,
    "start_time": "2024-09-08T12:39:58.648Z"
   },
   {
    "duration": 68,
    "start_time": "2024-09-08T12:39:58.695Z"
   },
   {
    "duration": 6,
    "start_time": "2024-09-08T12:39:58.764Z"
   },
   {
    "duration": 9,
    "start_time": "2024-09-08T12:39:58.772Z"
   },
   {
    "duration": 16,
    "start_time": "2024-09-08T12:39:58.783Z"
   },
   {
    "duration": 3,
    "start_time": "2024-09-08T12:39:58.801Z"
   },
   {
    "duration": 6,
    "start_time": "2024-09-08T12:39:58.807Z"
   },
   {
    "duration": 39,
    "start_time": "2024-09-08T12:39:58.815Z"
   },
   {
    "duration": 8,
    "start_time": "2024-09-08T12:39:58.855Z"
   },
   {
    "duration": 14,
    "start_time": "2024-09-08T12:39:58.865Z"
   },
   {
    "duration": 8,
    "start_time": "2024-09-08T12:39:58.880Z"
   },
   {
    "duration": 184,
    "start_time": "2024-09-08T12:39:58.889Z"
   },
   {
    "duration": 87,
    "start_time": "2024-09-08T12:39:59.074Z"
   },
   {
    "duration": 7,
    "start_time": "2024-09-08T12:39:59.163Z"
   },
   {
    "duration": 224,
    "start_time": "2024-09-08T12:39:59.172Z"
   },
   {
    "duration": 9,
    "start_time": "2024-09-08T12:39:59.397Z"
   },
   {
    "duration": 530,
    "start_time": "2024-09-08T12:39:59.407Z"
   },
   {
    "duration": 9,
    "start_time": "2024-09-08T12:39:59.938Z"
   },
   {
    "duration": 491,
    "start_time": "2024-09-08T12:39:59.953Z"
   },
   {
    "duration": 10,
    "start_time": "2024-09-08T12:40:00.445Z"
   },
   {
    "duration": 37,
    "start_time": "2024-09-08T12:40:00.457Z"
   },
   {
    "duration": 24,
    "start_time": "2024-09-08T12:40:00.496Z"
   },
   {
    "duration": 37,
    "start_time": "2024-09-08T12:40:00.522Z"
   },
   {
    "duration": 20,
    "start_time": "2024-09-08T12:40:00.560Z"
   },
   {
    "duration": 8,
    "start_time": "2024-09-08T12:40:00.583Z"
   },
   {
    "duration": 7,
    "start_time": "2024-09-08T12:40:00.593Z"
   },
   {
    "duration": 8,
    "start_time": "2024-09-08T12:40:00.602Z"
   },
   {
    "duration": 43,
    "start_time": "2024-09-08T12:40:00.611Z"
   },
   {
    "duration": 950,
    "start_time": "2024-09-08T12:40:00.655Z"
   },
   {
    "duration": 3,
    "start_time": "2024-09-08T12:40:01.607Z"
   },
   {
    "duration": 85,
    "start_time": "2024-09-08T12:40:01.612Z"
   },
   {
    "duration": 208,
    "start_time": "2024-09-08T12:40:01.699Z"
   },
   {
    "duration": 17,
    "start_time": "2024-09-08T12:40:01.908Z"
   },
   {
    "duration": 33,
    "start_time": "2024-09-08T12:40:01.926Z"
   },
   {
    "duration": 215,
    "start_time": "2024-09-08T12:40:01.960Z"
   },
   {
    "duration": 5,
    "start_time": "2024-09-08T12:40:02.177Z"
   },
   {
    "duration": 29,
    "start_time": "2024-09-08T12:40:02.183Z"
   },
   {
    "duration": 32,
    "start_time": "2024-09-08T12:40:02.213Z"
   }
  ],
  "kernelspec": {
   "display_name": "Python [conda env:base] *",
   "language": "python",
   "name": "conda-base-py"
  },
  "language_info": {
   "codemirror_mode": {
    "name": "ipython",
    "version": 3
   },
   "file_extension": ".py",
   "mimetype": "text/x-python",
   "name": "python",
   "nbconvert_exporter": "python",
   "pygments_lexer": "ipython3",
   "version": "3.12.7"
  },
  "toc": {
   "base_numbering": 1,
   "nav_menu": {},
   "number_sections": true,
   "sideBar": true,
   "skip_h1_title": true,
   "title_cell": "Table of Contents",
   "title_sidebar": "Contents",
   "toc_cell": false,
   "toc_position": {
    "height": "calc(100% - 180px)",
    "left": "10px",
    "top": "150px",
    "width": "297.6px"
   },
   "toc_section_display": true,
   "toc_window_display": true
  }
 },
 "nbformat": 4,
 "nbformat_minor": 5
}
