{
 "cells": [
  {
   "cell_type": "markdown",
   "metadata": {},
   "source": [
    "### Проект по SQL"
   ]
  },
  {
   "cell_type": "markdown",
   "metadata": {},
   "source": [
    "### Доступ к базе данных\n"
   ]
  },
  {
   "cell_type": "code",
   "execution_count": 1,
   "metadata": {},
   "outputs": [],
   "source": [
    "import pandas as pd\n",
    "import sqlalchemy as sa"
   ]
  },
  {
   "cell_type": "code",
   "execution_count": 2,
   "metadata": {},
   "outputs": [],
   "source": [
    "# устанавливаем параметры\n",
    "db_config = {'user': 'praktikum_student', # имя пользователя\n",
    "             'pwd': 'Sdf4$2;d-d30pp', # пароль\n",
    "             'host': 'rc1b-wcoijxj3yxfsf3fs.mdb.yandexcloud.net',\n",
    "             'port': 6432, # порт подключения\n",
    "             'db': 'data-analyst-final-project-db'} # название базы данных\n",
    "\n",
    "connection_string = 'postgresql://{user}:{pwd}@{host}:{port}/{db}'.format(**db_config)\n",
    "\n",
    "# сохраняем коннектор\n",
    "engine = sa.create_engine(connection_string, connect_args={'sslmode':'require'})\n",
    "\n",
    "# чтобы выполнить SQL-запрос, пишем функцию с использованием Pandas\n",
    "def get_sql_data(query:str, engine:sa.engine.base.Engine=engine) -> pd.DataFrame:\n",
    "    '''Открываем соединение, получаем данные из sql, закрываем соединение'''\n",
    "    with engine.connect() as con:\n",
    "        return pd.read_sql(sql=sa.text(query), con = con)\n"
   ]
  },
  {
   "cell_type": "markdown",
   "metadata": {},
   "source": [
    "### Исследование таблиц"
   ]
  },
  {
   "cell_type": "code",
   "execution_count": 3,
   "metadata": {},
   "outputs": [],
   "source": [
    "# функция для просмотра основной информации о таблицах\n",
    "def analyze_df(df):\n",
    "    print('5 случайных строк датафрейма')\n",
    "    display(df.sample(5))\n",
    "    print('---------------------------------------------------------------------------------------------------------')\n",
    "    print('Информации о датафрейме')\n",
    "    display(df.info())\n",
    " "
   ]
  },
  {
   "cell_type": "markdown",
   "metadata": {},
   "source": [
    "В таблице books 1000 строк, в  authors 636 строк, publishers 340 строк , ratings 6456 строк , reviews 2793 строк."
   ]
  },
  {
   "cell_type": "markdown",
   "metadata": {},
   "source": [
    "### Задачи"
   ]
  },
  {
   "cell_type": "markdown",
   "metadata": {},
   "source": [
    "#### Cколько книг вышло после 1 января 2000 года\n"
   ]
  },
  {
   "cell_type": "code",
   "execution_count": 5,
   "metadata": {},
   "outputs": [
    {
     "data": {
      "text/html": [
       "<div>\n",
       "<style scoped>\n",
       "    .dataframe tbody tr th:only-of-type {\n",
       "        vertical-align: middle;\n",
       "    }\n",
       "\n",
       "    .dataframe tbody tr th {\n",
       "        vertical-align: top;\n",
       "    }\n",
       "\n",
       "    .dataframe thead th {\n",
       "        text-align: right;\n",
       "    }\n",
       "</style>\n",
       "<table border=\"1\" class=\"dataframe\">\n",
       "  <thead>\n",
       "    <tr style=\"text-align: right;\">\n",
       "      <th></th>\n",
       "      <th>count</th>\n",
       "    </tr>\n",
       "  </thead>\n",
       "  <tbody>\n",
       "    <tr>\n",
       "      <th>0</th>\n",
       "      <td>819</td>\n",
       "    </tr>\n",
       "  </tbody>\n",
       "</table>\n",
       "</div>"
      ],
      "text/plain": [
       "   count\n",
       "0    819"
      ]
     },
     "execution_count": 5,
     "metadata": {},
     "output_type": "execute_result"
    }
   ],
   "source": [
    "query = '''\n",
    "            SELECT \n",
    "              COUNT(*) \n",
    "            FROM \n",
    "              books \n",
    "            WHERE \n",
    "              publication_date > '2000-01-01'\n",
    "         '''\n",
    "\n",
    "get_sql_data(query)"
   ]
  },
  {
   "cell_type": "markdown",
   "metadata": {},
   "source": [
    "После 1 января 2000 года вышло 819 книг."
   ]
  },
  {
   "cell_type": "markdown",
   "metadata": {},
   "source": [
    "#### Для каждой книги  количество обзоров и средняя оценка"
   ]
  },
  {
   "cell_type": "code",
   "execution_count": 13,
   "metadata": {},
   "outputs": [
    {
     "data": {
      "text/html": [
       "<div>\n",
       "<style scoped>\n",
       "    .dataframe tbody tr th:only-of-type {\n",
       "        vertical-align: middle;\n",
       "    }\n",
       "\n",
       "    .dataframe tbody tr th {\n",
       "        vertical-align: top;\n",
       "    }\n",
       "\n",
       "    .dataframe thead th {\n",
       "        text-align: right;\n",
       "    }\n",
       "</style>\n",
       "<table border=\"1\" class=\"dataframe\">\n",
       "  <thead>\n",
       "    <tr style=\"text-align: right;\">\n",
       "      <th></th>\n",
       "      <th>title</th>\n",
       "      <th>count_reviews</th>\n",
       "      <th>avg_ratings</th>\n",
       "    </tr>\n",
       "  </thead>\n",
       "  <tbody>\n",
       "    <tr>\n",
       "      <th>0</th>\n",
       "      <td>Pop Goes the Weasel (Alex Cross  #5)</td>\n",
       "      <td>2</td>\n",
       "      <td>5.00</td>\n",
       "    </tr>\n",
       "    <tr>\n",
       "      <th>1</th>\n",
       "      <td>The Ghost Map: The Story of London's Most Terr...</td>\n",
       "      <td>2</td>\n",
       "      <td>5.00</td>\n",
       "    </tr>\n",
       "    <tr>\n",
       "      <th>2</th>\n",
       "      <td>In the Hand of the Goddess (Song of the Liones...</td>\n",
       "      <td>2</td>\n",
       "      <td>5.00</td>\n",
       "    </tr>\n",
       "    <tr>\n",
       "      <th>3</th>\n",
       "      <td>Tai-Pan (Asian Saga  #2)</td>\n",
       "      <td>2</td>\n",
       "      <td>5.00</td>\n",
       "    </tr>\n",
       "    <tr>\n",
       "      <th>4</th>\n",
       "      <td>How to Be a Domestic Goddess: Baking and the A...</td>\n",
       "      <td>1</td>\n",
       "      <td>5.00</td>\n",
       "    </tr>\n",
       "    <tr>\n",
       "      <th>...</th>\n",
       "      <td>...</td>\n",
       "      <td>...</td>\n",
       "      <td>...</td>\n",
       "    </tr>\n",
       "    <tr>\n",
       "      <th>995</th>\n",
       "      <td>The World Is Flat: A Brief History of the Twen...</td>\n",
       "      <td>3</td>\n",
       "      <td>2.25</td>\n",
       "    </tr>\n",
       "    <tr>\n",
       "      <th>996</th>\n",
       "      <td>Junky</td>\n",
       "      <td>2</td>\n",
       "      <td>2.00</td>\n",
       "    </tr>\n",
       "    <tr>\n",
       "      <th>997</th>\n",
       "      <td>His Excellency: George Washington</td>\n",
       "      <td>2</td>\n",
       "      <td>2.00</td>\n",
       "    </tr>\n",
       "    <tr>\n",
       "      <th>998</th>\n",
       "      <td>Drowning Ruth</td>\n",
       "      <td>3</td>\n",
       "      <td>2.00</td>\n",
       "    </tr>\n",
       "    <tr>\n",
       "      <th>999</th>\n",
       "      <td>Harvesting the Heart</td>\n",
       "      <td>2</td>\n",
       "      <td>1.50</td>\n",
       "    </tr>\n",
       "  </tbody>\n",
       "</table>\n",
       "<p>1000 rows × 3 columns</p>\n",
       "</div>"
      ],
      "text/plain": [
       "                                                 title  count_reviews  \\\n",
       "0                 Pop Goes the Weasel (Alex Cross  #5)              2   \n",
       "1    The Ghost Map: The Story of London's Most Terr...              2   \n",
       "2    In the Hand of the Goddess (Song of the Liones...              2   \n",
       "3                             Tai-Pan (Asian Saga  #2)              2   \n",
       "4    How to Be a Domestic Goddess: Baking and the A...              1   \n",
       "..                                                 ...            ...   \n",
       "995  The World Is Flat: A Brief History of the Twen...              3   \n",
       "996                                              Junky              2   \n",
       "997                  His Excellency: George Washington              2   \n",
       "998                                      Drowning Ruth              3   \n",
       "999                               Harvesting the Heart              2   \n",
       "\n",
       "     avg_ratings  \n",
       "0           5.00  \n",
       "1           5.00  \n",
       "2           5.00  \n",
       "3           5.00  \n",
       "4           5.00  \n",
       "..           ...  \n",
       "995         2.25  \n",
       "996         2.00  \n",
       "997         2.00  \n",
       "998         2.00  \n",
       "999         1.50  \n",
       "\n",
       "[1000 rows x 3 columns]"
      ]
     },
     "execution_count": 13,
     "metadata": {},
     "output_type": "execute_result"
    }
   ],
   "source": [
    "query = ''' \n",
    "            WITH reviews_count AS (\n",
    "              SELECT \n",
    "                book_id, \n",
    "                COUNT(username) AS count_reviews \n",
    "              FROM \n",
    "                reviews \n",
    "              GROUP BY \n",
    "                book_id\n",
    "            ), \n",
    "            average_rating AS (\n",
    "              SELECT \n",
    "                book_id, \n",
    "                ROUND(\n",
    "                  AVG(rating), \n",
    "                  2\n",
    "                ) AS avg_ratings \n",
    "              FROM \n",
    "                ratings \n",
    "              GROUP BY \n",
    "                book_id\n",
    "            ) \n",
    "            SELECT \n",
    "              b.title, \n",
    "              COALESCE(rc.count_reviews, 0) AS count_reviews, \n",
    "              COALESCE(ar.avg_ratings, 0) AS avg_ratings \n",
    "            FROM \n",
    "              books AS b \n",
    "              LEFT JOIN reviews_count AS rc USING (book_id) \n",
    "              LEFT JOIN average_rating AS ar USING (book_id)\n",
    "            ORDER BY\n",
    "                avg_ratings DESC\n",
    "        '''\n",
    "\n",
    "get_sql_data(query)"
   ]
  },
  {
   "cell_type": "code",
   "execution_count": 7,
   "metadata": {},
   "outputs": [
    {
     "data": {
      "text/html": [
       "<div>\n",
       "<style scoped>\n",
       "    .dataframe tbody tr th:only-of-type {\n",
       "        vertical-align: middle;\n",
       "    }\n",
       "\n",
       "    .dataframe tbody tr th {\n",
       "        vertical-align: top;\n",
       "    }\n",
       "\n",
       "    .dataframe thead th {\n",
       "        text-align: right;\n",
       "    }\n",
       "</style>\n",
       "<table border=\"1\" class=\"dataframe\">\n",
       "  <thead>\n",
       "    <tr style=\"text-align: right;\">\n",
       "      <th></th>\n",
       "      <th>count_reviews</th>\n",
       "      <th>number_of_books</th>\n",
       "    </tr>\n",
       "  </thead>\n",
       "  <tbody>\n",
       "    <tr>\n",
       "      <th>0</th>\n",
       "      <td>2</td>\n",
       "      <td>444</td>\n",
       "    </tr>\n",
       "    <tr>\n",
       "      <th>1</th>\n",
       "      <td>3</td>\n",
       "      <td>277</td>\n",
       "    </tr>\n",
       "    <tr>\n",
       "      <th>2</th>\n",
       "      <td>4</td>\n",
       "      <td>160</td>\n",
       "    </tr>\n",
       "    <tr>\n",
       "      <th>3</th>\n",
       "      <td>5</td>\n",
       "      <td>60</td>\n",
       "    </tr>\n",
       "    <tr>\n",
       "      <th>4</th>\n",
       "      <td>1</td>\n",
       "      <td>37</td>\n",
       "    </tr>\n",
       "    <tr>\n",
       "      <th>5</th>\n",
       "      <td>6</td>\n",
       "      <td>15</td>\n",
       "    </tr>\n",
       "    <tr>\n",
       "      <th>6</th>\n",
       "      <td>0</td>\n",
       "      <td>6</td>\n",
       "    </tr>\n",
       "    <tr>\n",
       "      <th>7</th>\n",
       "      <td>7</td>\n",
       "      <td>1</td>\n",
       "    </tr>\n",
       "  </tbody>\n",
       "</table>\n",
       "</div>"
      ],
      "text/plain": [
       "   count_reviews  number_of_books\n",
       "0              2              444\n",
       "1              3              277\n",
       "2              4              160\n",
       "3              5               60\n",
       "4              1               37\n",
       "5              6               15\n",
       "6              0                6\n",
       "7              7                1"
      ]
     },
     "execution_count": 7,
     "metadata": {},
     "output_type": "execute_result"
    }
   ],
   "source": [
    "query = '''\n",
    "            WITH reviews_count AS (\n",
    "              SELECT \n",
    "                book_id, \n",
    "                COUNT(username) AS count_reviews \n",
    "              FROM \n",
    "                reviews \n",
    "              GROUP BY \n",
    "                book_id\n",
    "            ), \n",
    "            average_rating AS (\n",
    "              SELECT \n",
    "                book_id, \n",
    "                ROUND(\n",
    "                  AVG(rating), \n",
    "                  2\n",
    "                ) AS avg_ratings \n",
    "              FROM \n",
    "                ratings \n",
    "              GROUP BY \n",
    "                book_id\n",
    "            ), \n",
    "            books_with_reviews AS (\n",
    "              SELECT \n",
    "                b.title, \n",
    "                COALESCE(rc.count_reviews, 0) AS count_reviews, \n",
    "                COALESCE(ar.avg_ratings, 0) AS avg_ratings \n",
    "              FROM \n",
    "                books AS b \n",
    "                LEFT JOIN reviews_count AS rc USING (book_id) \n",
    "                LEFT JOIN average_rating AS ar USING (book_id)\n",
    "            ) \n",
    "            SELECT \n",
    "              count_reviews, \n",
    "              COUNT(*) AS number_of_books \n",
    "            FROM \n",
    "              books_with_reviews \n",
    "            GROUP BY \n",
    "              count_reviews \n",
    "            ORDER BY \n",
    "              number_of_books DESC\n",
    "\n",
    "        '''\n",
    "\n",
    "get_sql_data(query)\n",
    "\n"
   ]
  },
  {
   "cell_type": "code",
   "execution_count": 8,
   "metadata": {},
   "outputs": [
    {
     "data": {
      "text/html": [
       "<div>\n",
       "<style scoped>\n",
       "    .dataframe tbody tr th:only-of-type {\n",
       "        vertical-align: middle;\n",
       "    }\n",
       "\n",
       "    .dataframe tbody tr th {\n",
       "        vertical-align: top;\n",
       "    }\n",
       "\n",
       "    .dataframe thead th {\n",
       "        text-align: right;\n",
       "    }\n",
       "</style>\n",
       "<table border=\"1\" class=\"dataframe\">\n",
       "  <thead>\n",
       "    <tr style=\"text-align: right;\">\n",
       "      <th></th>\n",
       "      <th>title</th>\n",
       "      <th>count_reviews</th>\n",
       "      <th>avg_ratings</th>\n",
       "    </tr>\n",
       "  </thead>\n",
       "  <tbody>\n",
       "    <tr>\n",
       "      <th>0</th>\n",
       "      <td>Light in August</td>\n",
       "      <td>2</td>\n",
       "      <td>5.0</td>\n",
       "    </tr>\n",
       "    <tr>\n",
       "      <th>1</th>\n",
       "      <td>Act of Treason (Mitch Rapp  #9)</td>\n",
       "      <td>2</td>\n",
       "      <td>5.0</td>\n",
       "    </tr>\n",
       "    <tr>\n",
       "      <th>2</th>\n",
       "      <td>The Demon-Haunted World: Science as a Candle i...</td>\n",
       "      <td>2</td>\n",
       "      <td>5.0</td>\n",
       "    </tr>\n",
       "    <tr>\n",
       "      <th>3</th>\n",
       "      <td>Dead Souls</td>\n",
       "      <td>2</td>\n",
       "      <td>5.0</td>\n",
       "    </tr>\n",
       "    <tr>\n",
       "      <th>4</th>\n",
       "      <td>March</td>\n",
       "      <td>2</td>\n",
       "      <td>5.0</td>\n",
       "    </tr>\n",
       "    <tr>\n",
       "      <th>5</th>\n",
       "      <td>Wherever You Go  There You Are: Mindfulness Me...</td>\n",
       "      <td>2</td>\n",
       "      <td>5.0</td>\n",
       "    </tr>\n",
       "    <tr>\n",
       "      <th>6</th>\n",
       "      <td>Neil Gaiman's Neverwhere</td>\n",
       "      <td>2</td>\n",
       "      <td>5.0</td>\n",
       "    </tr>\n",
       "    <tr>\n",
       "      <th>7</th>\n",
       "      <td>Evening Class</td>\n",
       "      <td>2</td>\n",
       "      <td>5.0</td>\n",
       "    </tr>\n",
       "    <tr>\n",
       "      <th>8</th>\n",
       "      <td>The Ghost Map: The Story of London's Most Terr...</td>\n",
       "      <td>2</td>\n",
       "      <td>5.0</td>\n",
       "    </tr>\n",
       "    <tr>\n",
       "      <th>9</th>\n",
       "      <td>Welcome to Temptation (Dempseys  #1)</td>\n",
       "      <td>2</td>\n",
       "      <td>5.0</td>\n",
       "    </tr>\n",
       "    <tr>\n",
       "      <th>10</th>\n",
       "      <td>Hard Times</td>\n",
       "      <td>2</td>\n",
       "      <td>5.0</td>\n",
       "    </tr>\n",
       "    <tr>\n",
       "      <th>11</th>\n",
       "      <td>Moneyball: The Art of Winning an Unfair Game</td>\n",
       "      <td>3</td>\n",
       "      <td>5.0</td>\n",
       "    </tr>\n",
       "    <tr>\n",
       "      <th>12</th>\n",
       "      <td>Misty of Chincoteague (Misty  #1)</td>\n",
       "      <td>2</td>\n",
       "      <td>5.0</td>\n",
       "    </tr>\n",
       "    <tr>\n",
       "      <th>13</th>\n",
       "      <td>The War of Art: Break Through the Blocks &amp; Win...</td>\n",
       "      <td>2</td>\n",
       "      <td>5.0</td>\n",
       "    </tr>\n",
       "    <tr>\n",
       "      <th>14</th>\n",
       "      <td>Pop Goes the Weasel (Alex Cross  #5)</td>\n",
       "      <td>2</td>\n",
       "      <td>5.0</td>\n",
       "    </tr>\n",
       "    <tr>\n",
       "      <th>15</th>\n",
       "      <td>The Big Bad Wolf  (Alex Cross  #9)</td>\n",
       "      <td>2</td>\n",
       "      <td>5.0</td>\n",
       "    </tr>\n",
       "    <tr>\n",
       "      <th>16</th>\n",
       "      <td>My Name Is Asher Lev</td>\n",
       "      <td>2</td>\n",
       "      <td>5.0</td>\n",
       "    </tr>\n",
       "    <tr>\n",
       "      <th>17</th>\n",
       "      <td>Triptych (Will Trent  #1)</td>\n",
       "      <td>2</td>\n",
       "      <td>5.0</td>\n",
       "    </tr>\n",
       "    <tr>\n",
       "      <th>18</th>\n",
       "      <td>The Woman in Black</td>\n",
       "      <td>2</td>\n",
       "      <td>5.0</td>\n",
       "    </tr>\n",
       "    <tr>\n",
       "      <th>19</th>\n",
       "      <td>Stone of Farewell (Memory  Sorrow  and Thorn  #2)</td>\n",
       "      <td>1</td>\n",
       "      <td>5.0</td>\n",
       "    </tr>\n",
       "    <tr>\n",
       "      <th>20</th>\n",
       "      <td>Arrows of the Queen (Heralds of Valdemar  #1)</td>\n",
       "      <td>2</td>\n",
       "      <td>5.0</td>\n",
       "    </tr>\n",
       "    <tr>\n",
       "      <th>21</th>\n",
       "      <td>Evil Under the Sun (Hercule Poirot  #24)</td>\n",
       "      <td>2</td>\n",
       "      <td>5.0</td>\n",
       "    </tr>\n",
       "    <tr>\n",
       "      <th>22</th>\n",
       "      <td>Piercing the Darkness (Darkness  #2)</td>\n",
       "      <td>2</td>\n",
       "      <td>5.0</td>\n",
       "    </tr>\n",
       "    <tr>\n",
       "      <th>23</th>\n",
       "      <td>School's Out—Forever (Maximum Ride  #2)</td>\n",
       "      <td>3</td>\n",
       "      <td>5.0</td>\n",
       "    </tr>\n",
       "    <tr>\n",
       "      <th>24</th>\n",
       "      <td>Stolen (Women of the Otherworld  #2)</td>\n",
       "      <td>2</td>\n",
       "      <td>5.0</td>\n",
       "    </tr>\n",
       "    <tr>\n",
       "      <th>25</th>\n",
       "      <td>Geek Love</td>\n",
       "      <td>2</td>\n",
       "      <td>5.0</td>\n",
       "    </tr>\n",
       "    <tr>\n",
       "      <th>26</th>\n",
       "      <td>Captivating: Unveiling the Mystery of a Woman'...</td>\n",
       "      <td>2</td>\n",
       "      <td>5.0</td>\n",
       "    </tr>\n",
       "    <tr>\n",
       "      <th>27</th>\n",
       "      <td>The Adventures of Tom Sawyer and Adventures of...</td>\n",
       "      <td>1</td>\n",
       "      <td>5.0</td>\n",
       "    </tr>\n",
       "    <tr>\n",
       "      <th>28</th>\n",
       "      <td>Crucial Conversations: Tools for Talking When ...</td>\n",
       "      <td>2</td>\n",
       "      <td>5.0</td>\n",
       "    </tr>\n",
       "    <tr>\n",
       "      <th>29</th>\n",
       "      <td>In the Hand of the Goddess (Song of the Liones...</td>\n",
       "      <td>2</td>\n",
       "      <td>5.0</td>\n",
       "    </tr>\n",
       "    <tr>\n",
       "      <th>30</th>\n",
       "      <td>Homage to Catalonia</td>\n",
       "      <td>2</td>\n",
       "      <td>5.0</td>\n",
       "    </tr>\n",
       "    <tr>\n",
       "      <th>31</th>\n",
       "      <td>A Fistful of Charms (The Hollows  #4)</td>\n",
       "      <td>2</td>\n",
       "      <td>5.0</td>\n",
       "    </tr>\n",
       "    <tr>\n",
       "      <th>32</th>\n",
       "      <td>Angels Fall</td>\n",
       "      <td>2</td>\n",
       "      <td>5.0</td>\n",
       "    </tr>\n",
       "    <tr>\n",
       "      <th>33</th>\n",
       "      <td>How to Be a Domestic Goddess: Baking and the A...</td>\n",
       "      <td>1</td>\n",
       "      <td>5.0</td>\n",
       "    </tr>\n",
       "    <tr>\n",
       "      <th>34</th>\n",
       "      <td>Tai-Pan (Asian Saga  #2)</td>\n",
       "      <td>2</td>\n",
       "      <td>5.0</td>\n",
       "    </tr>\n",
       "    <tr>\n",
       "      <th>35</th>\n",
       "      <td>A Dirty Job (Grim Reaper  #1)</td>\n",
       "      <td>4</td>\n",
       "      <td>5.0</td>\n",
       "    </tr>\n",
       "    <tr>\n",
       "      <th>36</th>\n",
       "      <td>Plum Island (John Corey  #1)</td>\n",
       "      <td>2</td>\n",
       "      <td>5.0</td>\n",
       "    </tr>\n",
       "    <tr>\n",
       "      <th>37</th>\n",
       "      <td>Emily of New Moon (Emily  #1)</td>\n",
       "      <td>2</td>\n",
       "      <td>5.0</td>\n",
       "    </tr>\n",
       "    <tr>\n",
       "      <th>38</th>\n",
       "      <td>Alas  Babylon</td>\n",
       "      <td>2</td>\n",
       "      <td>5.0</td>\n",
       "    </tr>\n",
       "    <tr>\n",
       "      <th>39</th>\n",
       "      <td>Women</td>\n",
       "      <td>2</td>\n",
       "      <td>5.0</td>\n",
       "    </tr>\n",
       "    <tr>\n",
       "      <th>40</th>\n",
       "      <td>Marvel 1602</td>\n",
       "      <td>2</td>\n",
       "      <td>5.0</td>\n",
       "    </tr>\n",
       "    <tr>\n",
       "      <th>41</th>\n",
       "      <td>The Walking Dead  Book One (The Walking Dead #...</td>\n",
       "      <td>2</td>\n",
       "      <td>5.0</td>\n",
       "    </tr>\n",
       "    <tr>\n",
       "      <th>42</th>\n",
       "      <td>A Woman of Substance (Emma Harte Saga #1)</td>\n",
       "      <td>2</td>\n",
       "      <td>5.0</td>\n",
       "    </tr>\n",
       "    <tr>\n",
       "      <th>43</th>\n",
       "      <td>The Cat in the Hat and Other Dr. Seuss Favorites</td>\n",
       "      <td>0</td>\n",
       "      <td>5.0</td>\n",
       "    </tr>\n",
       "  </tbody>\n",
       "</table>\n",
       "</div>"
      ],
      "text/plain": [
       "                                                title  count_reviews  \\\n",
       "0                                     Light in August              2   \n",
       "1                     Act of Treason (Mitch Rapp  #9)              2   \n",
       "2   The Demon-Haunted World: Science as a Candle i...              2   \n",
       "3                                          Dead Souls              2   \n",
       "4                                               March              2   \n",
       "5   Wherever You Go  There You Are: Mindfulness Me...              2   \n",
       "6                            Neil Gaiman's Neverwhere              2   \n",
       "7                                       Evening Class              2   \n",
       "8   The Ghost Map: The Story of London's Most Terr...              2   \n",
       "9                Welcome to Temptation (Dempseys  #1)              2   \n",
       "10                                         Hard Times              2   \n",
       "11       Moneyball: The Art of Winning an Unfair Game              3   \n",
       "12                  Misty of Chincoteague (Misty  #1)              2   \n",
       "13  The War of Art: Break Through the Blocks & Win...              2   \n",
       "14               Pop Goes the Weasel (Alex Cross  #5)              2   \n",
       "15                 The Big Bad Wolf  (Alex Cross  #9)              2   \n",
       "16                               My Name Is Asher Lev              2   \n",
       "17                          Triptych (Will Trent  #1)              2   \n",
       "18                                 The Woman in Black              2   \n",
       "19  Stone of Farewell (Memory  Sorrow  and Thorn  #2)              1   \n",
       "20      Arrows of the Queen (Heralds of Valdemar  #1)              2   \n",
       "21           Evil Under the Sun (Hercule Poirot  #24)              2   \n",
       "22               Piercing the Darkness (Darkness  #2)              2   \n",
       "23            School's Out—Forever (Maximum Ride  #2)              3   \n",
       "24               Stolen (Women of the Otherworld  #2)              2   \n",
       "25                                          Geek Love              2   \n",
       "26  Captivating: Unveiling the Mystery of a Woman'...              2   \n",
       "27  The Adventures of Tom Sawyer and Adventures of...              1   \n",
       "28  Crucial Conversations: Tools for Talking When ...              2   \n",
       "29  In the Hand of the Goddess (Song of the Liones...              2   \n",
       "30                                Homage to Catalonia              2   \n",
       "31              A Fistful of Charms (The Hollows  #4)              2   \n",
       "32                                        Angels Fall              2   \n",
       "33  How to Be a Domestic Goddess: Baking and the A...              1   \n",
       "34                           Tai-Pan (Asian Saga  #2)              2   \n",
       "35                      A Dirty Job (Grim Reaper  #1)              4   \n",
       "36                       Plum Island (John Corey  #1)              2   \n",
       "37                      Emily of New Moon (Emily  #1)              2   \n",
       "38                                      Alas  Babylon              2   \n",
       "39                                              Women              2   \n",
       "40                                        Marvel 1602              2   \n",
       "41  The Walking Dead  Book One (The Walking Dead #...              2   \n",
       "42          A Woman of Substance (Emma Harte Saga #1)              2   \n",
       "43   The Cat in the Hat and Other Dr. Seuss Favorites              0   \n",
       "\n",
       "    avg_ratings  \n",
       "0           5.0  \n",
       "1           5.0  \n",
       "2           5.0  \n",
       "3           5.0  \n",
       "4           5.0  \n",
       "5           5.0  \n",
       "6           5.0  \n",
       "7           5.0  \n",
       "8           5.0  \n",
       "9           5.0  \n",
       "10          5.0  \n",
       "11          5.0  \n",
       "12          5.0  \n",
       "13          5.0  \n",
       "14          5.0  \n",
       "15          5.0  \n",
       "16          5.0  \n",
       "17          5.0  \n",
       "18          5.0  \n",
       "19          5.0  \n",
       "20          5.0  \n",
       "21          5.0  \n",
       "22          5.0  \n",
       "23          5.0  \n",
       "24          5.0  \n",
       "25          5.0  \n",
       "26          5.0  \n",
       "27          5.0  \n",
       "28          5.0  \n",
       "29          5.0  \n",
       "30          5.0  \n",
       "31          5.0  \n",
       "32          5.0  \n",
       "33          5.0  \n",
       "34          5.0  \n",
       "35          5.0  \n",
       "36          5.0  \n",
       "37          5.0  \n",
       "38          5.0  \n",
       "39          5.0  \n",
       "40          5.0  \n",
       "41          5.0  \n",
       "42          5.0  \n",
       "43          5.0  "
      ]
     },
     "execution_count": 8,
     "metadata": {},
     "output_type": "execute_result"
    }
   ],
   "source": [
    "query = '''\n",
    "            WITH reviews_count AS (\n",
    "                SELECT \n",
    "                    book_id, \n",
    "                    COUNT(username) AS count_reviews \n",
    "                FROM \n",
    "                    reviews \n",
    "                GROUP BY \n",
    "                    book_id\n",
    "            ), \n",
    "            average_rating AS (\n",
    "                SELECT \n",
    "                    book_id, \n",
    "                    ROUND(AVG(rating), 2) AS avg_ratings \n",
    "                FROM \n",
    "                    ratings \n",
    "                GROUP BY \n",
    "                    book_id\n",
    "            ), \n",
    "            books_with_reviews AS (\n",
    "                SELECT \n",
    "                    b.title, \n",
    "                    COALESCE(rc.count_reviews, 0) AS count_reviews, \n",
    "                    COALESCE(ar.avg_ratings, 0) AS avg_ratings \n",
    "                FROM \n",
    "                    books AS b \n",
    "                    LEFT JOIN reviews_count AS rc USING (book_id) \n",
    "                    LEFT JOIN average_rating AS ar USING (book_id)\n",
    "            ) \n",
    "            SELECT \n",
    "                title, \n",
    "                count_reviews, \n",
    "                avg_ratings \n",
    "            FROM \n",
    "                books_with_reviews \n",
    "            WHERE \n",
    "                avg_ratings = 5\n",
    "        '''\n",
    "\n",
    "get_sql_data(query)"
   ]
  },
  {
   "cell_type": "markdown",
   "metadata": {},
   "source": [
    "Максимальное количество обзоров, которое было предоставлено на одну книгу, составило 7. Есть также 6 книг, которые не были удостоены ни одного обзора. В основном, большинство книг имеют 2 обзора. Средний рейтинг 5 имеют 44 книги."
   ]
  },
  {
   "cell_type": "markdown",
   "metadata": {},
   "source": [
    "#### Издательство, которое выпустило наибольшее число книг толще 50 страниц — так  исключите из анализа брошюры\n"
   ]
  },
  {
   "cell_type": "code",
   "execution_count": 9,
   "metadata": {},
   "outputs": [
    {
     "data": {
      "text/html": [
       "<div>\n",
       "<style scoped>\n",
       "    .dataframe tbody tr th:only-of-type {\n",
       "        vertical-align: middle;\n",
       "    }\n",
       "\n",
       "    .dataframe tbody tr th {\n",
       "        vertical-align: top;\n",
       "    }\n",
       "\n",
       "    .dataframe thead th {\n",
       "        text-align: right;\n",
       "    }\n",
       "</style>\n",
       "<table border=\"1\" class=\"dataframe\">\n",
       "  <thead>\n",
       "    <tr style=\"text-align: right;\">\n",
       "      <th></th>\n",
       "      <th>publisher</th>\n",
       "      <th>book_count</th>\n",
       "    </tr>\n",
       "  </thead>\n",
       "  <tbody>\n",
       "    <tr>\n",
       "      <th>0</th>\n",
       "      <td>Penguin Books</td>\n",
       "      <td>42</td>\n",
       "    </tr>\n",
       "  </tbody>\n",
       "</table>\n",
       "</div>"
      ],
      "text/plain": [
       "       publisher  book_count\n",
       "0  Penguin Books          42"
      ]
     },
     "execution_count": 9,
     "metadata": {},
     "output_type": "execute_result"
    }
   ],
   "source": [
    "query = '''\n",
    "            SELECT \n",
    "              p.publisher, \n",
    "              COUNT(b.book_id) AS book_count \n",
    "            FROM \n",
    "              books b \n",
    "              JOIN publishers p USING (publisher_id)\n",
    "            WHERE \n",
    "              b.num_pages > 50 \n",
    "            GROUP BY \n",
    "              p.publisher \n",
    "            ORDER BY \n",
    "              book_count DESC \n",
    "            LIMIT \n",
    "              1\n",
    "        '''\n",
    "\n",
    "get_sql_data(query)"
   ]
  },
  {
   "cell_type": "markdown",
   "metadata": {},
   "source": [
    "Издательство, которое выпустило наибольшее число книг толще 50 страниц — Penguin Books они издали 42 книги"
   ]
  },
  {
   "cell_type": "markdown",
   "metadata": {},
   "source": [
    "#### Автор с самой высокой средней оценкой книг — учитывайте только книги с 50 и более оценками\n"
   ]
  },
  {
   "cell_type": "code",
   "execution_count": 10,
   "metadata": {},
   "outputs": [
    {
     "data": {
      "text/html": [
       "<div>\n",
       "<style scoped>\n",
       "    .dataframe tbody tr th:only-of-type {\n",
       "        vertical-align: middle;\n",
       "    }\n",
       "\n",
       "    .dataframe tbody tr th {\n",
       "        vertical-align: top;\n",
       "    }\n",
       "\n",
       "    .dataframe thead th {\n",
       "        text-align: right;\n",
       "    }\n",
       "</style>\n",
       "<table border=\"1\" class=\"dataframe\">\n",
       "  <thead>\n",
       "    <tr style=\"text-align: right;\">\n",
       "      <th></th>\n",
       "      <th>author</th>\n",
       "      <th>author_avg_rating</th>\n",
       "      <th>total_ratings</th>\n",
       "    </tr>\n",
       "  </thead>\n",
       "  <tbody>\n",
       "    <tr>\n",
       "      <th>0</th>\n",
       "      <td>J.K. Rowling/Mary GrandPré</td>\n",
       "      <td>4.283844</td>\n",
       "      <td>310.0</td>\n",
       "    </tr>\n",
       "  </tbody>\n",
       "</table>\n",
       "</div>"
      ],
      "text/plain": [
       "                       author  author_avg_rating  total_ratings\n",
       "0  J.K. Rowling/Mary GrandPré           4.283844          310.0"
      ]
     },
     "execution_count": 10,
     "metadata": {},
     "output_type": "execute_result"
    }
   ],
   "source": [
    "query = '''\n",
    "            WITH book_ratings AS (\n",
    "              SELECT \n",
    "                book_id, \n",
    "                AVG(rating) AS avg_rating, \n",
    "                COUNT(rating) AS rating_count \n",
    "              FROM \n",
    "                ratings \n",
    "              GROUP BY \n",
    "                book_id\n",
    "            ), \n",
    "            filtered_books AS (\n",
    "              SELECT \n",
    "                br.book_id, \n",
    "                br.avg_rating, \n",
    "                br.rating_count \n",
    "              FROM \n",
    "                book_ratings br \n",
    "              WHERE \n",
    "                br.rating_count >= 50\n",
    "            ), \n",
    "            author_avg_ratings AS (\n",
    "              SELECT \n",
    "                b.author_id, \n",
    "                AVG(fb.avg_rating) AS author_avg_rating, \n",
    "                SUM(fb.rating_count) AS total_ratings \n",
    "              FROM \n",
    "                filtered_books fb \n",
    "                JOIN books b  USING (book_id)\n",
    "              GROUP BY \n",
    "                b.author_id\n",
    "            ) \n",
    "            SELECT \n",
    "              a.author, \n",
    "              aar.author_avg_rating, \n",
    "              aar.total_ratings \n",
    "            FROM \n",
    "              author_avg_ratings aar \n",
    "              JOIN authors a USING (author_id)\n",
    "            ORDER BY \n",
    "              aar.author_avg_rating DESC \n",
    "            LIMIT \n",
    "              1\n",
    "        '''\n",
    "get_sql_data(query)"
   ]
  },
  {
   "cell_type": "markdown",
   "metadata": {},
   "source": [
    "Автор с самой высокой средней оценкой книг, учитывая только произведения, которые получили более 50 оценок, — это J.K. Rowling/Mary GrandPré. Её средняя оценка составляет 4.28, общее количество оценок для всех книг автора 310"
   ]
  },
  {
   "cell_type": "markdown",
   "metadata": {},
   "source": [
    "#### Среднее количество обзоров от пользователей, которые поставили больше 48 оценок.\n"
   ]
  },
  {
   "cell_type": "code",
   "execution_count": 11,
   "metadata": {
    "scrolled": true
   },
   "outputs": [
    {
     "data": {
      "text/html": [
       "<div>\n",
       "<style scoped>\n",
       "    .dataframe tbody tr th:only-of-type {\n",
       "        vertical-align: middle;\n",
       "    }\n",
       "\n",
       "    .dataframe tbody tr th {\n",
       "        vertical-align: top;\n",
       "    }\n",
       "\n",
       "    .dataframe thead th {\n",
       "        text-align: right;\n",
       "    }\n",
       "</style>\n",
       "<table border=\"1\" class=\"dataframe\">\n",
       "  <thead>\n",
       "    <tr style=\"text-align: right;\">\n",
       "      <th></th>\n",
       "      <th>average_reviews</th>\n",
       "    </tr>\n",
       "  </thead>\n",
       "  <tbody>\n",
       "    <tr>\n",
       "      <th>0</th>\n",
       "      <td>24.0</td>\n",
       "    </tr>\n",
       "  </tbody>\n",
       "</table>\n",
       "</div>"
      ],
      "text/plain": [
       "   average_reviews\n",
       "0             24.0"
      ]
     },
     "execution_count": 11,
     "metadata": {},
     "output_type": "execute_result"
    }
   ],
   "source": [
    "query = '''\n",
    "            WITH user_ratings AS (\n",
    "              SELECT \n",
    "                username, \n",
    "                COUNT(rating_id) AS rating_count \n",
    "              FROM \n",
    "                ratings \n",
    "              GROUP BY \n",
    "                username \n",
    "              HAVING \n",
    "                COUNT(rating_id) > 48\n",
    "            ), \n",
    "            user_reviews AS (\n",
    "              SELECT \n",
    "                r.username, \n",
    "                COUNT(r.review_id) AS review_count \n",
    "              FROM \n",
    "                reviews r \n",
    "                JOIN user_ratings ur  USING (username)\n",
    "              GROUP BY \n",
    "                r.username\n",
    "            ) \n",
    "            SELECT \n",
    "              AVG(review_count) AS average_reviews \n",
    "            FROM \n",
    "              user_reviews\n",
    "\n",
    "'''\n",
    "get_sql_data(query)\n"
   ]
  },
  {
   "cell_type": "markdown",
   "metadata": {},
   "source": [
    "Среднее количество обзоров от пользователей, которые поставили более 48 оценок, составляет 24."
   ]
  },
  {
   "cell_type": "markdown",
   "metadata": {},
   "source": [
    "### Выводы "
   ]
  },
  {
   "cell_type": "markdown",
   "metadata": {},
   "source": [
    "*Выводы по задачам:*\n",
    "\n",
    "• После 1 января 2000 года вышло 819 книг.\n",
    "\n",
    "• Максимальное количество обзоров, которое было предоставлено на одну книгу, составило 7. Есть также 6 книг, которые не были удостоены ни одного обзора. В основном, большинство книг имеют 2 обзора. Средний рейтинг 5 имеют 44 книги.  \n",
    "\n",
    "• Издательство, которое выпустило наибольшее число книг толще 50 страниц — Penguin Books они издали 42 книги. \n",
    "\n",
    "• Автор с самой высокой средней оценкой книг, учитывая только произведения, которые получили более 50 оценок, — это J.K. Rowling/Mary GrandPré. Её средняя оценка составляет 4.28, общее количество оценок для всех книг автора 310. \n",
    "\n",
    "• Среднее количество обзоров от пользователей, которые поставили более 48 оценок, составляет 24.\n",
    "\n",
    "*Рекомендации:*\n",
    "\n",
    "Используя данные о книгах с высоким количеством обзоров и высокими рейтингами, можно создать систему рекомендаций, которая будет предлагать пользователям книги, которые уже получили положительные отзывы от других читателей. Например, книги от J.K. Rowling/Mary GrandPré могут быть рекомендованы пользователям, которые ищут качественную литературу. Учитывая, что Penguin Books выпустило наибольшее количество книг, можно создать специальный раздел , посвященную книгам этого издательства. "
   ]
  },
  {
   "cell_type": "code",
   "execution_count": null,
   "metadata": {},
   "outputs": [],
   "source": []
  }
 ],
 "metadata": {
  "ExecuteTimeLog": [
   {
    "duration": 487,
    "start_time": "2024-11-06T10:38:41.255Z"
   },
   {
    "duration": 5609,
    "start_time": "2024-11-06T10:38:42.705Z"
   },
   {
    "duration": 67,
    "start_time": "2024-11-06T10:48:13.454Z"
   },
   {
    "duration": 3,
    "start_time": "2024-11-06T11:01:08.171Z"
   },
   {
    "duration": 8,
    "start_time": "2024-11-06T11:01:14.852Z"
   },
   {
    "duration": 75,
    "start_time": "2024-11-06T11:01:42.555Z"
   },
   {
    "duration": 470,
    "start_time": "2024-11-06T11:05:48.571Z"
   },
   {
    "duration": 5364,
    "start_time": "2024-11-06T11:05:49.042Z"
   },
   {
    "duration": 3,
    "start_time": "2024-11-06T11:05:54.408Z"
   },
   {
    "duration": 83,
    "start_time": "2024-11-06T11:05:54.412Z"
   },
   {
    "duration": 4,
    "start_time": "2024-11-06T11:09:12.815Z"
   },
   {
    "duration": 216,
    "start_time": "2024-11-06T11:10:12.322Z"
   },
   {
    "duration": 267,
    "start_time": "2024-11-06T11:11:06.267Z"
   },
   {
    "duration": 4,
    "start_time": "2024-11-06T11:13:40.061Z"
   },
   {
    "duration": 121,
    "start_time": "2024-11-06T11:13:43.643Z"
   },
   {
    "duration": 463,
    "start_time": "2024-11-06T11:43:37.762Z"
   },
   {
    "duration": 5199,
    "start_time": "2024-11-06T11:43:38.227Z"
   },
   {
    "duration": 3,
    "start_time": "2024-11-06T11:43:43.428Z"
   },
   {
    "duration": 15,
    "start_time": "2024-11-06T11:43:43.433Z"
   },
   {
    "duration": 183,
    "start_time": "2024-11-06T11:43:43.449Z"
   },
   {
    "duration": 9,
    "start_time": "2024-11-06T11:45:16.217Z"
   },
   {
    "duration": 10,
    "start_time": "2024-11-06T11:46:36.081Z"
   },
   {
    "duration": 9,
    "start_time": "2024-11-06T11:50:18.735Z"
   },
   {
    "duration": 9,
    "start_time": "2024-11-06T11:51:04.467Z"
   },
   {
    "duration": 531,
    "start_time": "2024-11-06T11:53:45.388Z"
   },
   {
    "duration": 5523,
    "start_time": "2024-11-06T11:53:45.921Z"
   },
   {
    "duration": 3,
    "start_time": "2024-11-06T11:53:51.446Z"
   },
   {
    "duration": 19,
    "start_time": "2024-11-06T11:53:51.451Z"
   },
   {
    "duration": 190,
    "start_time": "2024-11-06T11:53:51.472Z"
   },
   {
    "duration": 9,
    "start_time": "2024-11-06T11:53:51.663Z"
   },
   {
    "duration": 104,
    "start_time": "2024-11-06T11:53:51.673Z"
   },
   {
    "duration": 0,
    "start_time": "2024-11-06T11:53:51.779Z"
   },
   {
    "duration": 0,
    "start_time": "2024-11-06T11:53:51.780Z"
   },
   {
    "duration": 0,
    "start_time": "2024-11-06T11:53:51.781Z"
   },
   {
    "duration": 62,
    "start_time": "2024-11-06T11:54:53.857Z"
   },
   {
    "duration": 21,
    "start_time": "2024-11-06T12:05:56.727Z"
   },
   {
    "duration": 13,
    "start_time": "2024-11-06T12:09:04.279Z"
   },
   {
    "duration": 15,
    "start_time": "2024-11-06T12:10:37.768Z"
   },
   {
    "duration": 15,
    "start_time": "2024-11-06T12:11:43.189Z"
   },
   {
    "duration": 25,
    "start_time": "2024-11-06T12:12:58.976Z"
   },
   {
    "duration": 52,
    "start_time": "2024-11-06T12:13:16.076Z"
   },
   {
    "duration": 47,
    "start_time": "2024-11-06T12:14:11.573Z"
   },
   {
    "duration": 48,
    "start_time": "2024-11-06T12:17:48.137Z"
   },
   {
    "duration": 12,
    "start_time": "2024-11-06T12:18:03.518Z"
   },
   {
    "duration": 22,
    "start_time": "2024-11-06T12:19:13.139Z"
   },
   {
    "duration": 22,
    "start_time": "2024-11-06T12:21:20.627Z"
   },
   {
    "duration": 67,
    "start_time": "2024-11-06T12:22:24.269Z"
   },
   {
    "duration": 51,
    "start_time": "2024-11-06T12:22:50.634Z"
   },
   {
    "duration": 13,
    "start_time": "2024-11-06T12:24:16.655Z"
   },
   {
    "duration": 14,
    "start_time": "2024-11-06T12:25:45.214Z"
   },
   {
    "duration": 21,
    "start_time": "2024-11-06T12:26:37.305Z"
   },
   {
    "duration": 476,
    "start_time": "2024-11-06T12:28:33.774Z"
   },
   {
    "duration": 5065,
    "start_time": "2024-11-06T12:28:34.252Z"
   },
   {
    "duration": 2,
    "start_time": "2024-11-06T12:28:39.319Z"
   },
   {
    "duration": 41,
    "start_time": "2024-11-06T12:28:39.323Z"
   },
   {
    "duration": 216,
    "start_time": "2024-11-06T12:28:39.365Z"
   },
   {
    "duration": 11,
    "start_time": "2024-11-06T12:28:39.582Z"
   },
   {
    "duration": 43,
    "start_time": "2024-11-06T12:28:39.595Z"
   },
   {
    "duration": 38,
    "start_time": "2024-11-06T12:28:39.639Z"
   },
   {
    "duration": 35,
    "start_time": "2024-11-06T12:28:39.678Z"
   },
   {
    "duration": 25,
    "start_time": "2024-11-06T12:28:39.715Z"
   },
   {
    "duration": 15,
    "start_time": "2024-11-06T12:28:39.741Z"
   },
   {
    "duration": 50,
    "start_time": "2024-11-06T12:28:39.757Z"
   },
   {
    "duration": 19,
    "start_time": "2024-11-06T12:28:39.808Z"
   },
   {
    "duration": 33,
    "start_time": "2024-11-06T12:28:39.828Z"
   },
   {
    "duration": 481,
    "start_time": "2024-11-07T09:39:35.011Z"
   },
   {
    "duration": 72,
    "start_time": "2024-11-07T09:39:39.292Z"
   },
   {
    "duration": 7779,
    "start_time": "2024-11-07T09:40:01.701Z"
   },
   {
    "duration": 0,
    "start_time": "2024-11-07T09:40:09.482Z"
   },
   {
    "duration": 7,
    "start_time": "2024-11-07T09:41:44.979Z"
   },
   {
    "duration": 2,
    "start_time": "2024-11-07T09:41:51.738Z"
   },
   {
    "duration": 5,
    "start_time": "2024-11-07T09:41:53.496Z"
   },
   {
    "duration": 3,
    "start_time": "2024-11-07T09:41:56.986Z"
   },
   {
    "duration": 563,
    "start_time": "2024-11-07T09:42:03.026Z"
   },
   {
    "duration": 504,
    "start_time": "2024-11-07T09:42:45.375Z"
   },
   {
    "duration": 8527,
    "start_time": "2024-11-07T09:42:45.881Z"
   },
   {
    "duration": 3,
    "start_time": "2024-11-07T09:42:54.410Z"
   },
   {
    "duration": 582,
    "start_time": "2024-11-07T09:42:54.415Z"
   },
   {
    "duration": 49,
    "start_time": "2024-11-07T09:42:54.999Z"
   },
   {
    "duration": 72,
    "start_time": "2024-11-07T09:42:55.050Z"
   },
   {
    "duration": 61,
    "start_time": "2024-11-07T09:42:55.124Z"
   },
   {
    "duration": 51,
    "start_time": "2024-11-07T09:42:55.187Z"
   },
   {
    "duration": 54,
    "start_time": "2024-11-07T09:42:55.239Z"
   },
   {
    "duration": 57,
    "start_time": "2024-11-07T09:42:55.295Z"
   },
   {
    "duration": 58,
    "start_time": "2024-11-07T09:42:55.353Z"
   },
   {
    "duration": 52,
    "start_time": "2024-11-07T09:42:55.413Z"
   },
   {
    "duration": 57,
    "start_time": "2024-11-07T09:42:55.467Z"
   },
   {
    "duration": 50,
    "start_time": "2024-11-07T09:44:59.443Z"
   },
   {
    "duration": 116,
    "start_time": "2024-11-07T10:10:29.832Z"
   },
   {
    "duration": 85,
    "start_time": "2024-11-07T10:11:25.395Z"
   },
   {
    "duration": 50,
    "start_time": "2024-11-07T10:12:46.562Z"
   },
   {
    "duration": 79,
    "start_time": "2024-11-07T10:15:11.319Z"
   },
   {
    "duration": 80,
    "start_time": "2024-11-07T10:22:54.374Z"
   },
   {
    "duration": 79,
    "start_time": "2024-11-07T10:25:34.629Z"
   },
   {
    "duration": 86,
    "start_time": "2024-11-07T10:29:22.075Z"
   },
   {
    "duration": 53,
    "start_time": "2024-11-07T10:36:46.634Z"
   },
   {
    "duration": 80,
    "start_time": "2024-11-07T10:38:28.586Z"
   },
   {
    "duration": 77,
    "start_time": "2024-11-07T10:38:48.313Z"
   },
   {
    "duration": 77,
    "start_time": "2024-11-07T10:38:54.056Z"
   },
   {
    "duration": 80,
    "start_time": "2024-11-07T10:39:08.821Z"
   },
   {
    "duration": 81,
    "start_time": "2024-11-07T10:39:23.253Z"
   },
   {
    "duration": 59,
    "start_time": "2024-11-07T10:41:42.013Z"
   },
   {
    "duration": 81,
    "start_time": "2024-11-07T10:44:53.283Z"
   },
   {
    "duration": 80,
    "start_time": "2024-11-07T10:45:35.079Z"
   },
   {
    "duration": 56,
    "start_time": "2024-11-07T10:45:46.514Z"
   },
   {
    "duration": 51,
    "start_time": "2024-11-07T10:49:04.375Z"
   },
   {
    "duration": 53,
    "start_time": "2024-11-07T10:55:07.002Z"
   },
   {
    "duration": 53,
    "start_time": "2024-11-07T10:56:47.738Z"
   },
   {
    "duration": 55,
    "start_time": "2024-11-07T11:12:55.183Z"
   },
   {
    "duration": 52,
    "start_time": "2024-11-07T11:17:16.319Z"
   },
   {
    "duration": 52,
    "start_time": "2024-11-07T11:18:31.682Z"
   },
   {
    "duration": 60,
    "start_time": "2024-11-07T11:19:15.489Z"
   },
   {
    "duration": 52,
    "start_time": "2024-11-07T11:19:41.002Z"
   },
   {
    "duration": 507,
    "start_time": "2024-11-07T11:22:30.568Z"
   },
   {
    "duration": 7468,
    "start_time": "2024-11-07T11:22:31.076Z"
   },
   {
    "duration": 3,
    "start_time": "2024-11-07T11:22:38.546Z"
   },
   {
    "duration": 649,
    "start_time": "2024-11-07T11:22:38.550Z"
   },
   {
    "duration": 52,
    "start_time": "2024-11-07T11:22:39.200Z"
   },
   {
    "duration": 61,
    "start_time": "2024-11-07T11:22:39.253Z"
   },
   {
    "duration": 54,
    "start_time": "2024-11-07T11:22:39.315Z"
   },
   {
    "duration": 64,
    "start_time": "2024-11-07T11:22:39.370Z"
   },
   {
    "duration": 83,
    "start_time": "2024-11-07T11:22:39.435Z"
   },
   {
    "duration": 54,
    "start_time": "2024-11-07T11:22:39.520Z"
   },
   {
    "duration": 52,
    "start_time": "2024-11-07T11:22:39.575Z"
   },
   {
    "duration": 498,
    "start_time": "2024-11-07T11:38:28.214Z"
   },
   {
    "duration": 8779,
    "start_time": "2024-11-07T11:38:28.713Z"
   },
   {
    "duration": 3,
    "start_time": "2024-11-07T11:38:37.493Z"
   },
   {
    "duration": 638,
    "start_time": "2024-11-07T11:38:37.497Z"
   },
   {
    "duration": 73,
    "start_time": "2024-11-07T11:38:38.136Z"
   },
   {
    "duration": 59,
    "start_time": "2024-11-07T11:38:38.210Z"
   },
   {
    "duration": 51,
    "start_time": "2024-11-07T11:38:38.271Z"
   },
   {
    "duration": 58,
    "start_time": "2024-11-07T11:38:38.323Z"
   },
   {
    "duration": 72,
    "start_time": "2024-11-07T11:38:38.383Z"
   },
   {
    "duration": 54,
    "start_time": "2024-11-07T11:38:38.457Z"
   },
   {
    "duration": 51,
    "start_time": "2024-11-07T11:38:38.513Z"
   },
   {
    "duration": 537,
    "start_time": "2024-11-07T11:54:33.686Z"
   },
   {
    "duration": 7161,
    "start_time": "2024-11-07T11:54:34.225Z"
   },
   {
    "duration": 2,
    "start_time": "2024-11-07T11:54:41.388Z"
   },
   {
    "duration": 527,
    "start_time": "2024-11-07T11:54:41.392Z"
   },
   {
    "duration": 47,
    "start_time": "2024-11-07T11:54:41.921Z"
   },
   {
    "duration": 57,
    "start_time": "2024-11-07T11:54:41.969Z"
   },
   {
    "duration": 51,
    "start_time": "2024-11-07T11:54:42.027Z"
   },
   {
    "duration": 60,
    "start_time": "2024-11-07T11:54:42.079Z"
   },
   {
    "duration": 48,
    "start_time": "2024-11-07T11:54:42.141Z"
   },
   {
    "duration": 53,
    "start_time": "2024-11-07T11:54:42.191Z"
   },
   {
    "duration": 50,
    "start_time": "2024-11-07T11:54:42.245Z"
   },
   {
    "duration": 50,
    "start_time": "2024-11-07T11:57:13.328Z"
   },
   {
    "duration": 55,
    "start_time": "2024-11-07T11:58:33.057Z"
   },
   {
    "duration": 521,
    "start_time": "2024-11-07T11:59:18.361Z"
   },
   {
    "duration": 9958,
    "start_time": "2024-11-07T11:59:18.883Z"
   },
   {
    "duration": 3,
    "start_time": "2024-11-07T11:59:28.842Z"
   },
   {
    "duration": 546,
    "start_time": "2024-11-07T11:59:28.846Z"
   },
   {
    "duration": 52,
    "start_time": "2024-11-07T11:59:29.394Z"
   },
   {
    "duration": 60,
    "start_time": "2024-11-07T11:59:29.447Z"
   },
   {
    "duration": 52,
    "start_time": "2024-11-07T11:59:29.508Z"
   },
   {
    "duration": 59,
    "start_time": "2024-11-07T11:59:29.561Z"
   },
   {
    "duration": 52,
    "start_time": "2024-11-07T11:59:29.622Z"
   },
   {
    "duration": 57,
    "start_time": "2024-11-07T11:59:29.677Z"
   },
   {
    "duration": 57,
    "start_time": "2024-11-07T11:59:29.735Z"
   },
   {
    "duration": 435,
    "start_time": "2024-11-07T12:00:39.454Z"
   },
   {
    "duration": 8472,
    "start_time": "2024-11-07T12:00:39.891Z"
   },
   {
    "duration": 3,
    "start_time": "2024-11-07T12:00:48.364Z"
   },
   {
    "duration": 583,
    "start_time": "2024-11-07T12:00:48.369Z"
   },
   {
    "duration": 48,
    "start_time": "2024-11-07T12:00:48.953Z"
   },
   {
    "duration": 60,
    "start_time": "2024-11-07T12:00:49.002Z"
   },
   {
    "duration": 52,
    "start_time": "2024-11-07T12:00:49.064Z"
   },
   {
    "duration": 57,
    "start_time": "2024-11-07T12:00:49.118Z"
   },
   {
    "duration": 49,
    "start_time": "2024-11-07T12:00:49.177Z"
   },
   {
    "duration": 53,
    "start_time": "2024-11-07T12:00:49.228Z"
   },
   {
    "duration": 51,
    "start_time": "2024-11-07T12:00:49.282Z"
   },
   {
    "duration": 500,
    "start_time": "2024-11-07T12:02:45.486Z"
   },
   {
    "duration": 7833,
    "start_time": "2024-11-07T12:02:45.987Z"
   },
   {
    "duration": 3,
    "start_time": "2024-11-07T12:02:53.822Z"
   },
   {
    "duration": 551,
    "start_time": "2024-11-07T12:02:53.827Z"
   },
   {
    "duration": 47,
    "start_time": "2024-11-07T12:02:54.379Z"
   },
   {
    "duration": 58,
    "start_time": "2024-11-07T12:02:54.427Z"
   },
   {
    "duration": 51,
    "start_time": "2024-11-07T12:02:54.486Z"
   },
   {
    "duration": 56,
    "start_time": "2024-11-07T12:02:54.538Z"
   },
   {
    "duration": 50,
    "start_time": "2024-11-07T12:02:54.596Z"
   },
   {
    "duration": 52,
    "start_time": "2024-11-07T12:02:54.648Z"
   },
   {
    "duration": 50,
    "start_time": "2024-11-07T12:02:54.701Z"
   },
   {
    "duration": 535,
    "start_time": "2024-11-07T15:45:55.451Z"
   },
   {
    "duration": 6275,
    "start_time": "2024-11-07T15:45:55.988Z"
   },
   {
    "duration": 3,
    "start_time": "2024-11-07T15:46:02.264Z"
   },
   {
    "duration": 167,
    "start_time": "2024-11-07T15:46:02.268Z"
   },
   {
    "duration": 9,
    "start_time": "2024-11-07T15:46:02.437Z"
   },
   {
    "duration": 31,
    "start_time": "2024-11-07T15:46:02.447Z"
   },
   {
    "duration": 11,
    "start_time": "2024-11-07T15:46:02.479Z"
   },
   {
    "duration": 46,
    "start_time": "2024-11-07T15:46:02.491Z"
   },
   {
    "duration": 16,
    "start_time": "2024-11-07T15:46:02.538Z"
   },
   {
    "duration": 12,
    "start_time": "2024-11-07T15:46:02.555Z"
   },
   {
    "duration": 41,
    "start_time": "2024-11-07T15:46:02.568Z"
   },
   {
    "duration": 22,
    "start_time": "2024-11-07T15:47:43.849Z"
   },
   {
    "duration": 21,
    "start_time": "2024-11-07T15:47:48.817Z"
   }
  ],
  "kernelspec": {
   "display_name": "Python [conda env:base] *",
   "language": "python",
   "name": "conda-base-py"
  },
  "language_info": {
   "codemirror_mode": {
    "name": "ipython",
    "version": 3
   },
   "file_extension": ".py",
   "mimetype": "text/x-python",
   "name": "python",
   "nbconvert_exporter": "python",
   "pygments_lexer": "ipython3",
   "version": "3.12.7"
  },
  "toc": {
   "base_numbering": 1,
   "nav_menu": {},
   "number_sections": true,
   "sideBar": true,
   "skip_h1_title": true,
   "title_cell": "Table of Contents",
   "title_sidebar": "Contents",
   "toc_cell": false,
   "toc_position": {
    "height": "calc(100% - 180px)",
    "left": "10px",
    "top": "150px",
    "width": "165px"
   },
   "toc_section_display": true,
   "toc_window_display": true
  }
 },
 "nbformat": 4,
 "nbformat_minor": 4
}
